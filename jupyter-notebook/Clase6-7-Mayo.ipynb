{
 "cells": [
  {
   "cell_type": "markdown",
   "id": "d7d41800",
   "metadata": {},
   "source": [
    "## Clase 6"
   ]
  },
  {
   "cell_type": "markdown",
   "id": "46251132",
   "metadata": {},
   "source": [
    "## Tipos de Variables\n",
    "\n",
    "Existen 4 tipos de variables en Python:\n",
    "\n",
    "    globales\n",
    "    locales\n",
    "    de instancia\n",
    "    de clase\n",
    "\n",
    "Las últimas dos se ocupan dentro de la creación de objetos (se verán mas adelante). Hoy, nos enfocaremos en las variables globales y locales.\n",
    "\n",
    "Una variable definida dentro de una función, al ser local, no puede ser accedida fuera de ésta (solo existe en el scope de la función donde se definió).\n"
   ]
  },
  {
   "cell_type": "code",
   "execution_count": 5,
   "id": "680fa188",
   "metadata": {},
   "outputs": [],
   "source": [
    "#Esto seria una varibale global\n",
    "nota_aprobacion = 6\n",
    "\n",
    "## Acá nota_aprobacion está definida en la función tambien, variable local\n",
    "def aprobado(promedio, nota_aprobacion = 4): \n",
    "    #print(nota_aprobacion)\n",
    "    if promedio >= nota_aprobacion:\n",
    "        status = True\n",
    "    else:\n",
    "        status = False\n",
    "    return status\n",
    "\n",
    "## LLamando a la funcion y guardando el resultado en la variable \"a\"\n",
    "#Esta tomado nota_aprobacion desde la variable local, es decir, el valor de 4.\n",
    "a = aprobado(5.6)\n"
   ]
  },
  {
   "cell_type": "code",
   "execution_count": 6,
   "id": "04705373",
   "metadata": {},
   "outputs": [
    {
     "name": "stdout",
     "output_type": "stream",
     "text": [
      "True\n"
     ]
    }
   ],
   "source": [
    "# Imprimiedo a\n",
    "print(a)\n",
    "\n"
   ]
  },
  {
   "cell_type": "code",
   "execution_count": 7,
   "id": "e625fd63",
   "metadata": {},
   "outputs": [
    {
     "name": "stdout",
     "output_type": "stream",
     "text": [
      "False\n"
     ]
    }
   ],
   "source": [
    "#Le estamos pasando el parametro de nota_aprobacion, definido como variable global\n",
    "print(aprobado(5.6, nota_aprobacion))"
   ]
  },
  {
   "cell_type": "code",
   "execution_count": 16,
   "id": "caa38241",
   "metadata": {},
   "outputs": [
    {
     "name": "stdout",
     "output_type": "stream",
     "text": [
      "6\n"
     ]
    }
   ],
   "source": [
    "#nota_aprobacion, acá vale 6 y considera el valor de definido como varible global\n",
    "print(nota_aprobacion)"
   ]
  },
  {
   "cell_type": "markdown",
   "id": "912ba12e",
   "metadata": {},
   "source": [
    "##### Varible local\n",
    "Una variable declarada dentro del cuerpo de la función o en el ámbito local se conoce como variable local."
   ]
  },
  {
   "cell_type": "code",
   "execution_count": 8,
   "id": "a1f7f91e",
   "metadata": {},
   "outputs": [
    {
     "name": "stdout",
     "output_type": "stream",
     "text": [
      "7\n"
     ]
    }
   ],
   "source": [
    "#Funcion quesuma dos numeros \n",
    "def sum_numbers(n1, n2):\n",
    "    result = n1 + n2\n",
    "    print(result)\n",
    "\n",
    "sum_numbers(2, 5)"
   ]
  },
  {
   "cell_type": "code",
   "execution_count": 10,
   "id": "d213f728",
   "metadata": {},
   "outputs": [
    {
     "ename": "NameError",
     "evalue": "name 'result' is not defined",
     "output_type": "error",
     "traceback": [
      "\u001b[0;31m---------------------------------------------------------------------------\u001b[0m",
      "\u001b[0;31mNameError\u001b[0m                                 Traceback (most recent call last)",
      "Input \u001b[0;32mIn [10]\u001b[0m, in \u001b[0;36m<cell line: 6>\u001b[0;34m()\u001b[0m\n\u001b[1;32m      3\u001b[0m     result \u001b[38;5;241m=\u001b[39m n1 \u001b[38;5;241m+\u001b[39m n2\n\u001b[1;32m      5\u001b[0m sum_numbers(\u001b[38;5;241m2\u001b[39m, \u001b[38;5;241m5\u001b[39m)\n\u001b[0;32m----> 6\u001b[0m \u001b[38;5;28mprint\u001b[39m(\u001b[43mresult\u001b[49m)\n",
      "\u001b[0;31mNameError\u001b[0m: name 'result' is not defined"
     ]
    }
   ],
   "source": [
    "## Que pasa si se intenta imprimir el resultado fuera de la funcion?\n",
    "def sum_numbers(n1, n2):\n",
    "    result = n1 + n2\n",
    "\n",
    "sum_numbers(2, 5)\n",
    "print(result)\n"
   ]
  },
  {
   "cell_type": "markdown",
   "id": "886bcf11",
   "metadata": {},
   "source": [
    "Cualquier variable que se cree dentro de una función es local a la misma función. La variable de resultado es local a la función sum_numbers(), pero fuera de la función no está definida."
   ]
  },
  {
   "cell_type": "markdown",
   "id": "669ddd2c",
   "metadata": {},
   "source": [
    "##### Esto se puede solucionar con `return`"
   ]
  },
  {
   "cell_type": "code",
   "execution_count": 11,
   "id": "8dfb9ab7",
   "metadata": {},
   "outputs": [
    {
     "name": "stdout",
     "output_type": "stream",
     "text": [
      "7\n"
     ]
    }
   ],
   "source": [
    "def sum_numbers(n1, n2):\n",
    "    result = n1 + n2\n",
    "    return result\n",
    "\n",
    "output = sum_numbers(2, 5)\n",
    "print(output)"
   ]
  },
  {
   "cell_type": "markdown",
   "id": "61374751",
   "metadata": {},
   "source": [
    "##### Varible global\n",
    "En Python, una variable declarada fuera de la función o en el ámbito global se conoce como variable global. Esto significa que se puede acceder a una variable global dentro o fuera de la función."
   ]
  },
  {
   "cell_type": "code",
   "execution_count": 13,
   "id": "cec86266",
   "metadata": {},
   "outputs": [
    {
     "name": "stdout",
     "output_type": "stream",
     "text": [
      "¿Cómo estás?\n"
     ]
    }
   ],
   "source": [
    "# message (mensaje) en este ejemplo  es una variable global y puede ser usada en cualquier parte del programa\n",
    "message = \"¿Cómo estás?\"\n",
    "\n",
    "def greet():\n",
    "    print(message)\n",
    "\n",
    "greet()"
   ]
  },
  {
   "cell_type": "markdown",
   "id": "4cb0d810",
   "metadata": {},
   "source": [
    "## Importanto Módulos\n",
    "\n",
    "En Python existen varias librerias que se pueden usar. Una muy conocida es la `math`.\n",
    "Cuando queremos usar cualquier librería debemos hacerlo con `import`. \n",
    "\n",
    "En la carpeta `Lib/site-packages` se almacenan los módulos y paquetes desarrollados por la comunidad (listados en pypi.org), los cuales podemos instalar vía pip, que es la herramienta oficial del lenguaje para gestionar paquetes de terceros.\n"
   ]
  },
  {
   "cell_type": "code",
   "execution_count": 14,
   "id": "7d1a29ef",
   "metadata": {},
   "outputs": [],
   "source": [
    "import math"
   ]
  },
  {
   "cell_type": "markdown",
   "id": "294b5a69",
   "metadata": {},
   "source": [
    "Si queremos saber la descripcion del modulo podemos usar help"
   ]
  },
  {
   "cell_type": "code",
   "execution_count": 15,
   "id": "826c9610",
   "metadata": {},
   "outputs": [
    {
     "name": "stdout",
     "output_type": "stream",
     "text": [
      "Help on module math:\n",
      "\n",
      "NAME\n",
      "    math\n",
      "\n",
      "MODULE REFERENCE\n",
      "    https://docs.python.org/3.8/library/math\n",
      "    \n",
      "    The following documentation is automatically generated from the Python\n",
      "    source files.  It may be incomplete, incorrect or include features that\n",
      "    are considered implementation detail and may vary between Python\n",
      "    implementations.  When in doubt, consult the module reference at the\n",
      "    location listed above.\n",
      "\n",
      "DESCRIPTION\n",
      "    This module provides access to the mathematical functions\n",
      "    defined by the C standard.\n",
      "\n",
      "FUNCTIONS\n",
      "    acos(x, /)\n",
      "        Return the arc cosine (measured in radians) of x.\n",
      "    \n",
      "    acosh(x, /)\n",
      "        Return the inverse hyperbolic cosine of x.\n",
      "    \n",
      "    asin(x, /)\n",
      "        Return the arc sine (measured in radians) of x.\n",
      "    \n",
      "    asinh(x, /)\n",
      "        Return the inverse hyperbolic sine of x.\n",
      "    \n",
      "    atan(x, /)\n",
      "        Return the arc tangent (measured in radians) of x.\n",
      "    \n",
      "    atan2(y, x, /)\n",
      "        Return the arc tangent (measured in radians) of y/x.\n",
      "        \n",
      "        Unlike atan(y/x), the signs of both x and y are considered.\n",
      "    \n",
      "    atanh(x, /)\n",
      "        Return the inverse hyperbolic tangent of x.\n",
      "    \n",
      "    ceil(x, /)\n",
      "        Return the ceiling of x as an Integral.\n",
      "        \n",
      "        This is the smallest integer >= x.\n",
      "    \n",
      "    comb(n, k, /)\n",
      "        Number of ways to choose k items from n items without repetition and without order.\n",
      "        \n",
      "        Evaluates to n! / (k! * (n - k)!) when k <= n and evaluates\n",
      "        to zero when k > n.\n",
      "        \n",
      "        Also called the binomial coefficient because it is equivalent\n",
      "        to the coefficient of k-th term in polynomial expansion of the\n",
      "        expression (1 + x)**n.\n",
      "        \n",
      "        Raises TypeError if either of the arguments are not integers.\n",
      "        Raises ValueError if either of the arguments are negative.\n",
      "    \n",
      "    copysign(x, y, /)\n",
      "        Return a float with the magnitude (absolute value) of x but the sign of y.\n",
      "        \n",
      "        On platforms that support signed zeros, copysign(1.0, -0.0)\n",
      "        returns -1.0.\n",
      "    \n",
      "    cos(x, /)\n",
      "        Return the cosine of x (measured in radians).\n",
      "    \n",
      "    cosh(x, /)\n",
      "        Return the hyperbolic cosine of x.\n",
      "    \n",
      "    degrees(x, /)\n",
      "        Convert angle x from radians to degrees.\n",
      "    \n",
      "    dist(p, q, /)\n",
      "        Return the Euclidean distance between two points p and q.\n",
      "        \n",
      "        The points should be specified as sequences (or iterables) of\n",
      "        coordinates.  Both inputs must have the same dimension.\n",
      "        \n",
      "        Roughly equivalent to:\n",
      "            sqrt(sum((px - qx) ** 2.0 for px, qx in zip(p, q)))\n",
      "    \n",
      "    erf(x, /)\n",
      "        Error function at x.\n",
      "    \n",
      "    erfc(x, /)\n",
      "        Complementary error function at x.\n",
      "    \n",
      "    exp(x, /)\n",
      "        Return e raised to the power of x.\n",
      "    \n",
      "    expm1(x, /)\n",
      "        Return exp(x)-1.\n",
      "        \n",
      "        This function avoids the loss of precision involved in the direct evaluation of exp(x)-1 for small x.\n",
      "    \n",
      "    fabs(x, /)\n",
      "        Return the absolute value of the float x.\n",
      "    \n",
      "    factorial(x, /)\n",
      "        Find x!.\n",
      "        \n",
      "        Raise a ValueError if x is negative or non-integral.\n",
      "    \n",
      "    floor(x, /)\n",
      "        Return the floor of x as an Integral.\n",
      "        \n",
      "        This is the largest integer <= x.\n",
      "    \n",
      "    fmod(x, y, /)\n",
      "        Return fmod(x, y), according to platform C.\n",
      "        \n",
      "        x % y may differ.\n",
      "    \n",
      "    frexp(x, /)\n",
      "        Return the mantissa and exponent of x, as pair (m, e).\n",
      "        \n",
      "        m is a float and e is an int, such that x = m * 2.**e.\n",
      "        If x is 0, m and e are both 0.  Else 0.5 <= abs(m) < 1.0.\n",
      "    \n",
      "    fsum(seq, /)\n",
      "        Return an accurate floating point sum of values in the iterable seq.\n",
      "        \n",
      "        Assumes IEEE-754 floating point arithmetic.\n",
      "    \n",
      "    gamma(x, /)\n",
      "        Gamma function at x.\n",
      "    \n",
      "    gcd(x, y, /)\n",
      "        greatest common divisor of x and y\n",
      "    \n",
      "    hypot(...)\n",
      "        hypot(*coordinates) -> value\n",
      "        \n",
      "        Multidimensional Euclidean distance from the origin to a point.\n",
      "        \n",
      "        Roughly equivalent to:\n",
      "            sqrt(sum(x**2 for x in coordinates))\n",
      "        \n",
      "        For a two dimensional point (x, y), gives the hypotenuse\n",
      "        using the Pythagorean theorem:  sqrt(x*x + y*y).\n",
      "        \n",
      "        For example, the hypotenuse of a 3/4/5 right triangle is:\n",
      "        \n",
      "            >>> hypot(3.0, 4.0)\n",
      "            5.0\n",
      "    \n",
      "    isclose(a, b, *, rel_tol=1e-09, abs_tol=0.0)\n",
      "        Determine whether two floating point numbers are close in value.\n",
      "        \n",
      "          rel_tol\n",
      "            maximum difference for being considered \"close\", relative to the\n",
      "            magnitude of the input values\n",
      "          abs_tol\n",
      "            maximum difference for being considered \"close\", regardless of the\n",
      "            magnitude of the input values\n",
      "        \n",
      "        Return True if a is close in value to b, and False otherwise.\n",
      "        \n",
      "        For the values to be considered close, the difference between them\n",
      "        must be smaller than at least one of the tolerances.\n",
      "        \n",
      "        -inf, inf and NaN behave similarly to the IEEE 754 Standard.  That\n",
      "        is, NaN is not close to anything, even itself.  inf and -inf are\n",
      "        only close to themselves.\n",
      "    \n",
      "    isfinite(x, /)\n",
      "        Return True if x is neither an infinity nor a NaN, and False otherwise.\n",
      "    \n",
      "    isinf(x, /)\n",
      "        Return True if x is a positive or negative infinity, and False otherwise.\n",
      "    \n",
      "    isnan(x, /)\n",
      "        Return True if x is a NaN (not a number), and False otherwise.\n",
      "    \n",
      "    isqrt(n, /)\n",
      "        Return the integer part of the square root of the input.\n",
      "    \n",
      "    ldexp(x, i, /)\n",
      "        Return x * (2**i).\n",
      "        \n",
      "        This is essentially the inverse of frexp().\n",
      "    \n",
      "    lgamma(x, /)\n",
      "        Natural logarithm of absolute value of Gamma function at x.\n",
      "    \n",
      "    log(...)\n",
      "        log(x, [base=math.e])\n",
      "        Return the logarithm of x to the given base.\n",
      "        \n",
      "        If the base not specified, returns the natural logarithm (base e) of x.\n",
      "    \n",
      "    log10(x, /)\n",
      "        Return the base 10 logarithm of x.\n",
      "    \n",
      "    log1p(x, /)\n",
      "        Return the natural logarithm of 1+x (base e).\n",
      "        \n",
      "        The result is computed in a way which is accurate for x near zero.\n",
      "    \n",
      "    log2(x, /)\n",
      "        Return the base 2 logarithm of x.\n",
      "    \n",
      "    modf(x, /)\n",
      "        Return the fractional and integer parts of x.\n",
      "        \n",
      "        Both results carry the sign of x and are floats.\n",
      "    \n",
      "    perm(n, k=None, /)\n",
      "        Number of ways to choose k items from n items without repetition and with order.\n",
      "        \n",
      "        Evaluates to n! / (n - k)! when k <= n and evaluates\n",
      "        to zero when k > n.\n",
      "        \n",
      "        If k is not specified or is None, then k defaults to n\n",
      "        and the function returns n!.\n",
      "        \n",
      "        Raises TypeError if either of the arguments are not integers.\n",
      "        Raises ValueError if either of the arguments are negative.\n",
      "    \n",
      "    pow(x, y, /)\n",
      "        Return x**y (x to the power of y).\n",
      "    \n",
      "    prod(iterable, /, *, start=1)\n",
      "        Calculate the product of all the elements in the input iterable.\n",
      "        \n",
      "        The default start value for the product is 1.\n",
      "        \n",
      "        When the iterable is empty, return the start value.  This function is\n",
      "        intended specifically for use with numeric values and may reject\n",
      "        non-numeric types.\n",
      "    \n",
      "    radians(x, /)\n",
      "        Convert angle x from degrees to radians.\n",
      "    \n",
      "    remainder(x, y, /)\n",
      "        Difference between x and the closest integer multiple of y.\n",
      "        \n",
      "        Return x - n*y where n*y is the closest integer multiple of y.\n",
      "        In the case where x is exactly halfway between two multiples of\n",
      "        y, the nearest even value of n is used. The result is always exact.\n",
      "    \n",
      "    sin(x, /)\n",
      "        Return the sine of x (measured in radians).\n",
      "    \n",
      "    sinh(x, /)\n",
      "        Return the hyperbolic sine of x.\n",
      "    \n",
      "    sqrt(x, /)\n",
      "        Return the square root of x.\n",
      "    \n",
      "    tan(x, /)\n",
      "        Return the tangent of x (measured in radians).\n",
      "    \n",
      "    tanh(x, /)\n",
      "        Return the hyperbolic tangent of x.\n",
      "    \n",
      "    trunc(x, /)\n",
      "        Truncates the Real x to the nearest Integral toward 0.\n",
      "        \n",
      "        Uses the __trunc__ magic method.\n",
      "\n",
      "DATA\n",
      "    e = 2.718281828459045\n",
      "    inf = inf\n",
      "    nan = nan\n",
      "    pi = 3.141592653589793\n",
      "    tau = 6.283185307179586\n",
      "\n",
      "FILE\n",
      "    /Users/malegria/miniconda3/lib/python3.8/lib-dynload/math.cpython-38-darwin.so\n",
      "\n",
      "\n"
     ]
    }
   ],
   "source": [
    "help(math)"
   ]
  },
  {
   "cell_type": "code",
   "execution_count": 16,
   "id": "452b80d9",
   "metadata": {},
   "outputs": [
    {
     "name": "stdout",
     "output_type": "stream",
     "text": [
      "Help on built-in function sqrt in module math:\n",
      "\n",
      "sqrt(x, /)\n",
      "    Return the square root of x.\n",
      "\n"
     ]
    }
   ],
   "source": [
    "#podemos perguntar por alguna funcion en particular\n",
    "#en este caso la raíz cuadrada\n",
    "help(math.sqrt)"
   ]
  },
  {
   "cell_type": "markdown",
   "id": "9877f7c1",
   "metadata": {},
   "source": [
    "## Excepciones\n",
    "Las excepciones son **errores en la ejecución de un programa** que hacen que el programa termine de forma inesperada. Normalmente ocurren debido a un uso indebido de los datos (p.ej. una división entre cero). La manera de controlar las excepciones es agrupando el código en 2 bloques (más 1 opcional):\n",
    "\n",
    "- `try`: agrupa el bloque de código en el que se pueda dar una excepción.\n",
    "- `catch`: contiene el código a ejecutar en caso de que la excepción haya\n",
    "   sido lanzada.\n",
    "- `finally` (opcional): permite ejecutar un bloque de    código siempre,\n",
    "   se haya capturado o no una excepción.\n",
    "   \n",
    "```python\n",
    "try:\n",
    "\tnumero = int(input(\"Introduce un número: \"))\n",
    "\tdividendo = 150\n",
    "\tresultado = dividendo / numero\n",
    "\tprint(resultado)\n",
    "except ValueError:\n",
    "\tprint(\"Número inválido\")\n",
    "except ZeroDivisionError:\n",
    "\tprint(\"No se puede dividir entre 0\")\n",
    "finally:\n",
    "\tprint(\"Ejecutando finally antes de salir\")\n",
    "```\n",
    "\n",
    "También es posible lanzar excepciones de forma controlada mediante la sentencia raise.\n",
    "\n",
    "```python\n",
    "    raise NameError('¡Soy una excepción!')\n",
    "```\n"
   ]
  },
  {
   "cell_type": "code",
   "execution_count": 17,
   "id": "a057d1e0",
   "metadata": {},
   "outputs": [
    {
     "ename": "ZeroDivisionError",
     "evalue": "division by zero",
     "output_type": "error",
     "traceback": [
      "\u001b[0;31m---------------------------------------------------------------------------\u001b[0m",
      "\u001b[0;31mZeroDivisionError\u001b[0m                         Traceback (most recent call last)",
      "Input \u001b[0;32mIn [17]\u001b[0m, in \u001b[0;36m<cell line: 3>\u001b[0;34m()\u001b[0m\n\u001b[1;32m      1\u001b[0m dividendo \u001b[38;5;241m=\u001b[39m \u001b[38;5;241m5\u001b[39m\n\u001b[1;32m      2\u001b[0m divisor \u001b[38;5;241m=\u001b[39m \u001b[38;5;241m0\u001b[39m\n\u001b[0;32m----> 3\u001b[0m \u001b[43mdividendo\u001b[49m\u001b[43m \u001b[49m\u001b[38;5;241;43m/\u001b[39;49m\u001b[43m \u001b[49m\u001b[43mdivisor\u001b[49m\n",
      "\u001b[0;31mZeroDivisionError\u001b[0m: division by zero"
     ]
    }
   ],
   "source": [
    "dividendo = 5\n",
    "divisor = 0\n",
    "dividendo / divisor"
   ]
  },
  {
   "cell_type": "markdown",
   "id": "2955976b",
   "metadata": {},
   "source": [
    "En este caso, se levantó la excepción `ZeroDivisionError` cuando se quiso hacer la división por cero. Para evitar que se levante la excepción y se detenga la ejecución del programa, se utiliza el bloque `try-except`."
   ]
  },
  {
   "cell_type": "code",
   "execution_count": 19,
   "id": "046b9e2f",
   "metadata": {},
   "outputs": [
    {
     "name": "stdout",
     "output_type": "stream",
     "text": [
      "No se permite la division por cero\n"
     ]
    }
   ],
   "source": [
    "try:\n",
    "    cociente = dividendo / divisor\n",
    "except ZeroDivisionError:\n",
    "    print(\"No se permite la division por cero\")"
   ]
  },
  {
   "cell_type": "code",
   "execution_count": 22,
   "id": "0062dd7c",
   "metadata": {},
   "outputs": [
    {
     "name": "stdout",
     "output_type": "stream",
     "text": [
      "Introduce un número: 3\n",
      "50.0\n",
      "Ejecutando correctamente. Fin\n"
     ]
    }
   ],
   "source": [
    "try:\n",
    "    numero = int(input(\"Introduce un número: \"))\n",
    "    dividendo = 150\n",
    "    resultado = dividendo / numero\n",
    "    print(resultado)\n",
    "except ValueError:\n",
    "    print(\"Número inválido. Por favor ingresar número entero\")\n",
    "except ZeroDivisionError:\n",
    "    print(\"No se puede dividir entre 0\")\n",
    "finally:\n",
    "    print(\"Ejecutando correctamente. Fin\")"
   ]
  },
  {
   "cell_type": "markdown",
   "id": "4829fb1e",
   "metadata": {},
   "source": [
    "### Entonces:\n",
    "```\n",
    "try:\n",
    "    # aquí ponemos el código que puede lanzar excepciones\n",
    "except IOError:\n",
    "    # entrará aquí en caso que se haya producido\n",
    "    # una excepción IOError que es cuando se leen archivos de entrada y salida\n",
    "except ZeroDivisionError:\n",
    "    # entrará aquí en caso que se haya producido\n",
    "    # una excepción ZeroDivisionError\n",
    "except:\n",
    "    # entrará aquí en caso que se haya producido\n",
    "    # una excepción que no corresponda a ninguno\n",
    "    # de los tipos especificados en los except previos\n",
    " ```\n",
    " \n",
    " ### Otro caso\n",
    " \n",
    " Se pide al usuario una entrada hasta que ingrese un entero válido, pero permite al usuario interrumpir el programa (usando Control-C o lo que soporte el sistema operativo)."
   ]
  },
  {
   "cell_type": "code",
   "execution_count": 23,
   "id": "15df00ef",
   "metadata": {},
   "outputs": [
    {
     "name": "stdout",
     "output_type": "stream",
     "text": [
      "Please enter a number: p\n",
      "Oops!  That was no valid number.  Try again...\n",
      "Please enter a number: 9.0\n",
      "Oops!  That was no valid number.  Try again...\n",
      "Please enter a number: ?\n",
      "Oops!  That was no valid number.  Try again...\n",
      "Please enter a number: 0oi8\n",
      "Oops!  That was no valid number.  Try again...\n",
      "Please enter a number: 7\n"
     ]
    }
   ],
   "source": [
    "while True:\n",
    "    try:\n",
    "        x = int(input(\"Please enter a number: \"))\n",
    "        break\n",
    "    except ValueError:\n",
    "        print(\"Oops!  That was no valid number.  Try again...\")"
   ]
  },
  {
   "cell_type": "markdown",
   "id": "0eef1a62",
   "metadata": {},
   "source": [
    "Estos casos también se pueden hacer en las funciones\n"
   ]
  },
  {
   "cell_type": "code",
   "execution_count": 24,
   "id": "8ced5f04",
   "metadata": {},
   "outputs": [
    {
     "name": "stdout",
     "output_type": "stream",
     "text": [
      "Error! No se permite un valor nulo (con un print)\n"
     ]
    }
   ],
   "source": [
    "##Aqui mostramos un ejemplo con un print común....\n",
    "def mi_funcion(algo=None):\n",
    "    if algo is None:\n",
    "        print(\"Error! No se permite un valor nulo (con un print)\")\n",
    "\n",
    "mi_funcion()\n",
    "\n"
   ]
  },
  {
   "cell_type": "markdown",
   "id": "ebf204ad",
   "metadata": {},
   "source": [
    "#### Instrucción raise\n",
    "Es mas elegante usar algo así dentro de una función"
   ]
  },
  {
   "cell_type": "code",
   "execution_count": 25,
   "id": "00565b5e",
   "metadata": {},
   "outputs": [
    {
     "name": "stdout",
     "output_type": "stream",
     "text": [
      "Error! No se permite un valor nulo (desde la excepción)\n"
     ]
    }
   ],
   "source": [
    "def mi_funcion(algo=None):\n",
    "    try:\n",
    "        if algo is None:\n",
    "            raise ValueError(\"Error! No se permite un valor nulo\")\n",
    "    except ValueError:\n",
    "        print(\"Error! No se permite un valor nulo (desde la excepción)\")\n",
    "\n",
    "mi_funcion()\n"
   ]
  },
  {
   "cell_type": "markdown",
   "id": "a74fd780",
   "metadata": {},
   "source": [
    "Gracias a raise podemos lanzar un error manual pasándole el identificador. Luego simplemente podemos añadir un except para tratar esta excepción que hemos lanzado.\n",
    "\n",
    "Consideremos algo asi:"
   ]
  },
  {
   "cell_type": "code",
   "execution_count": 26,
   "id": "87b3e306",
   "metadata": {},
   "outputs": [
    {
     "name": "stdout",
     "output_type": "stream",
     "text": [
      "Escribe tu edad: y\n"
     ]
    },
    {
     "ename": "ValueError",
     "evalue": "invalid literal for int() with base 10: 'y'",
     "output_type": "error",
     "traceback": [
      "\u001b[0;31m---------------------------------------------------------------------------\u001b[0m",
      "\u001b[0;31mValueError\u001b[0m                                Traceback (most recent call last)",
      "Input \u001b[0;32mIn [26]\u001b[0m, in \u001b[0;36m<cell line: 1>\u001b[0;34m()\u001b[0m\n\u001b[0;32m----> 1\u001b[0m edad \u001b[38;5;241m=\u001b[39m \u001b[38;5;28;43mint\u001b[39;49m\u001b[43m(\u001b[49m\u001b[38;5;28;43minput\u001b[39;49m\u001b[43m(\u001b[49m\u001b[38;5;124;43m\"\u001b[39;49m\u001b[38;5;124;43mEscribe tu edad: \u001b[39;49m\u001b[38;5;124;43m\"\u001b[39;49m\u001b[43m)\u001b[49m\u001b[43m)\u001b[49m\n\u001b[1;32m      3\u001b[0m \u001b[38;5;28;01mif\u001b[39;00m edad \u001b[38;5;241m>\u001b[39m\u001b[38;5;241m=\u001b[39m \u001b[38;5;241m18\u001b[39m:\n\u001b[1;32m      4\u001b[0m     \u001b[38;5;28mprint\u001b[39m(\u001b[38;5;124m\"\u001b[39m\u001b[38;5;124mEres un adulto.\u001b[39m\u001b[38;5;124m\"\u001b[39m)\n",
      "\u001b[0;31mValueError\u001b[0m: invalid literal for int() with base 10: 'y'"
     ]
    }
   ],
   "source": [
    "\n",
    "\n",
    "edad = int(input(\"Escribe tu edad: \"))\n",
    "\n",
    "if edad >= 18:\n",
    "    print(\"Eres un adulto.\")\n",
    "else:\n",
    "    print(\"Aún no eres un adulto.\")\n"
   ]
  },
  {
   "cell_type": "markdown",
   "id": "afb1780e",
   "metadata": {},
   "source": [
    "Aquí pronto vemos cuál es el problema. Si el usuario escribe cualquier cosa que no sea un número en la consola, el programa arrojará una excepción y terminará. Lo ideal sería que cuando eso ocurre, en lugar de terminar, el mismo programa vuelva a solicitar que el usuario ingrese su edad (pues bien podría haberse equivocado)"
   ]
  },
  {
   "cell_type": "code",
   "execution_count": 27,
   "id": "638b95e3",
   "metadata": {},
   "outputs": [
    {
     "name": "stdout",
     "output_type": "stream",
     "text": [
      "Escribe tu edad: p\n",
      "¡Debes ingresar un número entero!\n",
      "Escribe tu edad: ?\n",
      "¡Debes ingresar un número entero!\n",
      "Escribe tu edad: 33.8\n",
      "¡Debes ingresar un número entero!\n",
      "Escribe tu edad: 33\n",
      "Eres un adulto.\n"
     ]
    }
   ],
   "source": [
    "while True:\n",
    "    try:\n",
    "        edad = int(input(\"Escribe tu edad: \"))\n",
    "        break\n",
    "    except ValueError:\n",
    "        print(\"¡Debes ingresar un número entero!\")\n",
    "\n",
    "if edad >= 18:\n",
    "    print(\"Eres un adulto.\")\n",
    "else:\n",
    "    print(\"Aún no eres un adulto.\")"
   ]
  },
  {
   "cell_type": "markdown",
   "id": "bc9f7377",
   "metadata": {},
   "source": [
    "## HOY es día de Ejercicios, vamos a practicar.\n",
    "### EJ1: Secuencia Fibonacci en Python\n",
    "\n",
    "La secuencia de Fibonacci es una serie común y de uso frecuente en matemáticas. Se muestra a continuación.\n",
    "\n",
    "0, 1, 1, 2, 3, 5, 8, 13, 21, 34, 55, 89, 144, 233....\n",
    "\n",
    "Fibonacci es la suma de los dos números anteriores y se puede mostrar matemáticamente como `Fn = Fn-1 + Fn-2` El primer y segundo elementos de la serie son 0 y 1, respectivamente.\n",
    "\n",
    "Se pide crear una funcion que permita imprimir la secuencia Fibonacci. Esta función debe tener como parametro input un  numero que indique que la secuencia se imprimira hasta que no supere ese numero entregado.\n",
    "\n",
    "```\n",
    "Ejemplo\n",
    "fib(13)\n",
    "\n",
    ">0 1 1 2 3 5 8 \n",
    "```\n"
   ]
  },
  {
   "cell_type": "code",
   "execution_count": 35,
   "id": "160ca603",
   "metadata": {},
   "outputs": [],
   "source": [
    "def fib(n):\n",
    "     a, b = 0, 1\n",
    "    #Va a imprimir los valores arrojados por la variable a \n",
    "    #en repetidas veces mientras la condición sea a < n, es decir verdadero \n",
    "     while a < n:\n",
    "         # linea que imprime los valores de la sucesión de Fibonacci.\n",
    "         print(a, end=' ')\n",
    "         #Los valores de a y b son obtenidos utilizando la asignación paralela\n",
    "         a, b = b, a+b\n",
    "     #print()\n"
   ]
  },
  {
   "cell_type": "code",
   "execution_count": 36,
   "id": "aa0af629",
   "metadata": {},
   "outputs": [
    {
     "name": "stdout",
     "output_type": "stream",
     "text": [
      "0 1 1 2 3 5 8 13 21 34 55 89 144 233 "
     ]
    }
   ],
   "source": [
    "fib(250)"
   ]
  },
  {
   "cell_type": "code",
   "execution_count": 41,
   "id": "c1469427",
   "metadata": {},
   "outputs": [
    {
     "name": "stdout",
     "output_type": "stream",
     "text": [
      "0 1 1 2 3 5 8 13 21 34 55 89 144 233 377 610 "
     ]
    }
   ],
   "source": [
    "##Otra forma que podríamos mostar la secuencia Fibonacci es\n",
    "## mostarla pero los 16 primeros digitos de la secuencia\n",
    "\n",
    "def fibonacci(n):\n",
    "    if n > 1:\n",
    "        return fibonacci(n-1) + fibonacci(n-2)\n",
    "    return n\n",
    "\n",
    "##Aqui usando range, podemos cambiar 16 por cuantos digitos queremos que se muestre\n",
    "for i in range(16):\n",
    "    print(fibonacci(i),end=' ')"
   ]
  },
  {
   "cell_type": "markdown",
   "id": "e753d2a8",
   "metadata": {},
   "source": [
    "### EJ2: Sumar elementos de una lista\n",
    "Realizar una función que reciba una lista y devuelva la suma de sus elementos"
   ]
  },
  {
   "cell_type": "code",
   "execution_count": 42,
   "id": "e4a464d8",
   "metadata": {},
   "outputs": [
    {
     "name": "stdout",
     "output_type": "stream",
     "text": [
      "Los elementos de la lista suma:\n",
      "180\n"
     ]
    }
   ],
   "source": [
    "#definimos una funcion suma: suma numeros de una listar\n",
    "def suma_lista(lista):\n",
    "    suma = 0\n",
    "    for i in lista:\n",
    "        suma += i\n",
    "    return suma\n",
    "\n",
    "\n",
    "#Usar la funcion\n",
    "lista = [54,12,99,15]\n",
    "print (\"Los elementos de la lista suma:\")\n",
    "print(suma_lista(lista))\n",
    "\n",
    "## Salida\n",
    "# Los elementos de la lista suman:\n",
    "# 180"
   ]
  },
  {
   "cell_type": "markdown",
   "id": "d4d06309",
   "metadata": {},
   "source": [
    "### EJ3: Potencias\n",
    "\n",
    "Escribe un programa que dados dos números, uno real (base) y un entero positivo (exponente), saque por pantalla el resultado de la potencia. No se puede utilizar el operador de potencia.\n",
    "\n",
    "El resultado de elevar una base a un exponente entero es:\n",
    "\n",
    "    Si el exponente es 0 el resultado es 1.\n",
    "    Si el exponente es positivo, la base multiplicada por si misma tantas veces como el valor del exponente.\n",
    "    Si el exponente es negativo, el inverso de la base elevada al valor absoluto del exponente.\n",
    "\n"
   ]
  },
  {
   "cell_type": "code",
   "execution_count": 43,
   "id": "abc07544",
   "metadata": {},
   "outputs": [
    {
     "name": "stdout",
     "output_type": "stream",
     "text": [
      "Base: 2\n",
      "Exponente: 0\n",
      "\n",
      "2.0 elevado a 0 es 1\n"
     ]
    }
   ],
   "source": [
    "# Inicializamos variables\n",
    "a = 1\n",
    "\n",
    "# Pedimos datos\n",
    "base = float(input(\"Base: \"))\n",
    "exponent = int(input(\"Exponente: \"))\n",
    "\n",
    "# Cálculos\n",
    "for _ in range(abs(exponent)): # en Python podemos colocar _ si no hace falta variable de control\n",
    "    a *= base\n",
    "\n",
    "# Si el exponente es negativo calculamos la inversa\n",
    "if exponent < 0:\n",
    "    a = 1 / a\n",
    "\n",
    "# Imprimir la salida\n",
    "print(f\"\\n{base} elevado a {exponent} es {a}\")"
   ]
  },
  {
   "cell_type": "markdown",
   "id": "0b5b83bf",
   "metadata": {},
   "source": [
    "### EJ4: Contar palabras\n",
    "Pedir una frase por teclado y contar cuantas palabras tiene suponiendo que están separadas por espacios."
   ]
  },
  {
   "cell_type": "code",
   "execution_count": 44,
   "id": "44af9b23",
   "metadata": {},
   "outputs": [
    {
     "name": "stdout",
     "output_type": "stream",
     "text": [
      "Introduce una frase: La casa de mi madre es de color verde\n",
      "Número de palabras: 9\n"
     ]
    }
   ],
   "source": [
    "# Petición de datos\n",
    "user_string = input(\"Introduce una frase: \")\n",
    "\n",
    "# Proceso\n",
    "previous_char = \" \"\n",
    "word_counter = 0\n",
    "for current_char in user_string:\n",
    "    if current_char != \" \" and previous_char == \" \":\n",
    "        word_counter += 1\n",
    "    previous_char = current_char\n",
    "\n",
    "# Salida\n",
    "print(\"Número de palabras:\", word_counter)"
   ]
  },
  {
   "cell_type": "markdown",
   "id": "084d35d0",
   "metadata": {},
   "source": [
    "### EJ5: Usando Diccionarios\n",
    "Escribe un programa que lea una cadena y devuelva un diccionario con la cantidad de apariciones de cada palabra en la cadena. Por ejemplo, si recibe \"Qué lindo día que hace hoy\" debe devolver: 'que': 2, 'lindo': 1, 'día': 1, 'hace': 1, 'hoy': 1"
   ]
  },
  {
   "cell_type": "code",
   "execution_count": 47,
   "id": "0e0a3ad2",
   "metadata": {},
   "outputs": [
    {
     "name": "stdout",
     "output_type": "stream",
     "text": [
      "Frase:do re mi fa sol do re \n",
      "do = 2\n",
      "re = 2\n",
      "mi = 1\n",
      "fa = 1\n",
      "sol = 1\n",
      " = 1\n"
     ]
    }
   ],
   "source": [
    "#Se crea un diccionario vacio para guardar la cantidad de apariciones de cada palabra\n",
    "dict = {}\n",
    "\n",
    "#Se pide la frase\n",
    "frase = input(\"Frase:\")\n",
    "#La frase se guarda en una lista, donde cada elemento de la lista es una palabra, ya que\n",
    "#al usar split(\" \"), lo que hace es separar los elementos contenidos en la variable frase\n",
    "# por cada espacio que vea y guardalos en una lista\n",
    "lista_palabras=frase.split(\" \")\n",
    "\n",
    "#Si quiere ver como se guardan las palabras en una lista, descomente la siguiente linea\n",
    "#print(lista_palabras)\n",
    "\n",
    "#Recorre la lista para ir guardando y contando las palabras en el diccionario\n",
    "for palabra in lista_palabras:\n",
    "    #Si la palabra ya esta en el diccionario, la suma\n",
    "    if palabra in dict:\n",
    "        dict[palabra]+=1\n",
    "    #Caso contrario (si no está) la agrega al diccionario y le asigna valor 1\n",
    "    else:\n",
    "        dict[palabra]=1\n",
    "\n",
    "#Cuando termina de ingresar las palabras al diccionario\n",
    "#se recorre el diccionario para obtener el campo y el valor y se imprime\n",
    "for campo,valor in dict.items():\n",
    "    print (campo,\"=\",valor)\n"
   ]
  },
  {
   "cell_type": "markdown",
   "id": "0e3ea5ba",
   "metadata": {},
   "source": [
    "### EJ6: Palabras2morse \n",
    "Tenemos guardado en un diccionario los códigos morse corespondientes a cada caracter. Escribir un programa que lea una palabra y la muestre usando el código morse."
   ]
  },
  {
   "cell_type": "code",
   "execution_count": 52,
   "id": "e855730b",
   "metadata": {},
   "outputs": [
    {
     "name": "stdout",
     "output_type": "stream",
     "text": [
      "Palabra:melissa\n",
      "-- . .-.. .. ... ... .-\n"
     ]
    }
   ],
   "source": [
    "## Se crea el diccionario que vamos a usar después\n",
    "\n",
    "codigo = {\n",
    "    'A': '.-',     'B': '-...',    'C': '-.-.',\n",
    "    'D': '-..',    'E': '.',       'F': '..-.',\n",
    "    'G': '--.',    'H': '....',    'I': '..',\n",
    "    'J': '.---',   'K': '-.-',     'L': '.-..',\n",
    "    'M': '--',     'N': '-.',      'O': '---',\n",
    "    'P': '.--.',   'Q': '--.-',    'R': '.-.',\n",
    "    'S': '...',    'T': '-',       'U': '..-',\n",
    "    'V': '...-',   'W': '.--',     'X': '-..-',\n",
    "    'Y': '-.--',   'Z': '--..',    '1': '.----',\n",
    "    '2': '..---',  '3': '...--',   '4': '....-',\n",
    "    '5': '.....',  '6': '-....',   '7': '--...',\n",
    "    '8': '---..',  '9': '----.',   '0': '-----',\n",
    "    '.': '.-.-.-', ',': '--..--',  ':': '---...',\n",
    "    ';': '-.-.-.', '?': '..--..',  '!': '-.-.--',\n",
    "    '\"': '.-..-.', \"'\": '.----.',  '+': '.-.-.',\n",
    "    '-': '-....-', '/': '-..-.',   '=': '-...-',\n",
    "    '_': '..--.-', '$': '...-..-', '@': '.--.-.',\n",
    "    '&': '.-...',  '(': '-.--.',   ')': '-.--.-'\n",
    "}\n",
    "\n",
    "#Se pide la palabra y se guarda\n",
    "palabra = input(\"Palabra:\")\n",
    "#Se crea una lista vacia que almacenará los valores (en morse)de cada letra, número caracter de la palabra entregada\n",
    "lista_codigos = []\n",
    "#Se lee la palabra caracter por caracter\n",
    "for caracter in palabra:\n",
    "    #Como sabemos que nuestro diccionario esta en mayúsculas, si el usurio ingresa minúsculas no\n",
    "    # les va a poder asignar un valor, ya que la clave tiene que ser exactamente igual\n",
    "    #Se soluciona pasando la palabra a mayuscula en caso que sea minúscula\n",
    "    if caracter.islower():\n",
    "        caracter=caracter.upper()\n",
    "\n",
    "    #Vamos llenado la lista con el correspondiente valor en morse (valor) de cada caracter (llave)   \n",
    "    lista_codigos.append(codigo[caracter])\n",
    "\n",
    "#Si quiere ver como queda la lista con cada valor del caracter descomentar el sgte print\n",
    "#print(lista_codigos)\n",
    "#Para imprimir el código completo como una frase podemos hacerlo con join\n",
    "print (\" \".join(lista_codigos))\n",
    "\n",
    "## Para saber mas sobre splir y join: https://blog.carreralinux.com.ar/2017/07/uso-split-y-join-python/"
   ]
  },
  {
   "cell_type": "markdown",
   "id": "621f59f3",
   "metadata": {},
   "source": [
    "### EJ7:  Opciones de un Menu\n",
    "Cree una mensaje que le que permita escoger entre 5 opciones (del 1 al 5) y una sexta para salir.\n",
    "Usar Try except para que si ingresa un valor que no sea entero y que no este entre el 1 y el 6 despliegue un mensaje y lo vuelva a pedir"
   ]
  },
  {
   "cell_type": "code",
   "execution_count": 53,
   "id": "e64d3769",
   "metadata": {},
   "outputs": [
    {
     "name": "stdout",
     "output_type": "stream",
     "text": [
      "1. Opcion1 1\n",
      "2. Opcion2 2\n",
      "3. Opcion3 3\n",
      "Que Ejercicio quieres hacer?\n",
      "1\n",
      "1. Opcion 1\n"
     ]
    }
   ],
   "source": [
    "##Por favor hacerlo para las 5 opciones, este es un resumen con sólo 3 opciones\n",
    "\n",
    "def Opcion():\n",
    "\n",
    "    while 1:\n",
    "        try:\n",
    "            op = int(input(\"Que Ejercicio quieres hacer?\\n\"))\n",
    "            if(op<=0):\n",
    "                print(\"Numero no válido\")\n",
    "\n",
    "            elif(op>3):\n",
    "                print(\"Numero no válido\")\n",
    "            else:\n",
    "                break\n",
    "        except:\n",
    "            print (\"Ingrese un numero del 1 al 3 \\n\")\n",
    "\n",
    "    return op\n",
    "def menu():\n",
    "        print(\"1. Opcion1 1\")\n",
    "        print(\"2. Opcion2 2\")\n",
    "        print(\"3. Opcion3 3\")\n",
    "        op = Opcion()\n",
    "        if(op==1):\n",
    "            print(\"1. Opcion 1\")\n",
    "        if(op==2):\n",
    "            print(\"1. Opcion 2\")\n",
    "        if(op==3):\n",
    "            print(\"Haz salido\")\n",
    "menu()"
   ]
  },
  {
   "cell_type": "code",
   "execution_count": null,
   "id": "6d22a4a5",
   "metadata": {},
   "outputs": [],
   "source": []
  }
 ],
 "metadata": {
  "kernelspec": {
   "display_name": "Python 3",
   "language": "python",
   "name": "python3"
  },
  "language_info": {
   "codemirror_mode": {
    "name": "ipython",
    "version": 3
   },
   "file_extension": ".py",
   "mimetype": "text/x-python",
   "name": "python",
   "nbconvert_exporter": "python",
   "pygments_lexer": "ipython3",
   "version": "3.8.13"
  }
 },
 "nbformat": 4,
 "nbformat_minor": 5
}
