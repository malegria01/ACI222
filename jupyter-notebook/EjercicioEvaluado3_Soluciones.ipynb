{
 "cells": [
  {
   "cell_type": "markdown",
   "id": "7284a8ab",
   "metadata": {},
   "source": [
    "## Ejercicio Evaluado 3 (Grupo 3 personas)\n",
    "\n",
    "### Fecha entrega: Miércoles 1 de Junio hasta las 23:59 . Subir a Blackboard"
   ]
  },
  {
   "cell_type": "markdown",
   "id": "65b8e683",
   "metadata": {},
   "source": [
    "### Se debe entregar en un archivo tipo jupyter-notebook (.ipynb) comprimido en un .zip o .rar\n",
    "Para ello, una vez que finalice debe ir a `File` --> `Download as` --> `Notebook (.ipynb)`\n",
    "\n",
    "[Puede ser este mismo notebook, pero recuerde cambiar el nombre del archivo como se especifica a continuación y hacer una copia para que pueda guardar los cambios]\n",
    "\n",
    "\n",
    "Coloque como nombre al archivo: GrupoN_XX.ipynb (1 pto)\n",
    "\n",
    "La primera celda, hágala de tipo Markdown y escriba los nombres de los integrantes del grupo: nombre completo y correo electrónico.(1pto)\n",
    "\n",
    "    Por cada ejercicio existe una celda donde puede proporcionar su código fuente. Por favor lea bien las instrucciones de lo que se pide.\n",
    "\n",
    "    Todos los programas deben ejecutarse con Python 3\n",
    "\n",
    "    Por favor, limpie el código y las lineas no utilizadas - las declaraciones de impresión comentadas están bien, pero elimine cualquier otra cosa no utilizada para mantener su código fácil de leer.\n",
    "\n",
    "Todo o nada!!\n",
    "\n",
    "Para cualquier código que ejecute lo que no se pide, o tenga error, tiene puntaje 0.. Le recomiendo leer muy bien cada enunciado y hacer las preguntas correspondientes el día sábado en la clase.\n"
   ]
  },
  {
   "cell_type": "markdown",
   "id": "83af3c50",
   "metadata": {},
   "source": [
    "## Ej1\n",
    "### A) Crear una matriz llamada “A” de 8x8 inicializada con el valor 44 (1 pts)."
   ]
  },
  {
   "cell_type": "code",
   "execution_count": 1,
   "id": "ca922a41",
   "metadata": {},
   "outputs": [
    {
     "name": "stdout",
     "output_type": "stream",
     "text": [
      "[[44 44 44 44 44 44 44 44]\n",
      " [44 44 44 44 44 44 44 44]\n",
      " [44 44 44 44 44 44 44 44]\n",
      " [44 44 44 44 44 44 44 44]\n",
      " [44 44 44 44 44 44 44 44]\n",
      " [44 44 44 44 44 44 44 44]\n",
      " [44 44 44 44 44 44 44 44]\n",
      " [44 44 44 44 44 44 44 44]]\n"
     ]
    }
   ],
   "source": [
    "import pandas as pd\n",
    "import numpy as np\n",
    "\n",
    "A = np.full((8, 8), 44)\n",
    "print(A)"
   ]
  },
  {
   "cell_type": "code",
   "execution_count": 2,
   "id": "e257c072",
   "metadata": {},
   "outputs": [
    {
     "name": "stdout",
     "output_type": "stream",
     "text": [
      "[[44. 44. 44. 44. 44. 44. 44. 44.]\n",
      " [44. 44. 44. 44. 44. 44. 44. 44.]\n",
      " [44. 44. 44. 44. 44. 44. 44. 44.]\n",
      " [44. 44. 44. 44. 44. 44. 44. 44.]\n",
      " [44. 44. 44. 44. 44. 44. 44. 44.]\n",
      " [44. 44. 44. 44. 44. 44. 44. 44.]\n",
      " [44. 44. 44. 44. 44. 44. 44. 44.]\n",
      " [44. 44. 44. 44. 44. 44. 44. 44.]]\n"
     ]
    }
   ],
   "source": [
    "dimensiones=(8,8)\n",
    "matriz_unos = np.ones(dimensiones)\n",
    "a = matriz_unos*44\n",
    "print(a)"
   ]
  },
  {
   "cell_type": "markdown",
   "id": "c5b65dd8",
   "metadata": {},
   "source": [
    "Para A indicar:  \n",
    "```\n",
    "    - Que tipo es (0.5 punto)\n",
    "    - Que forma tiene (0.5 punto)\n",
    "    - Cuantos elementos tiene (0.5 punto)\n",
    "    - Que tipo de dato contiene (0.5 punto)\n",
    "```"
   ]
  },
  {
   "cell_type": "code",
   "execution_count": 3,
   "id": "71629e29",
   "metadata": {},
   "outputs": [
    {
     "name": "stdout",
     "output_type": "stream",
     "text": [
      "<class 'numpy.ndarray'>\n",
      "(8, 8)\n",
      "64\n",
      "int64\n"
     ]
    }
   ],
   "source": [
    "print(type(A))\n",
    "print(A.shape)\n",
    "print(A.size)\n",
    "print(A.dtype)\n"
   ]
  },
  {
   "cell_type": "markdown",
   "id": "201593a3",
   "metadata": {},
   "source": [
    " es de tipo ndarray, \n",
    " \n",
    " tiene forma de matriz 8x8\n",
    " \n",
    " tiene 64 elementos\n",
    " \n",
    " Contiene datos tipo enteros"
   ]
  },
  {
   "cell_type": "markdown",
   "id": "0609ccfb",
   "metadata": {},
   "source": [
    "### B) A la matriz “A“ Sumar el valor 5 a la fila número 3 completa y multiplicar por 9 la columna número 5 (2 pts)."
   ]
  },
  {
   "cell_type": "code",
   "execution_count": 4,
   "id": "bfb0ffc0",
   "metadata": {},
   "outputs": [
    {
     "name": "stdout",
     "output_type": "stream",
     "text": [
      "[[ 44  44  44  44 396  44  44  44]\n",
      " [ 44  44  44  44 396  44  44  44]\n",
      " [ 49  49  49  49 441  49  49  49]\n",
      " [ 44  44  44  44 396  44  44  44]\n",
      " [ 44  44  44  44 396  44  44  44]\n",
      " [ 44  44  44  44 396  44  44  44]\n",
      " [ 44  44  44  44 396  44  44  44]\n",
      " [ 44  44  44  44 396  44  44  44]]\n"
     ]
    }
   ],
   "source": [
    "# pista -> fila 3 es el index 2 (0, 1, 2), columna 5 es index 4 (0, 1, 2, 3, 4, ...)\n",
    "A[2, :] += 5\n",
    "A[:, 4] *= 9\n",
    "print(A)\n"
   ]
  },
  {
   "cell_type": "markdown",
   "id": "1f70b38d",
   "metadata": {},
   "source": [
    "### C) Crear una sub-matriz con las filas 2, 3 y 5 de la matriz “A” y llamarla matriz “B”. (1 pts)."
   ]
  },
  {
   "cell_type": "code",
   "execution_count": 5,
   "id": "fbdead3c",
   "metadata": {},
   "outputs": [
    {
     "name": "stdout",
     "output_type": "stream",
     "text": [
      "[[ 44  44  44  44 396  44  44  44]\n",
      " [ 49  49  49  49 441  49  49  49]\n",
      " [ 44  44  44  44 396  44  44  44]]\n"
     ]
    }
   ],
   "source": [
    "A2 = A[1, :]\n",
    "A3 = A[2, :]\n",
    "A5 = A[4, :]\n",
    "B = np.stack((A2, A3, A5), axis=0)\n",
    "print(B)\n"
   ]
  },
  {
   "cell_type": "code",
   "execution_count": 6,
   "id": "727df9bf",
   "metadata": {},
   "outputs": [
    {
     "name": "stdout",
     "output_type": "stream",
     "text": [
      "[[ 44  44  44  44 396  44  44  44]\n",
      " [ 49  49  49  49 441  49  49  49]\n",
      " [ 44  44  44  44 396  44  44  44]]\n"
     ]
    }
   ],
   "source": [
    "#otra forma\n",
    "c = A[1:5]\n",
    "b = np.delete(c, 3 ,axis=0) \n",
    "print(b)"
   ]
  },
  {
   "cell_type": "markdown",
   "id": "db4c98ac",
   "metadata": {},
   "source": [
    "### D) Calcular el promedio sólo de la fila número 2 de la sub-matriz “B” (1 pts)."
   ]
  },
  {
   "cell_type": "code",
   "execution_count": 20,
   "id": "6322f9ea",
   "metadata": {},
   "outputs": [
    {
     "name": "stdout",
     "output_type": "stream",
     "text": [
      "98.0\n",
      "El promedio es: 98.0\n"
     ]
    }
   ],
   "source": [
    "print(B[1].mean())\n",
    "print(\"El promedio es: \" + str(B[1].mean()))\n"
   ]
  },
  {
   "cell_type": "markdown",
   "id": "c94d5642",
   "metadata": {},
   "source": [
    "## EJ2 \n",
    "### 1) Crear un gráfico que muestre f1(x) y f2(x). [usar np.linspace(-10, 35) para asignar x] (2 pts).\n",
    "    Función cuadrática: f1(x) = 2X² + 6X - 2\n",
    "    Función lineal : f2(x) = 5X + 1"
   ]
  },
  {
   "cell_type": "code",
   "execution_count": 24,
   "id": "8c3df4c4",
   "metadata": {},
   "outputs": [
    {
     "data": {
      "image/png": "[encoded data removed]",
      "text/plain": [
       "<Figure size 432x288 with 1 Axes>"
      ]
     },
     "metadata": {
      "needs_background": "light"
     },
     "output_type": "display_data"
    }
   ],
   "source": [
    "import matplotlib.pyplot as plt\n",
    "\n",
    "def f1(x):\n",
    "    return 2 * x ** 2 + 6 * x - 2\n",
    "\n",
    "def f2(x):\n",
    "    return 5 * x + 1\n",
    "\n",
    "x = np.linspace(-10, 35)\n",
    "\n",
    "plt.plot(x,f1(x))\n",
    "plt.plot(x, f2(x))\n",
    "\n",
    "plt.title(\"Gráfico\")\n",
    "plt.show()\n"
   ]
  },
  {
   "cell_type": "markdown",
   "id": "fb24bd5a",
   "metadata": {},
   "source": [
    "## EJ3 (3 puntos)\n",
    "\n",
    "Escribir un programa y usando lo aprendido para escribir en python, cree un archivo llamado personas2.txt con la siguiente información:\n",
    "```\n",
    "1;Carlos;Pérez;05/01/19\n",
    "2;Manuel;Heredia;26/12/1973\n",
    "3;Rosa;Campos;12/06/1961\n",
    "4;David;García;25/07/2006\n",
    "```\n",
    "\n",
    "Usar sólo lenguaje Python y no llamadas al systema con sys o mezclar bash"
   ]
  },
  {
   "cell_type": "code",
   "execution_count": 25,
   "id": "d25e3aef",
   "metadata": {},
   "outputs": [],
   "source": [
    "archi1=open(\"personas2.txt\",\"w\") \n",
    "archi1.write(\"1;Carlos;Pérez;05/01/19\\n\") \n",
    "archi1.write(\"2;Manuel;Heredia;26/12/1973\\n\") \n",
    "archi1.write(\"3;Rosa;Campos;12/06/1961\\n\")  \n",
    "archi1.write(\"4;David;García;25/07/2006\") \n",
    "archi1.close()\n"
   ]
  },
  {
   "cell_type": "code",
   "execution_count": 26,
   "id": "983a23aa",
   "metadata": {},
   "outputs": [
    {
     "name": "stdout",
     "output_type": "stream",
     "text": [
      "1;Carlos;Pérez;05/01/19\r\n",
      "2;Manuel;Heredia;26/12/1973\r\n",
      "3;Rosa;Campos;12/06/1961\r\n",
      "4;David;García;25/07/2006"
     ]
    }
   ],
   "source": [
    "!cat personas2.txt"
   ]
  },
  {
   "cell_type": "code",
   "execution_count": 30,
   "id": "ceac49d4",
   "metadata": {},
   "outputs": [
    {
     "name": "stdout",
     "output_type": "stream",
     "text": [
      "\n",
      "\n",
      "\n",
      "\n"
     ]
    }
   ],
   "source": [
    "lista = [\"1;Carlos;Pérez;05/01/19\",\"2;Manuel;Heredia;26/12/1973\",\"3;Rosa;Campos;12/06/1961\",\"4;David;García;25/07/2006\"]\n",
    "\n",
    "with open('personas22.txt', 'w') as fichero:\n",
    "    for item in lista:\n",
    "        fichero.write(\"%s\\n\" % item)\n",
    "        file = open('personas22.txt', 'r')\n",
    "        print(file.read())\n",
    "    file.close()"
   ]
  },
  {
   "cell_type": "code",
   "execution_count": 31,
   "id": "da6e971f",
   "metadata": {},
   "outputs": [
    {
     "name": "stdout",
     "output_type": "stream",
     "text": [
      "1;Carlos;Pérez;05/01/19\r\n",
      "2;Manuel;Heredia;26/12/1973\r\n",
      "3;Rosa;Campos;12/06/1961\r\n",
      "4;David;García;25/07/2006\r\n"
     ]
    }
   ],
   "source": [
    "!cat personas22.txt"
   ]
  },
  {
   "cell_type": "markdown",
   "id": "1b2ea90f",
   "metadata": {},
   "source": [
    "## EJ4 (6 puntos)\n",
    "Escribir un programa usando python, que reciba un archivo, lo procese e imprima por pantalla cuántas líneas, cuantas palabras y cuántos caracteres contiene el archivo.\n",
    "Tips: use el archivo loreipsum.txt\n",
    "\n",
    "Usar sólo lenguaje Python y no llamadas al systema con sys o mezclar bash\n"
   ]
  },
  {
   "cell_type": "code",
   "execution_count": 35,
   "id": "c6fe240b",
   "metadata": {},
   "outputs": [
    {
     "name": "stdout",
     "output_type": "stream",
     "text": [
      "El número de Caracteres es : 100494\n",
      "El número de Líneas es : 329\n",
      "El número de palabras es : 14849\n"
     ]
    }
   ],
   "source": [
    "fichero = open('loreipsum.txt', \"r\")\n",
    "with open('loreipsum.txt') as file:\n",
    "    total_lineas = sum(1 for line in file)\n",
    "datos = fichero.read()\n",
    "palabras = datos.split()\n",
    "fichero = open('loreipsum.txt', 'r')\n",
    "caracteres=0\n",
    "for linea in fichero:\n",
    "    caracteres+=len(linea)\n",
    "    if linea=='\\n':\n",
    "        caracteres+=1\n",
    "\n",
    "print('El número de Caracteres es :', caracteres)\n",
    "print('El número de Líneas es :', total_lineas)\n",
    "print('El número de palabras es :', len(palabras))\n"
   ]
  },
  {
   "cell_type": "markdown",
   "id": "3a6923ba",
   "metadata": {},
   "source": [
    "## EJ5 (5 puntos)\n",
    "\n",
    "Escribir una función que pida al usuario un número entero entre 1 y 20, luego debe leer/crear un fichero con el nombre tabla_multiplicar_N.txt que contenga con la tabla de multiplicar (hasta 10) de ese número N, done N es el número introducido, y la muestre por pantalla. Si el fichero no existe debe mostrar un mensaje por pantalla informando de ello.\n",
    "\n",
    "La salida debe ser algo así: \n",
    "\n",
    "`tabla_multiplicar_8.txt` --> nombre fichero si el usuario ingresó 8\n",
    "\n",
    "Contenido:\n",
    "```\n",
    "8 x 1 = 8\n",
    "8 x 2 = 16\n",
    "8 x 3 = 24\n",
    "8 x 4 = 32\n",
    "8 x 5 = 40\n",
    "8 x 6 = 48\n",
    "8 x 7 = 56\n",
    "8 x 8 = 64\n",
    "8 x 9 = 72\n",
    "8 x 10 = 80\n",
    "```\n",
    "\n",
    "Usar sólo lenguaje Python y no llamadas al systema con sys o mezclar bash"
   ]
  },
  {
   "cell_type": "code",
   "execution_count": 36,
   "id": "91e5dc34",
   "metadata": {},
   "outputs": [
    {
     "name": "stdout",
     "output_type": "stream",
     "text": [
      "Bienvenido a funcion multiplicador, ingrese un número del 1 al 20: 3\n",
      "3 x 1 = 3\n",
      "3 x 2 = 6\n",
      "3 x 3 = 9\n",
      "3 x 4 = 12\n",
      "3 x 5 = 15\n",
      "3 x 6 = 18\n",
      "3 x 7 = 21\n",
      "3 x 8 = 24\n",
      "3 x 9 = 27\n",
      "3 x 10 = 30\n",
      "\n"
     ]
    },
    {
     "data": {
      "text/plain": [
       "'Archivo generado tabla_multiplicar_3.txt'"
      ]
     },
     "execution_count": 36,
     "metadata": {},
     "output_type": "execute_result"
    }
   ],
   "source": [
    "##Código de un grupo del curso\n",
    "def multiplicador():\n",
    "    \"\"\"Funcion multiplicador \\n\n",
    "    Permite al usuario ingresar un número \"N\" entero entre 1 y 20, para luego crear un fichero con el nombre tabla_multiplicar_N.txt\\n\n",
    "    Retorno: Mensaje resultado proceso\"\"\"\n",
    "\n",
    "    while 1:\n",
    "        try:\n",
    "            \n",
    "            opcion = int(input(\"Bienvenido a funcion multiplicador, ingrese un número del 1 al 20: \"))\n",
    "            if(opcion<=0 or opcion>20):\n",
    "                print(\"Ingrese un numero del 1 al 20\")\n",
    "            else:\n",
    "                nombreArchivo = generarArchivo(opcion)\n",
    "                break\n",
    "        except:\n",
    "            print(\"Ingrese un numero del 1 al 20 \\n\")\n",
    "\n",
    "    return \"Archivo generado \" + nombreArchivo\n",
    "\n",
    "\n",
    "def generarArchivo(multiplicador=0):\n",
    "    \"\"\"Funcion generarArchivo \\n    \n",
    "    Genera archivo tabla multiplicar del 1 al 10 \\n\n",
    "    Parametro entrada: multiplicador, corresponde a la opcion ingresada por el usuario del 1 al 20 \\n\n",
    "    Retorno: Nombre del archivo generado\"\"\"\n",
    "    nombreArchivo = \"tabla_multiplicar_\" + str(multiplicador) + \".txt\"\n",
    "    with open(nombreArchivo, 'w') as fichero:\n",
    "        for m in range(1,11,1):\n",
    "            fichero.write(str(multiplicador) + \" x \" + str(m) + \" = \" + str(multiplicador*m) +\"\\n\")\n",
    "\n",
    "\n",
    "    file = open(nombreArchivo, 'r')\n",
    "    print(file.read())\n",
    "    file.close()\n",
    "    \n",
    "    return nombreArchivo\n",
    "    \n",
    "\n",
    "\n",
    "multiplicador()\n"
   ]
  },
  {
   "cell_type": "code",
   "execution_count": 37,
   "id": "165dec7c",
   "metadata": {},
   "outputs": [
    {
     "name": "stdout",
     "output_type": "stream",
     "text": [
      "3 x 1 = 3\r\n",
      "3 x 2 = 6\r\n",
      "3 x 3 = 9\r\n",
      "3 x 4 = 12\r\n",
      "3 x 5 = 15\r\n",
      "3 x 6 = 18\r\n",
      "3 x 7 = 21\r\n",
      "3 x 8 = 24\r\n",
      "3 x 9 = 27\r\n",
      "3 x 10 = 30\r\n"
     ]
    }
   ],
   "source": [
    "!cat tabla_multiplicar_3.txt"
   ]
  },
  {
   "cell_type": "markdown",
   "id": "96bcac60",
   "metadata": {},
   "source": [
    "## EJ6 (10 puntos)\n",
    "\n",
    "Considere el archivo censo.csv visto en clases. Obtenga la cantidad de hombres y mujeres por separado de la comuna de Arica, Santiago, Concepción y Talca. (5 puntos)\n",
    "Y luego grafique con grafico de barras estas comunas, la cantidad de hombres y mujeres. Recuerde distinguir entre hombres y mujeres (por color).\n",
    "\n",
    "Usar sólo lenguaje Python y no llamadas al systema con sys o mezclar bash"
   ]
  },
  {
   "cell_type": "code",
   "execution_count": 66,
   "id": "ba973684",
   "metadata": {},
   "outputs": [],
   "source": [
    "# Se trabaja con try except para manipular el error\n",
    "import csv\n",
    "import matplotlib.pyplot as plt\n",
    "import numpy as np\n",
    "\n",
    "data={}\n",
    "\n",
    "with open('censo.csv') as archivo_csv:\n",
    "    lector = csv.reader(archivo_csv, delimiter=',')\n",
    "    contador=0;\n",
    "    #No queremos leer el nombre de las columnas, queremos emperzar de la row 1 en adelante.\n",
    "    for row in lector:\n",
    "        if contador==0:\n",
    "            contador=1;\n",
    "        else:\n",
    "            ##Aqui podemos agregar el filtro\n",
    "            if row[7] == \"Total Comunal\" and row[5] in (\"ARICA\", \"SANTIAGO\", \"CONCEPCIÓN\", \"TALCA\"):\n",
    "                try:\n",
    "                    data[row[5]]['Mujeres']=data[row[5]]['Mujeres']+int(row[9])\n",
    "                    data[row[5]]['Hombres']=data[row[5]]['Hombres']+int(row[8])\n",
    "                except KeyError:\n",
    "                    data[row[5]]={'Hombres':0, 'Mujeres': 0}\n",
    "                    data[row[5]]['Mujeres']=int(row[9])\n",
    "                    data[row[5]]['Hombres']=int(row[8])\n",
    "\n"
   ]
  },
  {
   "cell_type": "code",
   "execution_count": 67,
   "id": "dfd38426",
   "metadata": {},
   "outputs": [
    {
     "data": {
      "text/plain": [
       "{'ARICA': {'Hombres': 109389, 'Mujeres': 111975},\n",
       " 'SANTIAGO': {'Hombres': 206678, 'Mujeres': 197817},\n",
       " 'TALCA': {'Hombres': 105622, 'Mujeres': 114735},\n",
       " 'CONCEPCIÓN': {'Hombres': 107624, 'Mujeres': 115950}}"
      ]
     },
     "execution_count": 67,
     "metadata": {},
     "output_type": "execute_result"
    }
   ],
   "source": [
    "data"
   ]
  },
  {
   "cell_type": "code",
   "execution_count": 80,
   "id": "769b9a89",
   "metadata": {},
   "outputs": [
    {
     "data": {
      "image/png": "[encoded data removed]",
      "text/plain": [
       "<Figure size 720x576 with 1 Axes>"
      ]
     },
     "metadata": {
      "needs_background": "light"
     },
     "output_type": "display_data"
    }
   ],
   "source": [
    "#GRAFICAR\n",
    "fig,ax = plt.subplots(figsize=(10,8))\n",
    "\n",
    "#nuestras etiquetas serán las regiones, es decir las key de data pero entregadas como lista\n",
    "etiquetas=list(data.keys())\n",
    "\n",
    "#Ahora generamos una lista con todos los valores de los hombres y mujeres por región \n",
    "hombres=[]\n",
    "mujeres=[]\n",
    "for etiqueta in etiquetas:\n",
    "    hombres.append(data[etiqueta]['Hombres'])\n",
    "    mujeres.append(data[etiqueta]['Mujeres'])\n",
    "\n",
    "    \n",
    "   \n",
    "# Tenemos que definir la posición de las etiquetas en la gráfica o quedará todo desordenado \n",
    "#y además como dividir el eje para cada barra\n",
    "\n",
    "ejeX = np.arange(len(etiquetas))\n",
    "\n",
    "\n",
    "# Tenemos que hacer dos barras  que serán la cantidad de hombres y mujeres, \n",
    "#para esto definiremos el ancho de cada barra\n",
    "\n",
    "ancho=0.5\n",
    "\n",
    "#la primera barra irá en la mitad de la izquierda y la segunda en la mitad de la derecha\n",
    "# Cambiamos bar por barh para tener una barra horizontal\n",
    "ancho = 0.35\n",
    "barraH = ax.barh(ejeX - ancho/2, hombres, ancho, label='Hombres',color=\"blue\")\n",
    "barraM = ax.barh(ejeX + ancho/2, mujeres, ancho, label='Mujeres',color=\"red\")\n",
    "\n",
    "# Ahora debemos cambiar las anotaciones del eje \"y\" por el \"x\" y viceversa.\n",
    "\n",
    "\n",
    "#Pondremos nombre a nuestro eje de las abscisas\n",
    "ax.set_xlabel('Cantidad de Habitantes', fontsize=14)\n",
    "#Pondremos un título\n",
    "ax.set_title('Cantidad de Hombres y Mujeres en 4 \"Comunas\" de Chile', fontsize=14)\n",
    "#Agregaremos a cada par de barras un nombre\n",
    "ax.set_yticks(ejeX)\n",
    "#Agregaremos las etiquetas al eje de las ordenadas\n",
    "\n",
    "ax.set_yticklabels(etiquetas)\n",
    "\n",
    "#Agregaremos la leyenda de las barras\n",
    "ax.legend()\n",
    "\n",
    "#Invertir eje Y\n",
    "ax.invert_yaxis()"
   ]
  },
  {
   "cell_type": "code",
   "execution_count": null,
   "id": "69217d2e",
   "metadata": {},
   "outputs": [],
   "source": []
  },
  {
   "cell_type": "code",
   "execution_count": null,
   "id": "f54d568b",
   "metadata": {},
   "outputs": [],
   "source": []
  }
 ],
 "metadata": {
  "kernelspec": {
   "display_name": "Python 3",
   "language": "python",
   "name": "python3"
  },
  "language_info": {
   "codemirror_mode": {
    "name": "ipython",
    "version": 3
   },
   "file_extension": ".py",
   "mimetype": "text/x-python",
   "name": "python",
   "nbconvert_exporter": "python",
   "pygments_lexer": "ipython3",
   "version": "3.8.13"
  }
 },
 "nbformat": 4,
 "nbformat_minor": 5
}
