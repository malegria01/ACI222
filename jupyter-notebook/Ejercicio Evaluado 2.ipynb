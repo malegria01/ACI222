{
 "cells": [
  {
   "cell_type": "markdown",
   "id": "caecfdf4",
   "metadata": {},
   "source": [
    "## Ejercicio Evaluado 2 (Grupo de 3 personas)\n",
    "\n",
    "### Se debe entregar en un archivo tipo jupyter-notebook (.ipynb) comprimido en un .zip o .rar\n",
    "Para ello, una vez que finalice debe ir a `File` --> `Download as` --> `Notebook (.ipynb)`\n",
    "\n",
    "[Puede ser este mismo notebook, pero recuerde cambiar el nombre del archivo como se especifica a continuación y hacer una copia para que pueda guardar los cambios]\n",
    "\n",
    "\n",
    "Coloque como nombre al archivo: GrupoN_XX.ipynb (1 pto)\n",
    "\n",
    "La primera celda, hágala de tipo Markdown y escriba los nombres de los integrantes del grupo: nombre completo y correo electrónico.(1pto)\n",
    "\n",
    "    Por cada ejercicio existe una celda donde puede proporcionar su código fuente. Por favor lea bien las instrucciones de lo que se pide.\n",
    "\n",
    "    Todos los programas deben ejecutarse con Python 3\n",
    "\n",
    "    Por favor, limpie el código y las lineas no utilizadas - las declaraciones de impresión comentadas están bien, pero elimine cualquier otra cosa no utilizada para mantener su código fácil de leer.\n",
    "\n",
    "Todo o nada!!\n",
    "\n",
    "Para cualquier código que ejecute lo que no se pide, o tenga error, tiene puntaje 0.. Le recomiendo leer muy bien cada enunciado y hacer las preguntas correspondientes el día sábado en la clase.\n"
   ]
  },
  {
   "cell_type": "markdown",
   "id": "33a0a4d0",
   "metadata": {},
   "source": [
    "# Ej1: Cajero Automático (15 puntos)\n",
    "\n",
    "Cree un menú que simule las opciones que entrega un cajero automático. Para ello primero debe solicitar la clave, la cual debe ser \"8855\", cualquier otra clave es considerada incorrecta. El usuario tiene 3 intentos para ingresarla, de pasar el número de intentos, debe mostrarse un mensaje con \"cuenta bloqueada. Superó los 3 intentos permitidos\". \n",
    "\n",
    "\n",
    "Luego si el usuario ingresa correctamente la clave debe mostrar un menú para que el usuario puede escoger la opción:\n",
    "\n",
    "- Mostrar Saldo \n",
    "- Girar\n",
    "- Depositar\n",
    "- Salir\n",
    "\n",
    "El ingreso incial de la cuenta es de 150000. Es decir, cualquier usuario que ingrese a su cuenta, ya cuenta con ese saldo.\n",
    "Para cada operacion debe mostrar su correcta ejecución y recordar que para cualquiera de las opciones, el usuario puede ingresar un valor no esperado, o carácteres inválidos, por lo que debe considerar generar un mensaje para cada opción que podría suceder y no basta sólo con decirlo.\n",
    "\n",
    "El programa solamente puede finalizar cuando ocurren 2 cosas: \n",
    "\n",
    "1) si el usuario elige la opcion Salir. \n",
    "2) Si el usuario sobrepasa los 3 intentos de la clave.\n",
    "\n",
    "Cosas a considerar:\n",
    "- Si ingresa una letra cuando se pide la clave.\n",
    "- Si ingresa un carácter no válido cuando pedimos clave\n",
    "- Considerar la resta del saldo si se gira (1 o más veces)\n",
    "- Considerar la suma del saldo si se deposita (1 o más veces)\n",
    "- Considerar que podría pasar si gira más dinero del saldo que tiene en la cuenta.\n",
    "- Considerar si en vez de ingresar un monto en números, ingresa un decimal o una letra.\n",
    "\n",
    "Tips: Le recuerdo el uso de funciones para desarrollar este ejercicio\n",
    "\n",
    "\n"
   ]
  },
  {
   "cell_type": "code",
   "execution_count": null,
   "id": "81d67023",
   "metadata": {},
   "outputs": [],
   "source": []
  },
  {
   "cell_type": "markdown",
   "id": "8db78bc3",
   "metadata": {},
   "source": [
    "# Ej2: Calcular Áreas (15 puntos)\n",
    "\n",
    "Cree un programa que muestre al usuario un menu con una lista de figuras geométricas para calcular el área. Para la opción seleccionada por el usuario, muestre la fórmula del área de la figura seleccionada, le debe pedir al usuario los datos necesarios (base, altura, etc) y que muestre el resultado del área por pantalla. Considerar como mínimo:\n",
    "\n",
    "- Triángulo\n",
    "- Cuadrado\n",
    "- Rectangulo\n",
    "- Rombiode\n",
    "- Círculo\n",
    "- Trapecio\n",
    "\n",
    "No puede pedir el valor de pi al usuario y si puede usar math para obtener pi."
   ]
  },
  {
   "cell_type": "code",
   "execution_count": null,
   "id": "a57181c2",
   "metadata": {},
   "outputs": [],
   "source": []
  },
  {
   "cell_type": "markdown",
   "id": "3f13d8a8",
   "metadata": {},
   "source": [
    "# EJ3: Calcular el valor de una receta (15 puntos)\n",
    "\n",
    "Cree un programa que le permita calcular lo que va a gastar en una receta (almuerzo, cena o postre). Para ello primero genere un diccionario que tenga el nombre del ingrediente y el valor de al menos 10 productos (trate de colocar un valor lo más cercano a la realidad actual):\n",
    "\n",
    "- Huevo (unidad)\n",
    "- Harina (Kg)\n",
    "- Azucar (Kg)\n",
    "- Papas (Kg)\n",
    "- Arroz (Kg)\n",
    "- Carne (Kg)\n",
    "- Leche (Litro)\n",
    "- Margarina (Kg)\n",
    "- Sal (kg)\n",
    "- Esencia_Vainilla (Litro o ml)\n",
    "- Polvos_Hornar (gr)\n",
    "- Yogurt (unidad)\n",
    "- Naranja (unidad)\n",
    "- Limon (unidad)\n",
    "- Chip_Chocolate (Kg o gr)\n",
    "\n",
    "\n",
    "\n",
    "Luego el programa puede mostrar los ingredientes al usuario y pedir que introduzca los ingredientes que necesita comprar para hacer su almuerzo/cena/postre. También debe pedir al usuario la cantidad que usará en Kg, Litros, unidades, etc. Para las cantidades menores a 1 kg el usuario por ejemplo debe colocar 0.2 de azucar (aprox 1 taza).\n",
    "De esa forma se puede calcular el valor total de la receta o lo que se gastará en ir a comprar a un supermercado los productos.\n",
    "Finalmente, por cada ingrediente que seleccione el usuario, puede ir al diccionario y obtener el valor para hacer la operacion. \n",
    "El resultado final será el valor total que se gastará. \n",
    "Debe tener una opcion \"calcular total\" que permita no seguir ingresando los ingredientes y calcular el total.\n",
    "\n",
    "Considerar:\n",
    "- Errores al colocar cantidades (puede colocar Huevo)\n",
    "- Errores de tipeo al colocar Huevo (podría hacerlo con números, cada número representa a un ingrediente)\n",
    "- Errores de sumatoria\n",
    "- Puede ingresar más de una vez el mismo ingrediente y eso tambián se debe sumar al valor final\n",
    "- Pedir y explicitar si al usuario si la cantidad a ingresar en en Kg, gr, litro etc.\n",
    "\n",
    "\n",
    "\n",
    "\n"
   ]
  },
  {
   "cell_type": "code",
   "execution_count": null,
   "id": "1057fba7",
   "metadata": {},
   "outputs": [],
   "source": []
  },
  {
   "cell_type": "code",
   "execution_count": null,
   "id": "358ec7a2",
   "metadata": {},
   "outputs": [],
   "source": []
  }
 ],
 "metadata": {
  "kernelspec": {
   "display_name": "Python 3",
   "language": "python",
   "name": "python3"
  },
  "language_info": {
   "codemirror_mode": {
    "name": "ipython",
    "version": 3
   },
   "file_extension": ".py",
   "mimetype": "text/x-python",
   "name": "python",
   "nbconvert_exporter": "python",
   "pygments_lexer": "ipython3",
   "version": "3.8.13"
  }
 },
 "nbformat": 4,
 "nbformat_minor": 5
}
