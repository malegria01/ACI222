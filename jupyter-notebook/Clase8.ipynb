{
 "cells": [
  {
   "cell_type": "markdown",
   "id": "d7d41800",
   "metadata": {},
   "source": [
    "## Clase 8\n",
    "\n"
   ]
  },
  {
   "cell_type": "markdown",
   "id": "0150d1d1",
   "metadata": {},
   "source": [
    "# Ejercicios Resueltos de la clase anterior\n",
    "\n",
    "### Pasar el siguiente script a una función llamada saludo\n",
    "\n",
    "~~~\n",
    "# Script saludo\n",
    "print(\"Hello, I'm Python!\")\n",
    "\n",
    "# Input, assignment\n",
    "name = input('What is your name?\\n')\n",
    "print('Hi, %s.' % name)\n",
    "~~~"
   ]
  },
  {
   "cell_type": "code",
   "execution_count": 2,
   "id": "88783375",
   "metadata": {},
   "outputs": [
    {
     "name": "stdout",
     "output_type": "stream",
     "text": [
      "Hello, I'm Python!\n",
      "What is your name?\n",
      "melissa\n",
      "Hi melissa\n"
     ]
    }
   ],
   "source": [
    "def saludo():\n",
    "    print(\"Hello, I'm Python!\")\n",
    "    name = input('What is your name?\\n')\n",
    "    return name\n",
    "\n",
    "print('Hi %s' % saludo())"
   ]
  },
  {
   "cell_type": "markdown",
   "id": "650d17bd",
   "metadata": {},
   "source": [
    "### Realizar una función que reciba una lista y devuelva la suma de sus elementos"
   ]
  },
  {
   "cell_type": "code",
   "execution_count": 3,
   "id": "35eabc1b",
   "metadata": {},
   "outputs": [
    {
     "name": "stdout",
     "output_type": "stream",
     "text": [
      "Los elementos de la lista suma:\n",
      "180\n"
     ]
    }
   ],
   "source": [
    "#completar\n",
    "def suma_lista(lista):\n",
    "    suma = 0\n",
    "    for i in lista:\n",
    "        suma += i\n",
    "    return suma\n",
    "\n",
    "\n",
    "#Uso\n",
    "lista = [54,12,99,15]\n",
    "print (\"Los elementos de la lista suma:\")\n",
    "print(suma_lista(lista))\n"
   ]
  },
  {
   "cell_type": "markdown",
   "id": "fe918430",
   "metadata": {},
   "source": [
    "### Realizar una función que reciba una lista y un valor. Debe devolver la cantidad de veces que aparece ese valor en la lista\n"
   ]
  },
  {
   "cell_type": "code",
   "execution_count": 4,
   "id": "58634b5d",
   "metadata": {},
   "outputs": [
    {
     "name": "stdout",
     "output_type": "stream",
     "text": [
      "6\n"
     ]
    }
   ],
   "source": [
    "l = [1,4,2,6,5,6,4,2,4,6,1,7,1,4,5,1,1,5,3,2,6,3,1,1,6,4,2,3,4,9,8,6,4,3]\n",
    "v = 6\n",
    "\n",
    "def ocurrencias(lista,valor):\n",
    "    repeticiones = 0\n",
    "    for i in l:\n",
    "        if i == v:\n",
    "            repeticiones +=1 \n",
    "    return repeticiones\n",
    "    \n",
    "\n",
    "print(ocurrencias(l,v))"
   ]
  },
  {
   "cell_type": "markdown",
   "id": "e01ca6b4",
   "metadata": {},
   "source": [
    "### Crear el siguiente arreglo con forma (3,4)\n",
    "    [[ 1  2  3  4]\n",
    "    [ 5  6  7  8]\n",
    "    [ 9 10 11 12]]"
   ]
  },
  {
   "cell_type": "code",
   "execution_count": 6,
   "id": "f65dffff",
   "metadata": {},
   "outputs": [
    {
     "data": {
      "text/plain": [
       "array([[ 1,  2,  3,  4],\n",
       "       [ 5,  6,  7,  8],\n",
       "       [ 9, 10, 11, 12]])"
      ]
     },
     "execution_count": 6,
     "metadata": {},
     "output_type": "execute_result"
    }
   ],
   "source": [
    "import numpy as np\n",
    "\n",
    "a = np.array([[1,2,3,4], [5,6,7,8], [9,10,11,12]])\n",
    "a"
   ]
  },
  {
   "cell_type": "markdown",
   "id": "8a4afc90",
   "metadata": {},
   "source": [
    "### Para M a) Indicar de que tipo es, b) ¿Qué forma tiene? c) ¿Cuantos elementos tiene? d) Qué tipo de dato tiene?"
   ]
  },
  {
   "cell_type": "code",
   "execution_count": 7,
   "id": "eeab3b3b",
   "metadata": {},
   "outputs": [
    {
     "data": {
      "text/plain": [
       "array([[1. , 4.5],\n",
       "       [3.4, 4.6],\n",
       "       [5.5, 6.2]])"
      ]
     },
     "execution_count": 7,
     "metadata": {},
     "output_type": "execute_result"
    }
   ],
   "source": [
    "import numpy as np\n",
    "M = np.array([[1.0, 4.5], [3.4, 4.6], [5.5, 6.2]])\n",
    "M"
   ]
  },
  {
   "cell_type": "code",
   "execution_count": 8,
   "id": "de5002c7",
   "metadata": {},
   "outputs": [
    {
     "name": "stdout",
     "output_type": "stream",
     "text": [
      "<class 'numpy.ndarray'>\n",
      "(3, 2)\n",
      "6\n",
      "float64\n"
     ]
    }
   ],
   "source": [
    "print(type(M))\n",
    "print(M.shape)\n",
    "print(M.size)\n",
    "print(M.dtype)"
   ]
  },
  {
   "cell_type": "markdown",
   "id": "0a799327",
   "metadata": {},
   "source": [
    "### Respuesta: a) Es de tipo ndarray b) tiene forma matricial de 3x2  c) Tiene 6 elementos d) tipo de datos float,( punto decimal)"
   ]
  },
  {
   "cell_type": "markdown",
   "id": "360365a9",
   "metadata": {},
   "source": []
  },
  {
   "cell_type": "markdown",
   "id": "fe878557",
   "metadata": {},
   "source": [
    "### Para B a) Indicar de que tipo es, b) ¿Qué forma tiene? c) ¿Cuantos elementos tiene? d) Qué tipo de dato tiene?"
   ]
  },
  {
   "cell_type": "code",
   "execution_count": 13,
   "id": "01c97643",
   "metadata": {},
   "outputs": [
    {
     "data": {
      "text/plain": [
       "array([[1.+0.j, 2.+0.j],\n",
       "       [3.+0.j, 4.+0.j]])"
      ]
     },
     "execution_count": 13,
     "metadata": {},
     "output_type": "execute_result"
    }
   ],
   "source": [
    "B = np.array([[1, 2], [3, 4]], dtype=complex)\n",
    "B"
   ]
  },
  {
   "cell_type": "code",
   "execution_count": 14,
   "id": "28c9ac93",
   "metadata": {},
   "outputs": [
    {
     "name": "stdout",
     "output_type": "stream",
     "text": [
      "<class 'numpy.ndarray'>\n",
      "(2, 2)\n",
      "4\n",
      "complex128\n"
     ]
    }
   ],
   "source": [
    "print(type(B))\n",
    "print(B.shape)\n",
    "print(B.size)\n",
    "print(B.dtype)"
   ]
  },
  {
   "cell_type": "markdown",
   "id": "8dd22c5c",
   "metadata": {},
   "source": [
    "### Respuesta: a) Es de tipo ndarray b) tiene forma matricial de 2x2 c) Tiene 4 elementos, c) contiene datos tipo complejos "
   ]
  },
  {
   "cell_type": "markdown",
   "id": "46abff84",
   "metadata": {},
   "source": [
    "### Crear una matriz de 5x8, que esté inicializada con el valor 0.5\n"
   ]
  },
  {
   "cell_type": "code",
   "execution_count": 15,
   "id": "8317babb",
   "metadata": {},
   "outputs": [
    {
     "name": "stdout",
     "output_type": "stream",
     "text": [
      "Matriz original:\n",
      "[[1. 1. 1. 1. 1. 1. 1. 1.]\n",
      " [1. 1. 1. 1. 1. 1. 1. 1.]\n",
      " [1. 1. 1. 1. 1. 1. 1. 1.]\n",
      " [1. 1. 1. 1. 1. 1. 1. 1.]\n",
      " [1. 1. 1. 1. 1. 1. 1. 1.]]\n",
      "La dividimos por 2 para que quede inicializada en 0.5:\n",
      "[[0.5 0.5 0.5 0.5 0.5 0.5 0.5 0.5]\n",
      " [0.5 0.5 0.5 0.5 0.5 0.5 0.5 0.5]\n",
      " [0.5 0.5 0.5 0.5 0.5 0.5 0.5 0.5]\n",
      " [0.5 0.5 0.5 0.5 0.5 0.5 0.5 0.5]\n",
      " [0.5 0.5 0.5 0.5 0.5 0.5 0.5 0.5]]\n"
     ]
    }
   ],
   "source": [
    "dimensiones=(5,8)\n",
    "matriz_unos = np.ones(dimensiones)\n",
    "print(\"Matriz original:\")\n",
    "print(matriz_unos)\n",
    "print(\"La dividimos por 2 para que quede inicializada en 0.5:\")\n",
    "matriz_0_5=matriz_unos/2\n",
    "print(matriz_0_5)"
   ]
  },
  {
   "cell_type": "markdown",
   "id": "692ef8a8",
   "metadata": {},
   "source": [
    "### a) Sumar 5 a la fila 2 de la matriz"
   ]
  },
  {
   "cell_type": "code",
   "execution_count": 16,
   "id": "c019ca5b",
   "metadata": {},
   "outputs": [
    {
     "name": "stdout",
     "output_type": "stream",
     "text": [
      "Sumar 5 a la fila 2 de la matriz:\n",
      "[[0.5 0.5 0.5 0.5 0.5 0.5 0.5 0.5]\n",
      " [5.5 5.5 5.5 5.5 5.5 5.5 5.5 5.5]\n",
      " [0.5 0.5 0.5 0.5 0.5 0.5 0.5 0.5]\n",
      " [0.5 0.5 0.5 0.5 0.5 0.5 0.5 0.5]\n",
      " [0.5 0.5 0.5 0.5 0.5 0.5 0.5 0.5]]\n"
     ]
    }
   ],
   "source": [
    "print(\"Sumar 5 a la fila 2 de la matriz:\")\n",
    "matriz_0_5[1,:]=matriz_0_5[1,:]+5\n",
    "print(matriz_0_5)"
   ]
  },
  {
   "cell_type": "markdown",
   "id": "5d2f65e2",
   "metadata": {},
   "source": [
    "### b) Multiplicar por 66 la fila 4 de la matriz a)"
   ]
  },
  {
   "cell_type": "code",
   "execution_count": 17,
   "id": "8885a60f",
   "metadata": {},
   "outputs": [
    {
     "name": "stdout",
     "output_type": "stream",
     "text": [
      "[[ 0.5  0.5  0.5  0.5  0.5  0.5  0.5  0.5]\n",
      " [ 5.5  5.5  5.5  5.5  5.5  5.5  5.5  5.5]\n",
      " [ 0.5  0.5  0.5  0.5  0.5  0.5  0.5  0.5]\n",
      " [33.  33.  33.  33.  33.  33.  33.  33. ]\n",
      " [ 0.5  0.5  0.5  0.5  0.5  0.5  0.5  0.5]]\n"
     ]
    }
   ],
   "source": [
    "matriz_0_5[3,:]=matriz_0_5[3,:]*66\n",
    "B = matriz_0_5\n",
    "print (B)"
   ]
  },
  {
   "cell_type": "markdown",
   "id": "e81686ef",
   "metadata": {},
   "source": [
    "### c) Dividir  por 2 la fila 4 de la matriz b)"
   ]
  },
  {
   "cell_type": "code",
   "execution_count": 18,
   "id": "33d216d3",
   "metadata": {},
   "outputs": [
    {
     "name": "stdout",
     "output_type": "stream",
     "text": [
      "[[ 0.5  0.5  0.5  0.5  0.5  0.5  0.5  0.5]\n",
      " [ 5.5  5.5  5.5  5.5  5.5  5.5  5.5  5.5]\n",
      " [ 0.5  0.5  0.5  0.5  0.5  0.5  0.5  0.5]\n",
      " [16.5 16.5 16.5 16.5 16.5 16.5 16.5 16.5]\n",
      " [ 0.5  0.5  0.5  0.5  0.5  0.5  0.5  0.5]]\n"
     ]
    }
   ],
   "source": [
    "matriz_0_5[3,:]=matriz_0_5[3,:]/2\n",
    "print(matriz_0_5)"
   ]
  },
  {
   "cell_type": "markdown",
   "id": "23868a47",
   "metadata": {},
   "source": [
    "### Crea una matriz aleatoria de 5x5 con valores entre mayores a 1\n"
   ]
  },
  {
   "cell_type": "code",
   "execution_count": 19,
   "id": "81c95d9e",
   "metadata": {},
   "outputs": [
    {
     "data": {
      "text/plain": [
       "array([[1.47702451, 1.81847312, 1.92185198, 1.00866402, 1.14900606],\n",
       "       [1.23934394, 1.55300145, 1.10497468, 1.04616889, 1.03914921],\n",
       "       [1.50286286, 1.41275405, 1.285736  , 1.40305426, 1.85538127],\n",
       "       [1.9552463 , 1.05150567, 1.60627111, 1.25794719, 1.85513928],\n",
       "       [1.75494196, 1.77737053, 1.08632781, 1.46618156, 1.78498183]])"
      ]
     },
     "execution_count": 19,
     "metadata": {},
     "output_type": "execute_result"
    }
   ],
   "source": [
    "# random.rand: genera un array del tamaño indicado con números aleatorios\n",
    "# extraídos del intervalo [0, 1] a partir de una distribución uniforme\n",
    "import numpy as np\n",
    "np.random.rand(5,5)+1"
   ]
  },
  {
   "cell_type": "markdown",
   "id": "0c49043e",
   "metadata": {},
   "source": [
    "### Calcular el promedio de los elementos de las primeras dos filas de la matriz b) utilizando dos for anidados"
   ]
  },
  {
   "cell_type": "code",
   "execution_count": 20,
   "id": "a055e6ce",
   "metadata": {},
   "outputs": [
    {
     "name": "stdout",
     "output_type": "stream",
     "text": [
      "[[ 0.5  0.5  0.5  0.5  0.5  0.5  0.5  0.5]\n",
      " [ 5.5  5.5  5.5  5.5  5.5  5.5  5.5  5.5]\n",
      " [ 0.5  0.5  0.5  0.5  0.5  0.5  0.5  0.5]\n",
      " [16.5 16.5 16.5 16.5 16.5 16.5 16.5 16.5]\n",
      " [ 0.5  0.5  0.5  0.5  0.5  0.5  0.5  0.5]]\n",
      "\n",
      "Submatriz de 2x2 con las primeras dos filas\n",
      "[[0.5 0.5 0.5 0.5 0.5 0.5 0.5 0.5]\n",
      " [5.5 5.5 5.5 5.5 5.5 5.5 5.5 5.5]]\n",
      "\n",
      "La suma es 48.0 y el promedio es 3.0, para la matriz que tiene 16 elementos\n",
      "\n",
      "La suma es 48.0 y el promedio es 3.0, para la matriz que tiene 16 elementos\n"
     ]
    }
   ],
   "source": [
    "print (B)\n",
    "# Podemos crear una sub-matriz con las primeras dos filas\n",
    "print(\"\\nSubmatriz de 2x2 con las primeras dos filas\")\n",
    "new_matriz = (B[0:2,:])\n",
    "print (new_matriz)\n",
    "\n",
    "elementos = 0\n",
    "sumatoria = 0\n",
    "for fila in new_matriz:\n",
    "    for elemento in fila:\n",
    "        sumatoria += elemento\n",
    "        elementos += 1\n",
    "\n",
    "promedio = sumatoria / elementos\n",
    "print(f\"\\nLa suma es {sumatoria} y el promedio es {promedio}, para la matriz que tiene {elementos} elementos\"\n",
    ")\n",
    "\n",
    "print(\"\\nLa suma es {} y el promedio es {}, para la matriz que tiene {} elementos\".format(sumatoria, promedio, elementos))"
   ]
  },
  {
   "cell_type": "markdown",
   "id": "ea77d87c",
   "metadata": {},
   "source": [
    "### Hacer de manera libre un gráfico usando ```linspace``` para definir los datos\n",
    "\n",
    "#### X = linspace(primer_elemento, último_elemento, N_elementos_espaciados)"
   ]
  },
  {
   "cell_type": "code",
   "execution_count": 24,
   "id": "163b3e82",
   "metadata": {},
   "outputs": [
    {
     "name": "stdout",
     "output_type": "stream",
     "text": [
      "[ 1.          4.10526316  7.21052632 10.31578947 13.42105263 16.52631579\n",
      " 19.63157895 22.73684211 25.84210526 28.94736842 32.05263158 35.15789474\n",
      " 38.26315789 41.36842105 44.47368421 47.57894737 50.68421053 53.78947368\n",
      " 56.89473684 60.        ]\n",
      "[-3.         -0.73684211  1.52631579  3.78947368  6.05263158  8.31578947\n",
      " 10.57894737 12.84210526 15.10526316 17.36842105 19.63157895 21.89473684\n",
      " 24.15789474 26.42105263 28.68421053 30.94736842 33.21052632 35.47368421\n",
      " 37.73684211 40.        ]\n"
     ]
    }
   ],
   "source": [
    "import numpy as np\n",
    "\n",
    "a=np.linspace(1,60,20)\n",
    "print(a)\n",
    "b =np.linspace(-3,40,20)\n",
    "print(b)"
   ]
  },
  {
   "cell_type": "code",
   "execution_count": 23,
   "id": "9a5f5136",
   "metadata": {},
   "outputs": [
    {
     "data": {
      "text/plain": [
       "[<matplotlib.lines.Line2D at 0x10a4d4760>]"
      ]
     },
     "execution_count": 23,
     "metadata": {},
     "output_type": "execute_result"
    },
    {
     "data": {
      "image/png": "[encoded data removed]",
      "text/plain": [
       "<Figure size 432x288 with 1 Axes>"
      ]
     },
     "metadata": {
      "needs_background": "light"
     },
     "output_type": "display_data"
    }
   ],
   "source": [
    "import matplotlib.pyplot as plt\n",
    "plt.plot(a, b)"
   ]
  },
  {
   "cell_type": "markdown",
   "id": "9615b3ec",
   "metadata": {},
   "source": [
    "## Recordatorio Matrices:\n"
   ]
  },
  {
   "cell_type": "code",
   "execution_count": 42,
   "id": "3a332310",
   "metadata": {},
   "outputs": [
    {
     "data": {
      "text/plain": [
       "array([[1.81438261, 1.08607426, 1.3354945 , 1.99298351, 1.79426445],\n",
       "       [1.02179344, 1.91139668, 1.9847211 , 1.96147216, 1.16882051],\n",
       "       [1.95721519, 1.11073232, 1.04514383, 1.49696901, 1.75677893],\n",
       "       [1.33129987, 1.38948006, 1.49020332, 1.53776454, 1.8287217 ],\n",
       "       [1.44010353, 1.06076515, 1.82902573, 1.2799803 , 1.07342484]])"
      ]
     },
     "execution_count": 42,
     "metadata": {},
     "output_type": "execute_result"
    }
   ],
   "source": [
    "# random.rand: genera un array del tamaño indicado con números aleatorios\n",
    "# extraídos del intervalo [0, 1] a partir de una distribución uniforme\n",
    "import numpy as np\n",
    "Matriz = np.random.rand(5,5)+1\n",
    "Matriz"
   ]
  },
  {
   "cell_type": "code",
   "execution_count": 43,
   "id": "7b457250",
   "metadata": {},
   "outputs": [
    {
     "name": "stdout",
     "output_type": "stream",
     "text": [
      "<class 'numpy.ndarray'>\n",
      "(5, 5)\n",
      "25\n",
      "float64\n"
     ]
    }
   ],
   "source": [
    "print(type(Matriz))\n",
    "print(Matriz.shape)\n",
    "print(Matriz.size)\n",
    "print(Matriz.dtype)"
   ]
  },
  {
   "cell_type": "markdown",
   "id": "d44ab61d",
   "metadata": {},
   "source": [
    "## Acceso a la Matriz"
   ]
  },
  {
   "cell_type": "code",
   "execution_count": 68,
   "id": "aec5b822",
   "metadata": {},
   "outputs": [
    {
     "name": "stdout",
     "output_type": "stream",
     "text": [
      "[[1.81438261 1.08607426 1.3354945  1.99298351 1.79426445]\n",
      " [1.02179344 1.91139668 1.9847211  1.96147216 1.16882051]\n",
      " [1.95721519 1.11073232 1.04514383 1.49696901 1.75677893]\n",
      " [1.33129987 1.38948006 1.49020332 1.53776454 1.8287217 ]\n",
      " [1.44010353 1.06076515 1.82902573 1.2799803  1.07342484]]\n",
      "====\n",
      "Matriz[:] =\n",
      " [[1.81438261 1.08607426 1.3354945  1.99298351 1.79426445]\n",
      " [1.02179344 1.91139668 1.9847211  1.96147216 1.16882051]\n",
      " [1.95721519 1.11073232 1.04514383 1.49696901 1.75677893]\n",
      " [1.33129987 1.38948006 1.49020332 1.53776454 1.8287217 ]\n",
      " [1.44010353 1.06076515 1.82902573 1.2799803  1.07342484]]\n"
     ]
    }
   ],
   "source": [
    "print(Matriz)\n",
    "print(\"====\")\n",
    "print(\"Matriz[:] =\\n\", Matriz[:])\n"
   ]
  },
  {
   "cell_type": "code",
   "execution_count": 69,
   "id": "e2558b12",
   "metadata": {},
   "outputs": [
    {
     "name": "stdout",
     "output_type": "stream",
     "text": [
      "Matriz[0] = [1.81438261 1.08607426 1.3354945  1.99298351 1.79426445]\n"
     ]
    }
   ],
   "source": [
    "#Accederemos a la primera fila\n",
    "print(\"Matriz[0] =\", Matriz[0])"
   ]
  },
  {
   "cell_type": "code",
   "execution_count": 70,
   "id": "f90742c9",
   "metadata": {},
   "outputs": [
    {
     "name": "stdout",
     "output_type": "stream",
     "text": [
      "Matriz[0:1] =\n",
      " [[1.81438261 1.08607426 1.3354945  1.99298351 1.79426445]]\n"
     ]
    }
   ],
   "source": [
    "#Otra forma\n",
    "print(\"Matriz[0:1] =\\n\", Matriz[0:1])"
   ]
  },
  {
   "cell_type": "code",
   "execution_count": 71,
   "id": "1a19638f",
   "metadata": {},
   "outputs": [
    {
     "name": "stdout",
     "output_type": "stream",
     "text": [
      "Matriz[0][0] = 1.8143826060749781\n"
     ]
    }
   ],
   "source": [
    "#Accederemos al primer elemento de la primera fila\n",
    "print(\"Matriz[0][0] =\", Matriz[0][0])"
   ]
  },
  {
   "cell_type": "code",
   "execution_count": 77,
   "id": "42473c5b",
   "metadata": {},
   "outputs": [
    {
     "name": "stdout",
     "output_type": "stream",
     "text": [
      "Matriz[0:1,0] =\n",
      " [1.81438261]\n"
     ]
    }
   ],
   "source": [
    "#Otra forma\n",
    "print(\"Matriz[0:1,0] =\\n\", Matriz[0:1,0])"
   ]
  },
  {
   "cell_type": "code",
   "execution_count": 79,
   "id": "3fff5010",
   "metadata": {},
   "outputs": [
    {
     "name": "stdout",
     "output_type": "stream",
     "text": [
      "[[1.81438261 1.08607426 1.3354945  1.99298351 1.79426445]\n",
      " [1.02179344 1.91139668 1.9847211  1.96147216 1.16882051]\n",
      " [1.95721519 1.11073232 1.04514383 1.49696901 1.75677893]\n",
      " [1.33129987 1.38948006 1.49020332 1.53776454 1.8287217 ]\n",
      " [1.44010353 1.06076515 1.82902573 1.2799803  1.07342484]]\n"
     ]
    }
   ],
   "source": [
    "print(Matriz)"
   ]
  },
  {
   "cell_type": "code",
   "execution_count": 48,
   "id": "f710ef48",
   "metadata": {},
   "outputs": [
    {
     "name": "stdout",
     "output_type": "stream",
     "text": [
      "Matriz[1][2] = 1.9847210993095117\n"
     ]
    }
   ],
   "source": [
    "#Accederemos al tercer elemento de la segunda fila\n",
    "print(\"Matriz[1][2] =\", Matriz[1][2])"
   ]
  },
  {
   "cell_type": "code",
   "execution_count": 85,
   "id": "ad35613b",
   "metadata": {},
   "outputs": [
    {
     "name": "stdout",
     "output_type": "stream",
     "text": [
      "Matriz[1:2,2] =\n",
      " [[1.02179344 1.91139668 1.9847211  1.96147216 1.16882051]]\n"
     ]
    }
   ],
   "source": [
    "#Otra forma: fila 2, columna 3\n",
    "print(\"Matriz[1:2,2] =\\n\", Matriz[1:2])"
   ]
  },
  {
   "cell_type": "code",
   "execution_count": 86,
   "id": "4cd2ca8a",
   "metadata": {},
   "outputs": [
    {
     "name": "stdout",
     "output_type": "stream",
     "text": [
      "Matriz[:,0] = [1.81438261 1.02179344 1.95721519 1.33129987 1.44010353]\n"
     ]
    }
   ],
   "source": [
    "#Accederemos a la primera columna\n",
    "print(\"Matriz[:,0] =\", Matriz[:,0])\n"
   ]
  },
  {
   "cell_type": "markdown",
   "id": "a79ab5a5",
   "metadata": {},
   "source": [
    "**Material suplementario de matrices**: https://pythondiario.com/2019/01/matrices-en-python-y-numpy.html"
   ]
  },
  {
   "cell_type": "markdown",
   "id": "eaa5639a",
   "metadata": {},
   "source": [
    "# Otras formas de Graficar"
   ]
  },
  {
   "cell_type": "markdown",
   "id": "1de45cb8",
   "metadata": {},
   "source": [
    "\n",
    "\n",
    "# Otras formas de Graficar"
   ]
  },
  {
   "cell_type": "code",
   "execution_count": 38,
   "id": "0bc90abf",
   "metadata": {},
   "outputs": [
    {
     "data": {
      "image/png": "[encoded data removed]",
      "text/plain": [
       "<Figure size 432x288 with 1 Axes>"
      ]
     },
     "metadata": {
      "needs_background": "light"
     },
     "output_type": "display_data"
    }
   ],
   "source": [
    "## Ejemplo usando una funcion\n",
    "\n",
    "def f(x):\n",
    "    return x*(x-3)*(x+3)\n",
    "\n",
    "\n",
    "x_values = np.linspace(-5, 5)\n",
    "\n",
    "plt.plot(x1_values, f(x_values),'o')\n",
    "\n",
    "# Add labels\n",
    "plt.title('Gráfico de f(x) usando np.linspace')\n",
    "plt.xlabel('x1')\n",
    "plt.ylabel('f(x)')\n",
    "\n",
    "plt.show()"
   ]
  },
  {
   "cell_type": "code",
   "execution_count": 92,
   "id": "a0d704b4",
   "metadata": {},
   "outputs": [
    {
     "data": {
      "image/png": "[encoded data removed]",
      "text/plain": [
       "<Figure size 432x288 with 1 Axes>"
      ]
     },
     "metadata": {
      "needs_background": "light"
     },
     "output_type": "display_data"
    }
   ],
   "source": [
    "x2_values = np.linspace(-10, 10)\n",
    "plt.plot(x1_values, f(x_values), 'o')\n",
    "plt.plot(x2_values, f(x_values), 'o')\n",
    "plt.show()"
   ]
  },
  {
   "cell_type": "code",
   "execution_count": 103,
   "id": "d05eed72",
   "metadata": {},
   "outputs": [
    {
     "data": {
      "image/png": "[encoded data removed]",
      "text/plain": [
       "<Figure size 432x288 with 1 Axes>"
      ]
     },
     "metadata": {
      "needs_background": "light"
     },
     "output_type": "display_data"
    }
   ],
   "source": [
    "x2_values = np.linspace(-10, 10)\n",
    "plt.plot(x1_values, f(x_values) + 50, 'o')\n",
    "plt.plot(x2_values, f(x_values) + 10, 'o')\n",
    "plt.show()"
   ]
  },
  {
   "cell_type": "code",
   "execution_count": 34,
   "id": "6d2375db",
   "metadata": {},
   "outputs": [
    {
     "name": "stdout",
     "output_type": "stream",
     "text": [
      "[-20.         -19.18367347 -18.36734694 -17.55102041 -16.73469388\n",
      " -15.91836735 -15.10204082 -14.28571429 -13.46938776 -12.65306122\n",
      " -11.83673469 -11.02040816 -10.20408163  -9.3877551   -8.57142857\n",
      "  -7.75510204  -6.93877551  -6.12244898  -5.30612245  -4.48979592\n",
      "  -3.67346939  -2.85714286  -2.04081633  -1.2244898   -0.40816327\n",
      "   0.40816327   1.2244898    2.04081633   2.85714286   3.67346939\n",
      "   4.48979592   5.30612245   6.12244898   6.93877551   7.75510204\n",
      "   8.57142857   9.3877551   10.20408163  11.02040816  11.83673469\n",
      "  12.65306122  13.46938776  14.28571429  15.10204082  15.91836735\n",
      "  16.73469388  17.55102041  18.36734694  19.18367347  20.        ]\n"
     ]
    }
   ],
   "source": [
    "x3_values = np.linspace(-20,20)\n",
    "print(x3_values)"
   ]
  },
  {
   "cell_type": "code",
   "execution_count": 35,
   "id": "ee8e1fb5",
   "metadata": {},
   "outputs": [
    {
     "data": {
      "image/png": "[encoded data removed]",
      "text/plain": [
       "<Figure size 432x288 with 1 Axes>"
      ]
     },
     "metadata": {
      "needs_background": "light"
     },
     "output_type": "display_data"
    }
   ],
   "source": [
    "plt.plot(x1_values, f(x_values) + 0.5, 'o')\n",
    "plt.plot(x2_values, f(x_values) + 0.5, 'o')\n",
    "plt.plot(x3_values, f(x_values) + 0.5, 'o')\n",
    "plt.show()"
   ]
  },
  {
   "cell_type": "code",
   "execution_count": 36,
   "id": "a24d833c",
   "metadata": {},
   "outputs": [
    {
     "data": {
      "image/png": "[encoded data removed]",
      "text/plain": [
       "<Figure size 432x288 with 1 Axes>"
      ]
     },
     "metadata": {
      "needs_background": "light"
     },
     "output_type": "display_data"
    }
   ],
   "source": [
    "plt.plot(x1_values, f(x_values) + 0.5, 'x')\n",
    "plt.plot(x2_values, f(x_values) + 0.5, 'x')\n",
    "plt.plot(x3_values, f(x_values) + 0.5, 'x')\n",
    "plt.show()"
   ]
  },
  {
   "cell_type": "code",
   "execution_count": 37,
   "id": "a49624c2",
   "metadata": {},
   "outputs": [
    {
     "data": {
      "image/png": "[encoded data removed]",
      "text/plain": [
       "<Figure size 432x288 with 1 Axes>"
      ]
     },
     "metadata": {
      "needs_background": "light"
     },
     "output_type": "display_data"
    }
   ],
   "source": [
    "plt.plot(x1_values, f(x_values))\n",
    "plt.plot(x2_values, f(x_values))\n",
    "plt.plot(x3_values, f(x_values))\n",
    "plt.show()"
   ]
  },
  {
   "cell_type": "markdown",
   "id": "3529c5f1",
   "metadata": {},
   "source": [
    "# Ficheros\n",
    "## Leer archivos"
   ]
  },
  {
   "cell_type": "code",
   "execution_count": 117,
   "id": "e7d66b4a",
   "metadata": {},
   "outputs": [],
   "source": [
    "!echo \"Contenido de la primera linea \\nContenido de la segunda linea \\nContenido de la tercera linea \\nContenido de la cuarta linea\" >ejemplo.txt"
   ]
  },
  {
   "cell_type": "code",
   "execution_count": 118,
   "id": "b4c4564b",
   "metadata": {},
   "outputs": [
    {
     "name": "stdout",
     "output_type": "stream",
     "text": [
      "Clase7.ipynb Clase8.ipynb ejemplo1.jpg fibo.py\r\n",
      "Clase7.zip   ejemplo.txt  esquema1.jpg\r\n"
     ]
    }
   ],
   "source": [
    "!ls"
   ]
  },
  {
   "cell_type": "code",
   "execution_count": 119,
   "id": "4196a68c",
   "metadata": {},
   "outputs": [
    {
     "name": "stdout",
     "output_type": "stream",
     "text": [
      "Contenido de la primera linea \r\n",
      "Contenido de la segunda linea \r\n",
      "Contenido de la tercera linea \r\n",
      "Contenido de la cuarta linea\r\n"
     ]
    }
   ],
   "source": [
    "!cat ejemplo.txt"
   ]
  },
  {
   "cell_type": "code",
   "execution_count": 120,
   "id": "6ab2377b",
   "metadata": {},
   "outputs": [],
   "source": [
    "### Abrir el fichero\n",
    "fichero = open('ejemplo.txt')"
   ]
  },
  {
   "cell_type": "code",
   "execution_count": 123,
   "id": "74c2d96d",
   "metadata": {},
   "outputs": [
    {
     "data": {
      "text/plain": [
       "<_io.TextIOWrapper name='ejemplo.txt' mode='r' encoding='UTF-8'>"
      ]
     },
     "execution_count": 123,
     "metadata": {},
     "output_type": "execute_result"
    }
   ],
   "source": [
    "fichero"
   ]
  },
  {
   "cell_type": "markdown",
   "id": "30f48b77",
   "metadata": {},
   "source": [
    "\n",
    "### Argumentos de open()\n",
    "```\n",
    "‘r’: Por defecto, para leer el fichero.\n",
    "\n",
    "‘w’: Para escribir en el fichero.\n",
    "\n",
    "‘x’: Para la creación, fallando si ya existe.\n",
    "\n",
    "‘a’: Para añadir contenido a un fichero existente.\n",
    "\n",
    "‘b’: Para abrir en modo binario\n",
    "```"
   ]
  },
  {
   "cell_type": "code",
   "execution_count": 128,
   "id": "c80a8a8e",
   "metadata": {},
   "outputs": [],
   "source": [
    "fichero = open('ejemplo.txt', 'r')"
   ]
  },
  {
   "cell_type": "markdown",
   "id": "9fddc1e4",
   "metadata": {},
   "source": [
    "## método read\n",
    "Con open() vamos a tener el fichero listo para usar, y podemos imprimir su contenido con read(). "
   ]
  },
  {
   "cell_type": "code",
   "execution_count": 125,
   "id": "137b4798",
   "metadata": {},
   "outputs": [
    {
     "name": "stdout",
     "output_type": "stream",
     "text": [
      "Contenido de la primera linea \n",
      "Contenido de la segunda linea \n",
      "Contenido de la tercera linea \n",
      "Contenido de la cuarta linea\n",
      "\n"
     ]
    }
   ],
   "source": [
    "print(fichero.read())"
   ]
  },
  {
   "cell_type": "code",
   "execution_count": 130,
   "id": "17d92c0b",
   "metadata": {},
   "outputs": [
    {
     "name": "stdout",
     "output_type": "stream",
     "text": [
      "Contenido de la primera linea \n",
      "\n"
     ]
    }
   ],
   "source": [
    "#readline(): se puede leer un número de líneas determinado \n",
    "#y no todo el fichero de golpe, es decir, leer línea a línea\n",
    "fichero = open('ejemplo.txt', 'r')\n",
    "print(fichero.readline())"
   ]
  },
  {
   "cell_type": "code",
   "execution_count": 131,
   "id": "0ffb5331",
   "metadata": {},
   "outputs": [
    {
     "name": "stdout",
     "output_type": "stream",
     "text": [
      "Contenido de la segunda linea \n",
      "\n"
     ]
    }
   ],
   "source": [
    "print(fichero.readline())"
   ]
  },
  {
   "cell_type": "markdown",
   "id": "8534b687",
   "metadata": {},
   "source": [
    "### Cerrar el fichero close()"
   ]
  },
  {
   "cell_type": "code",
   "execution_count": 134,
   "id": "94cc2d00",
   "metadata": {},
   "outputs": [],
   "source": [
    "## Cerrando el fichero\n",
    "\n",
    "fichero = open('ejemplo.txt', 'r')\n",
    "\n",
    "# Cerrar el fichero\n",
    "fichero.close()"
   ]
  },
  {
   "cell_type": "markdown",
   "id": "2bf05929",
   "metadata": {},
   "source": [
    "## Usando Excepciones\n",
    "\n",
    "`finally` se ejecuta siempre sin importar si hay un error o no. De esta manera el close() siempre será ejecutado."
   ]
  },
  {
   "cell_type": "code",
   "execution_count": 137,
   "id": "f2a1d3ec",
   "metadata": {},
   "outputs": [],
   "source": [
    "fichero = open('ejemplo.txt', 'r')\n",
    "try:\n",
    "    # Usar el fichero\n",
    "    pass\n",
    "finally:\n",
    "    # Esta sección es siempre ejecutada\n",
    "    fichero.close()"
   ]
  },
  {
   "cell_type": "markdown",
   "id": "61ad3a8b",
   "metadata": {},
   "source": [
    "### Otra forma de cerrar el fichero automáticamente `with()`"
   ]
  },
  {
   "cell_type": "code",
   "execution_count": 138,
   "id": "9537fb30",
   "metadata": {},
   "outputs": [],
   "source": [
    "with open('ejemplo.txt') as fichero:\n",
    "    # Usar el fichero. Se cerrará automáticamente\n",
    "    pass"
   ]
  },
  {
   "cell_type": "markdown",
   "id": "241e0b41",
   "metadata": {},
   "source": [
    "## Ejemplos"
   ]
  },
  {
   "cell_type": "code",
   "execution_count": 141,
   "id": "81fdbcdf",
   "metadata": {},
   "outputs": [
    {
     "name": "stdout",
     "output_type": "stream",
     "text": [
      "Contenido de la primera linea \n",
      "\n",
      "Contenido de la segunda linea \n",
      "\n",
      "Contenido de la tercera linea \n",
      "\n",
      "Contenido de la cuarta linea\n",
      "\n"
     ]
    }
   ],
   "source": [
    "with open('ejemplo.txt', 'r') as fichero:\n",
    "    linea = fichero.readline()\n",
    "    while linea != '':\n",
    "        print(linea)\n",
    "        linea = fichero.readline()"
   ]
  },
  {
   "cell_type": "markdown",
   "id": "6c886768",
   "metadata": {},
   "source": [
    "La función print() de Python viene con un parámetro llamado 'end'. Por defecto, el valor de este parámetro es '\\n', es decir, el carácter de nueva línea. Puedes terminar una sentencia print con cualquier carácter/cadena usando este parámetro.\n",
    "En el siguiente ejemplo se usa end='' para decirle a Python que no imprima el salto de línea \\n al final del print."
   ]
  },
  {
   "cell_type": "code",
   "execution_count": 142,
   "id": "bb6fd0f1",
   "metadata": {},
   "outputs": [
    {
     "name": "stdout",
     "output_type": "stream",
     "text": [
      "Contenido de la primera linea \n",
      "Contenido de la segunda linea \n",
      "Contenido de la tercera linea \n",
      "Contenido de la cuarta linea\n"
     ]
    }
   ],
   "source": [
    "with open('ejemplo.txt', 'r') as fichero:\n",
    "    linea = fichero.readline()\n",
    "    while linea != '':\n",
    "        print(linea, end='')\n",
    "        linea = fichero.readline()"
   ]
  },
  {
   "cell_type": "markdown",
   "id": "4d07b0c6",
   "metadata": {},
   "source": [
    "Nos podemos ahorrar alguna línea de código si hacemos lo siguiente, ya que readlines() nos devuelve directamente una lista que podemos iterar con las líneas."
   ]
  },
  {
   "cell_type": "code",
   "execution_count": 143,
   "id": "febd7f1b",
   "metadata": {},
   "outputs": [
    {
     "name": "stdout",
     "output_type": "stream",
     "text": [
      "Contenido de la primera linea \n",
      "Contenido de la segunda linea \n",
      "Contenido de la tercera linea \n",
      "Contenido de la cuarta linea\n"
     ]
    }
   ],
   "source": [
    "with open('ejemplo.txt', 'r') as fichero:\n",
    "    for linea in fichero.readlines():\n",
    "        print(linea, end='')"
   ]
  },
  {
   "cell_type": "markdown",
   "id": "ff5660bc",
   "metadata": {},
   "source": [
    "Y puede ser simplificado aún más :\n",
    "    "
   ]
  },
  {
   "cell_type": "code",
   "execution_count": 144,
   "id": "af15f5c3",
   "metadata": {},
   "outputs": [
    {
     "name": "stdout",
     "output_type": "stream",
     "text": [
      "Contenido de la primera linea \n",
      "Contenido de la segunda linea \n",
      "Contenido de la tercera linea \n",
      "Contenido de la cuarta linea\n"
     ]
    }
   ],
   "source": [
    "with open('ejemplo.txt', 'r') as fichero:\n",
    "    for linea in fichero:\n",
    "        print(linea, end='')"
   ]
  },
  {
   "cell_type": "markdown",
   "id": "31a140f5",
   "metadata": {},
   "source": [
    "## Escribir Archivos\n",
    "```\n",
    "    ‘w’: Borra el fichero si ya existiese y crea uno nuevo con el nombre indicado.\n",
    "    ‘a’: Añadirá el contenido al final del fichero si ya existiese (append end Inglés)\n",
    "    ‘x’: Si ya existe el fichero se devuelve un error.\n",
    "    \n",
    "```"
   ]
  },
  {
   "cell_type": "code",
   "execution_count": 145,
   "id": "0c6eccbc",
   "metadata": {},
   "outputs": [],
   "source": [
    "# Abre un nuevo fichero\n",
    "fichero = open(\"datos_guardados.txt\", 'w')"
   ]
  },
  {
   "cell_type": "markdown",
   "id": "e42c71d9",
   "metadata": {},
   "source": [
    "Si por lo contrario queremos añadir el contenido al ya existente en un fichero de antes, podemos hacerlo en el modo append"
   ]
  },
  {
   "cell_type": "code",
   "execution_count": 146,
   "id": "d69f1fb5",
   "metadata": {},
   "outputs": [],
   "source": [
    "# Abre un nuevo y añade el contenido al final\n",
    "fichero = open(\"datos_guardados.txt\", 'a')"
   ]
  },
  {
   "cell_type": "markdown",
   "id": "70cba806",
   "metadata": {},
   "source": [
    "# Write()"
   ]
  },
  {
   "cell_type": "code",
   "execution_count": 148,
   "id": "a2ebc475",
   "metadata": {},
   "outputs": [],
   "source": [
    "fichero = open(\"datos_guardados.txt\", 'w')\n",
    "fichero.write(\"Contenido a escribir\")\n",
    "fichero.close()"
   ]
  },
  {
   "cell_type": "code",
   "execution_count": 149,
   "id": "df18b4a8",
   "metadata": {},
   "outputs": [
    {
     "name": "stdout",
     "output_type": "stream",
     "text": [
      "Contenido a escribir"
     ]
    }
   ],
   "source": [
    "##Uso de bash\n",
    "!cat datos_guardados.txt"
   ]
  },
  {
   "cell_type": "markdown",
   "id": "2d17e6d2",
   "metadata": {},
   "source": [
    "Es muy importante el uso de `close()` ya que si dejamos el fichero abierto, podríamos llegar a tener un comportamiento inesperado que queremos evitar. Por lo tanto, siempre que se abre un fichero es necesario cerrarlo cuando hayamos acabado."
   ]
  },
  {
   "cell_type": "markdown",
   "id": "b6225e06",
   "metadata": {},
   "source": [
    "## Ejemplos\n"
   ]
  },
  {
   "cell_type": "code",
   "execution_count": 150,
   "id": "22d9c648",
   "metadata": {},
   "outputs": [],
   "source": [
    "\n",
    "# Abrimos el fichero\n",
    "fichero = open(\"datos_guardados.txt\", 'w')\n",
    "\n",
    "# Tenemos unos datos que queremos guardar\n",
    "lista = [\"Manzana\", \"Pera\", \"Plátano\"]\n",
    "\n",
    "# Guardamos la lista en el fichero\n",
    "for linea in lista:\n",
    "    fichero.write(linea + \"\\n\")\n",
    "\n",
    "# Cerramos el fichero\n",
    "fichero.close()"
   ]
  },
  {
   "cell_type": "code",
   "execution_count": 151,
   "id": "42bed170",
   "metadata": {},
   "outputs": [
    {
     "name": "stdout",
     "output_type": "stream",
     "text": [
      "Manzana\r\n",
      "Pera\r\n",
      "Plátano\r\n"
     ]
    }
   ],
   "source": [
    "!cat datos_guardados.txt"
   ]
  },
  {
   "cell_type": "markdown",
   "id": "0998f018",
   "metadata": {},
   "source": [
    "# Writelines()\n",
    "También podemos usar el método `writelines()`y pasarle una lista. Dicho método se encargará de guardar todos los elementos de la lista en el fichero."
   ]
  },
  {
   "cell_type": "code",
   "execution_count": 152,
   "id": "d44bd889",
   "metadata": {},
   "outputs": [],
   "source": [
    "fichero = open(\"datos_guardados.txt\", 'w')\n",
    "lista = [\"Manzana\", \"Pera\", \"Plátano\"]\n",
    "\n",
    "fichero.writelines(lista)\n",
    "fichero.close()\n",
    "\n",
    "# Se guarda\n",
    "# ManzanaPeraPlátano"
   ]
  },
  {
   "cell_type": "code",
   "execution_count": 153,
   "id": "0e19ba43",
   "metadata": {},
   "outputs": [
    {
     "name": "stdout",
     "output_type": "stream",
     "text": [
      "ManzanaPeraPlátano"
     ]
    }
   ],
   "source": [
    "!cat datos_guardados.txt"
   ]
  },
  {
   "cell_type": "markdown",
   "id": "9f6346dc",
   "metadata": {},
   "source": [
    "Vemos que ManzanaPeraPlátano, esta todo junto. Si queremos que cada elemento se almacene en una línea distinta, deberíamos añadir el salto de línea en cada elemento de la lista como se muestra a continuación."
   ]
  },
  {
   "cell_type": "code",
   "execution_count": 154,
   "id": "fe05873e",
   "metadata": {},
   "outputs": [],
   "source": [
    "fichero = open(\"datos_guardados.txt\", 'w')\n",
    "lista = [\"Manzana\\n\", \"Pera\\n\", \"Plátano\\n\"]\n",
    "\n",
    "fichero.writelines(lista)\n",
    "fichero.close()"
   ]
  },
  {
   "cell_type": "code",
   "execution_count": 155,
   "id": "88bea794",
   "metadata": {},
   "outputs": [
    {
     "name": "stdout",
     "output_type": "stream",
     "text": [
      "Manzana\r\n",
      "Pera\r\n",
      "Plátano\r\n"
     ]
    }
   ],
   "source": [
    "!cat datos_guardados.txt"
   ]
  },
  {
   "cell_type": "markdown",
   "id": "f4534b33",
   "metadata": {},
   "source": [
    "## Uso del with\n",
    "\n",
    "Podemos ahorrar una línea de código si hacemos uso de lo siguiente. En este caso nos podemos ahorrar la llamada al close() ya que se realiza automáticamente. El código anterior se podría reescribir de la siguiente manera."
   ]
  },
  {
   "cell_type": "code",
   "execution_count": 157,
   "id": "d7846ef9",
   "metadata": {},
   "outputs": [],
   "source": [
    "lista = [\"Manzana\\n\", \"Pera\\n\", \"Plátano\\n\"]\n",
    "with open(\"datos_guardados.txt\", 'w') as fichero:\n",
    "     fichero.writelines(lista)"
   ]
  },
  {
   "cell_type": "code",
   "execution_count": 158,
   "id": "4a06e215",
   "metadata": {},
   "outputs": [
    {
     "name": "stdout",
     "output_type": "stream",
     "text": [
      "Manzana\r\n",
      "Pera\r\n",
      "Plátano\r\n"
     ]
    }
   ],
   "source": [
    "!cat datos_guardados.txt"
   ]
  },
  {
   "cell_type": "markdown",
   "id": "9b898175",
   "metadata": {},
   "source": [
    "## Ejemplos escribir ficheros \n",
    "El uso de ‘x’ hace que si el fichero ya existe se devuelve un error. En el siguiente código creamos un fichero e inmediatamente después intentamos crear un fichero con el mismo nombre con la opción ‘x’. Por lo tanto se devolverá un error."
   ]
  },
  {
   "cell_type": "code",
   "execution_count": 159,
   "id": "357c82be",
   "metadata": {},
   "outputs": [
    {
     "ename": "FileExistsError",
     "evalue": "[Errno 17] File exists: 'mi_fichero.txt'",
     "output_type": "error",
     "traceback": [
      "\u001b[0;31m---------------------------------------------------------------------------\u001b[0m",
      "\u001b[0;31mFileExistsError\u001b[0m                           Traceback (most recent call last)",
      "Input \u001b[0;32mIn [159]\u001b[0m, in \u001b[0;36m<cell line: 2>\u001b[0;34m()\u001b[0m\n\u001b[1;32m      1\u001b[0m f \u001b[38;5;241m=\u001b[39m \u001b[38;5;28mopen\u001b[39m(\u001b[38;5;124m\"\u001b[39m\u001b[38;5;124mmi_fichero.txt\u001b[39m\u001b[38;5;124m\"\u001b[39m, \u001b[38;5;124m\"\u001b[39m\u001b[38;5;124mw\u001b[39m\u001b[38;5;124m\"\u001b[39m)\n\u001b[0;32m----> 2\u001b[0m f \u001b[38;5;241m=\u001b[39m \u001b[38;5;28;43mopen\u001b[39;49m\u001b[43m(\u001b[49m\u001b[38;5;124;43m\"\u001b[39;49m\u001b[38;5;124;43mmi_fichero.txt\u001b[39;49m\u001b[38;5;124;43m\"\u001b[39;49m\u001b[43m,\u001b[49m\u001b[43m \u001b[49m\u001b[38;5;124;43m\"\u001b[39;49m\u001b[38;5;124;43mx\u001b[39;49m\u001b[38;5;124;43m\"\u001b[39;49m\u001b[43m)\u001b[49m\n",
      "\u001b[0;31mFileExistsError\u001b[0m: [Errno 17] File exists: 'mi_fichero.txt'"
     ]
    }
   ],
   "source": [
    "f = open(\"mi_fichero.txt\", \"w\")\n",
    "f = open(\"mi_fichero.txt\", \"x\")"
   ]
  },
  {
   "cell_type": "markdown",
   "id": "097b087c",
   "metadata": {},
   "source": [
    "Vamos a usar un fichero para establecer una comunicación entre dos funciones. \n",
    "(A efectos prácticos puede no resultar muy útil, pero es un buen ejemplo para mostrar la lectura y escritura de ficheros.)\n",
    "\n",
    "Tenemos por lo tanto una función escribe_fichero() que recibe un mensaje y lo escribe en un fichero determinado. Y por otro lado tenemos una función lee_fichero() que devuelve el mensaje que está escrito en el fichero.\n",
    "\n",
    "Lo interesante del ejemplo, es que podríamos tener estos dos códigos ejecutándose en diferentes maquinas o procesos, y podrían comunicarse a través del fichero. Por un lado se escribe y por el otro se lee."
   ]
  },
  {
   "cell_type": "code",
   "execution_count": 160,
   "id": "5a9db70d",
   "metadata": {},
   "outputs": [
    {
     "name": "stdout",
     "output_type": "stream",
     "text": [
      "Esto es un mensaje\n"
     ]
    }
   ],
   "source": [
    "# Escribe un mensaje en un fichero\n",
    "def escribe_fichero(mensaje):\n",
    "    with open('fichero_comunicacion.txt', 'w') as fichero:\n",
    "        fichero.write(mensaje)\n",
    "\n",
    "# Leer el mensaje del fichero        \n",
    "def lee_fichero():\n",
    "    mensaje = \"\"\n",
    "    with open('fichero_comunicacion.txt', 'r') as fichero:\n",
    "        mensaje = fichero.read()\n",
    "    # Borra el contenido del fichero para dejarlo vacío\n",
    "    f = open('fichero_comunicacion.txt', 'w')\n",
    "    f.close()\n",
    "    return mensaje\n",
    "\n",
    "escribe_fichero(\"Esto es un mensaje\")\n",
    "print(lee_fichero())"
   ]
  },
  {
   "cell_type": "markdown",
   "id": "5b090bff",
   "metadata": {},
   "source": [
    "En este ejercicio vamos a:\n",
    "Leer un archivo llamado personas que contendrá una lista de personas con los siguientes campos:\n",
    "\n",
    "    id\n",
    "    nombre\n",
    "    apellido\n",
    "    nacimiento\n",
    "    Leer cada línea y colocar cada campo un diccionario.\n",
    "    Mostrar los datos del diccionario."
   ]
  },
  {
   "cell_type": "code",
   "execution_count": 179,
   "id": "60e2e50c",
   "metadata": {},
   "outputs": [
    {
     "name": "stdout",
     "output_type": "stream",
     "text": [
      "id=1 Carlos Pérez 05/01/19\n",
      "id=2 Manuel Heredia 26/12/1973\n",
      "id=3 Rosa Campos 12/06/1961\n",
      "id=4 David García 25/07/2006\n"
     ]
    }
   ],
   "source": [
    "archivo=open(\"personas.txt\", encoding=\"utf-8\")\n",
    "lineas=archivo.readlines()\n",
    "archivo.close()\n",
    "personas=[]\n",
    "for linea in lineas:\n",
    "    campo=linea.replace(\"\\n\",\"\").split(\";\")\n",
    "    persona={\"id\":campo[0],\"nombre\":campo[1],\"apellido\":campo[2],\"nacimiento\":campo[3]}\n",
    "    personas.append(persona)\n",
    "for persona in personas:\n",
    "    print(f\"id={persona['id']} {persona['nombre']} {persona['apellido']} {persona['nacimiento']}\")"
   ]
  },
  {
   "cell_type": "code",
   "execution_count": null,
   "id": "94cca4f3",
   "metadata": {},
   "outputs": [],
   "source": []
  }
 ],
 "metadata": {
  "kernelspec": {
   "display_name": "Python 3",
   "language": "python",
   "name": "python3"
  },
  "language_info": {
   "codemirror_mode": {
    "name": "ipython",
    "version": 3
   },
   "file_extension": ".py",
   "mimetype": "text/x-python",
   "name": "python",
   "nbconvert_exporter": "python",
   "pygments_lexer": "ipython3",
   "version": "3.8.13"
  }
 },
 "nbformat": 4,
 "nbformat_minor": 5
}
