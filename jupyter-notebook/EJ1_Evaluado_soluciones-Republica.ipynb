{
 "cells": [
  {
   "cell_type": "markdown",
   "id": "4b7fbb81",
   "metadata": {},
   "source": [
    "### **1)** jupyter-notebook (1 pts).\n",
    "\n",
    "Cree un nuevo jupyter-notebook en python3. Coloque como nombre al archivo: Apellido1_Apellido2_Nombre_E1. En la primera celda, hágala de tipo Markdown y escriba sus datos: nombre completo, fecha y correo electrónico.\n",
    "\n",
    "Por cada ejercicio debe indicar a cuál número y letra corresponde. Puede hacer un tipo markdown e inmediatamente una segunda celda de tipo código para el desarrollo del ejercicio. También puede añadir comentarios \"#\" indicando el ejercicio"
   ]
  },
  {
   "cell_type": "markdown",
   "id": "7e44b33c",
   "metadata": {},
   "source": [
    "### Nombre: XXXX\n",
    "### Fecha : XX de Abril 2022\n",
    "### mail: malegriaa@udla.cl"
   ]
  },
  {
   "cell_type": "markdown",
   "id": "2a8c1e35",
   "metadata": {},
   "source": [
    "### **2)** Emparejamiento de Conceptos (7 puntos)\n",
    "El proceso para resolver problemas con una computadora implica la escritura de un programa y su posterior ejecución; así, la programación es un proceso de resolución de problemas. Existen diferentes técnicas para resolverlos, y aunque el proceso de diseñar y construir programas es esencialmente creativo, se pueden considerar diferentes etapas en el proceso de programación. Las fases de resolución de un problema y sus características más destacadas son: \n",
    "\n",
    "#### Relacione las siguientes palabras con el  concepto que mejor la describa. Para ello debe escrír más abajo la letra que corresponde a cada concepto. Tener en consideración que hay palabras distractoras\n",
    "\n",
    "A) `Diseño de algoritmo`  \n",
    "\n",
    "B) `Mantenimiento` \n",
    "\n",
    "C) `Programas` \n",
    "\n",
    "D) `Análisis`\n",
    "\n",
    "E) `Codificación` \n",
    "\n",
    "F) `Refinamiento` \n",
    "\n",
    "G) `Verificación y depuración`\n",
    "\n",
    "H) `Compilación y ejecución`  \n",
    "\n",
    "I) `Documentación`   \n",
    "\n"
   ]
  },
  {
   "cell_type": "markdown",
   "id": "88b0a3a2",
   "metadata": {},
   "source": [
    "\n",
    "`_______` La solución se escribe en la sintaxis de algún lenguaje de alto nivel (en este caso JAVA) y se obtiene un programa fuente que a continuación se compilará\n",
    "\n",
    "`_______` El problema se examina considerando la especificación de los requisitos dados por el cliente, respecto al programa.\n",
    "\n",
    "`_______` Una vez que se analiza el problema, se diseña una solución que conduzca a un algoritmo (método) que lo resuelva.\n",
    "\n",
    "`_______` Escritura de las diferentes fases del ciclo de vida del software, esencialmente el análisis, diseño y codificación; junto con manuales de usuario y de referencia, así como normas para el mantenimiento.\n",
    "\n",
    "`_______` El programa se comprueba rigurosamente y se eliminan todos los errores que aparezcan; a dichas erratas se les denomina bugs.\n",
    "\n",
    "`_______` El programa se agrupa, en el caso de Java se interpreta, y ejecuta.\n",
    "\n",
    "`_______` El programa se actualiza y se modifica cada vez que sea necesario para que se cumplan todas las necesidades de los usuarios; en esta fase se utilizan y mejoran los algoritmos realizando los cambios si los requisitos así lo exigen.\n",
    "\n"
   ]
  },
  {
   "cell_type": "markdown",
   "id": "7dab848f",
   "metadata": {},
   "source": [
    "Solucion:\n",
    "- [ E ] La solución se escribe en la sintaxis de algún lenguaje de alto nivel (en este caso JAVA) y se obtiene un programa fuente que a continuación se compilará\n",
    "\n",
    "- [ D ] El problema se examina considerando la especificación de los requisitos dados por el cliente, respecto al programa.\n",
    "\n",
    "- [ A ] Una vez que se analiza el problema, se diseña una solución que conduzca a un algoritmo (método) que lo resuelva.\n",
    "\n",
    "- [ I ] Escritura de las diferentes fases del ciclo de vida del software, esencialmente el análisis, diseño y codificación; junto con manuales de usuario y de referencia, así como normas para el mantenimiento.\n",
    "\n",
    "- [ G ] El programa se comprueba rigurosamente y se eliminan todos los errores que aparezcan; a dichas erratas se les denomina bugs.\n",
    "\n",
    "- [ H ] El programa se agrupa, en el caso de Java se interpreta, y ejecuta.\n",
    "\n",
    "- [ B ] El programa se actualiza y se modifica cada vez que sea necesario para que se cumplan todas las necesidades de los usuarios; en esta fase se utilizan y mejoran los algoritmos realizando los cambios si los requisitos así lo exigen.\n",
    "\n",
    "\n",
    "\n"
   ]
  },
  {
   "cell_type": "markdown",
   "id": "0484a8b3",
   "metadata": {},
   "source": [
    "### **3)** String **(Total 4 pts)**\n",
    "\n",
    "Cree una variable de tipo string con el siguiente texto: \n",
    "    \n",
    "\n",
    "    Python es un lenguaje de programación interpretado cuya filosofía hace \n",
    "    hincapié en la legibilidad de su código. Es un lenguaje interpretado,\n",
    "    dinámico y multiplataforma.\n",
    " \n",
    "\n",
    "**a)** Pasar todo el texto a mayúscula **(1 pts)** "
   ]
  },
  {
   "cell_type": "markdown",
   "id": "8e4fc482",
   "metadata": {},
   "source": [
    "### 3) a)"
   ]
  },
  {
   "cell_type": "code",
   "execution_count": 10,
   "id": "36d4c4fe",
   "metadata": {},
   "outputs": [
    {
     "name": "stdout",
     "output_type": "stream",
     "text": [
      "Python es un lenguaje de programación interpretado cuya filosofía hace hincapié en la legibilidad de su código. Es un lenguaje interpretado, dinámico y multiplataforma.\n"
     ]
    },
    {
     "data": {
      "text/plain": [
       "'PYTHON ES UN LENGUAJE DE PROGRAMACIÓN INTERPRETADO CUYA FILOSOFÍA HACE HINCAPIÉ EN LA LEGIBILIDAD DE SU CÓDIGO. ES UN LENGUAJE INTERPRETADO, DINÁMICO Y MULTIPLATAFORMA.'"
      ]
     },
     "execution_count": 10,
     "metadata": {},
     "output_type": "execute_result"
    }
   ],
   "source": [
    "texto = \"Python es un lenguaje de programación interpretado cuya filosofía hace hincapié en la legibilidad de su código. Es un lenguaje interpretado, dinámico y multiplataforma.\"\n",
    "print(texto)\n",
    "texto.upper()"
   ]
  },
  {
   "cell_type": "markdown",
   "id": "79aaf24a",
   "metadata": {},
   "source": [
    "**b)** Obtener cuántas **a** hay en el texto en total **(1 pts)**\n"
   ]
  },
  {
   "cell_type": "markdown",
   "id": "a253775b",
   "metadata": {},
   "source": [
    "### 3) b)"
   ]
  },
  {
   "cell_type": "code",
   "execution_count": 11,
   "id": "489d6632",
   "metadata": {},
   "outputs": [
    {
     "data": {
      "text/plain": [
       "15"
      ]
     },
     "execution_count": 11,
     "metadata": {},
     "output_type": "execute_result"
    }
   ],
   "source": [
    "texto.count('a')"
   ]
  },
  {
   "cell_type": "markdown",
   "id": "7561013b",
   "metadata": {},
   "source": [
    "**c)** Obtener las letras de la posición 0, 59, 13, 18 y 131 **(1 pts)**\n"
   ]
  },
  {
   "cell_type": "markdown",
   "id": "2a2a9993",
   "metadata": {},
   "source": [
    "### 3) c)"
   ]
  },
  {
   "cell_type": "code",
   "execution_count": 12,
   "id": "f8987c23",
   "metadata": {},
   "outputs": [
    {
     "name": "stdout",
     "output_type": "stream",
     "text": [
      "P\n",
      "o\n",
      "l\n",
      "a\n",
      "r\n"
     ]
    }
   ],
   "source": [
    "print(texto[0])\n",
    "print(texto[59])\n",
    "print(texto[13])\n",
    "print(texto[18])\n",
    "print(texto[131])\n"
   ]
  },
  {
   "cell_type": "markdown",
   "id": "58899f04",
   "metadata": {},
   "source": [
    "**d)** Hacer una sub-cadena desde la posición 55 en adelante **(1 pts)**\n"
   ]
  },
  {
   "cell_type": "markdown",
   "id": "3692d4fe",
   "metadata": {},
   "source": [
    "### 3) d)"
   ]
  },
  {
   "cell_type": "code",
   "execution_count": 13,
   "id": "495158d4",
   "metadata": {},
   "outputs": [
    {
     "name": "stdout",
     "output_type": "stream",
     "text": [
      " filosofía hace hincapié en la legibilidad de su código. Es un lenguaje interpretado, dinámico y multiplataforma.\n"
     ]
    }
   ],
   "source": [
    "subcadena = (texto[55:])\n",
    "print (subcadena)"
   ]
  },
  {
   "cell_type": "markdown",
   "id": "b7001a68",
   "metadata": {},
   "source": [
    "### **4)** Ejercicio **(Total 5 pts)**\n",
    "\n",
    "Escribe un programa que solicite al usuario dos números y una frase. El primer número introducido se corresponderá a la posición de inicio del substring que deberá mostrar el programa por pantalla. El segundo número indicará la longitud de dicho substring.\n",
    "\n",
    "    Ejemplo 1: Posicion=4, Longitud=8, Frase='Desarrollar es mi nueva afición'\n",
    "    Resultado 1: \"rrollar \"\n",
    "    \n",
    "    Ejemplo 2: Posicion=8, Longitud=11, Frase='Bienvenido a la clase de programación'\n",
    "    Resultado 2: \"do a la cla\"\n",
    "\n"
   ]
  },
  {
   "cell_type": "code",
   "execution_count": 14,
   "id": "eaf376b5",
   "metadata": {},
   "outputs": [
    {
     "name": "stdout",
     "output_type": "stream",
     "text": [
      "Ingrese la posición del substring (un número entero) : 4\n",
      "Ingrese longitud del substring (número entero) : 8\n",
      "Ingrese una frase :Desarrollar es mi nueva afición\n",
      "rrollar \n"
     ]
    }
   ],
   "source": [
    "posicion=int(input(\"Ingrese la posición del substring (un número entero) : \"))\n",
    "longitud=int(input(\"Ingrese longitud del substring (número entero) : \"))\n",
    "palabra=str(input(\"Ingrese una frase :\"))\n",
    "print(palabra[(posicion):(posicion+longitud)])"
   ]
  },
  {
   "cell_type": "markdown",
   "id": "65d00179",
   "metadata": {},
   "source": [
    "### **5)** Ejercicio Operaciones **(Total 5 pts)**\n",
    "\n",
    "Crea un programa que solicite al usuario dos números enteros y muestre por pantalla el resultado de las siguientes operaciones: suma, resta, multiplicación y división. Ejemplo:\n",
    "\n",
    "```\n",
    "Introduce el primer número: 8\n",
    "Introduce el segundo número: 2\n",
    "La suma es: 10\n",
    "La resta es: 6\n",
    "La multiplicación es: 16\n",
    "La división es: 4.0\n",
    "```"
   ]
  },
  {
   "cell_type": "code",
   "execution_count": 15,
   "id": "20f9f1fb",
   "metadata": {},
   "outputs": [
    {
     "name": "stdout",
     "output_type": "stream",
     "text": [
      "Introduce el primer numero entero : 2\n",
      "Introduce el segundo numero entero: 4\n",
      "La suma es:  6\n",
      "La resta es:  -2\n",
      "La multiplicación es:  8\n",
      "La división es:  0.5\n"
     ]
    }
   ],
   "source": [
    "number1=int(input(\"Introduce el primer numero entero : \")) \n",
    "number2=int(input(\"Introduce el segundo numero entero: \"))\n",
    "print(\"La suma es: \", number1+number2)\n",
    "print(\"La resta es: \", number1-number2)\n",
    "print(\"La multiplicación es: \", number1*number2)\n",
    "print(\"La división es: \", number1/number2)"
   ]
  },
  {
   "cell_type": "markdown",
   "id": "31dfaaa2",
   "metadata": {},
   "source": [
    "### *6)* Listas **(Total 5 pts)**\n",
    "**a)** Crear una lista que contenga ['a', 'b', 'c', 'd', 'e', 'f', 'g', 'h', 'i', 'j']. **(1 pts)** \n",
    "\n",
    "**b)** Imprimir una sub-lista que contenga d,e,f **(1 pts)** \n",
    "\n",
    "**c)** Obtener la posición del carater \"e\" **(1 pts)**\n",
    "\n",
    "**d)** Crear una sub-lista desde \"e\" en adelante  **(1 pts)**\n",
    "\n",
    "**e)** Imprimir todos los elemento de la lista **(1 pts)**\n"
   ]
  },
  {
   "cell_type": "code",
   "execution_count": 16,
   "id": "b7a2fecd",
   "metadata": {},
   "outputs": [
    {
     "name": "stdout",
     "output_type": "stream",
     "text": [
      "['a', 'b', 'c', 'd', 'e', 'f', 'g', 'h', 'i', 'j']\n",
      "['d', 'e', 'f']\n",
      "4\n",
      "['e', 'f', 'g', 'h', 'i', 'j']\n",
      "a\n",
      "b\n",
      "c\n",
      "d\n",
      "e\n",
      "f\n",
      "g\n",
      "h\n",
      "i\n",
      "j\n"
     ]
    }
   ],
   "source": [
    "#Ej3\n",
    "#a\n",
    "lista = ['a', 'b', 'c', 'd', 'e', 'f', 'g', 'h', 'i', 'j']\n",
    "print(lista)\n",
    "#b\n",
    "print(lista[3:6])\n",
    "#c\n",
    "print(lista.index('e'))\n",
    "#d\n",
    "lista2 = lista[4:]\n",
    "#print(lista[4:])\n",
    "print(lista2)\n",
    "#e\n",
    "for elemento in lista:\n",
    "    print(elemento)"
   ]
  },
  {
   "cell_type": "markdown",
   "id": "88fab141",
   "metadata": {},
   "source": [
    "### **7)** Diccionario : diagrama de Flujo o pseudocódigo (Total 10 pts)\n",
    "Problema:\n",
    "Crea un programa que recorra una lista y cree un diccionario que contenga el número de veces que aparece cada número en la lista.\n",
    "\n",
    "    Ejemplo: [12, 23, 5, 12, 92, 5,12, 5, 29, 92, 64,23]\n",
    "    Resultado: {12: 3, 23: 2, 5: 3, 92: 2, 29: 1, 64: 1}\n",
    "\n",
    "a) Cree un diagrama de flujo o pseudocódigo como se vio en clases del problema (Puede hacer esto en cualuquier programa como word, lucidchart, exel, power point, pero recuerda seguir la sintaxis que pasamos en clases).\n",
    "tips: saca una foto o pantallazo a tu respuesta y inserta acá de la sigueinte forma, recuerda adjuntar la imagen cuando envies tu ejercicio. (5 puntos) \n",
    "\n",
    "```![cualquiernombre](nombre_de_la_imagen.jpeg)```\n",
    "Ejemplo:\n",
    "\n",
    "![jsjsdjsere](https://www.redbionova.com/wp-content/uploads/2019/04/udla-logo-clr-580x386.jpg)\n",
    "\n",
    "b) Pase a código el problema. (5 puntos) \n",
    "\n"
   ]
  },
  {
   "cell_type": "code",
   "execution_count": 17,
   "id": "ef5a99ab",
   "metadata": {},
   "outputs": [
    {
     "name": "stdout",
     "output_type": "stream",
     "text": [
      "{12: 3, 23: 2, 5: 3, 92: 2, 29: 1, 64: 1}\n"
     ]
    }
   ],
   "source": [
    "lista = [12, 23, 5, 12, 92, 5,12, 5, 29, 92, 64,23]\n",
    "dicccionario = {}\n",
    "for i in lista:\n",
    "    dicccionario.update({i:lista.count(i)})\n",
    "\n",
    "print(dicccionario)"
   ]
  },
  {
   "cell_type": "code",
   "execution_count": null,
   "id": "de6f4d46",
   "metadata": {},
   "outputs": [],
   "source": []
  }
 ],
 "metadata": {
  "kernelspec": {
   "display_name": "Python 3",
   "language": "python",
   "name": "python3"
  },
  "language_info": {
   "codemirror_mode": {
    "name": "ipython",
    "version": 3
   },
   "file_extension": ".py",
   "mimetype": "text/x-python",
   "name": "python",
   "nbconvert_exporter": "python",
   "pygments_lexer": "ipython3",
   "version": "3.8.13"
  }
 },
 "nbformat": 4,
 "nbformat_minor": 5
}
