{
 "cells": [
  {
   "cell_type": "markdown",
   "id": "198ea12a",
   "metadata": {},
   "source": [
    "## Clase 18 Junio 2022\n",
    "==================================================\n",
    "## Anuncios:\n",
    "\n",
    "### Hoy se entrega para su desarrollo el EJ4, el 25 de Junio se realizarán las presentaciones de su trabajo.\n",
    "\n",
    "## Sábado 2 de Julio, los que deben Cátedra/Ejercicio recuperativo se tomará en clases (modalidad presencial)\n",
    "\n",
    "## Examen es el 9 de Julio. \n",
    "\n",
    "============================================="
   ]
  },
  {
   "cell_type": "markdown",
   "id": "55f27dc7",
   "metadata": {},
   "source": [
    "### Practicando con datos"
   ]
  },
  {
   "cell_type": "markdown",
   "id": "ba470053",
   "metadata": {},
   "source": [
    "## Ejercicio : \n",
    "Obtenido de [Source](https://colab.research.google.com/github/asalber/aprendeconalf/blob/master/content/es/docencia/python/ejercicios/soluciones/matplotlib/ejercicio8.ipynb)\n",
    "\n",
    "El fichero [titanic.csv](https://raw.githubusercontent.com/datasciencedojo/datasets/master/titanic.csv) contiene información sobre los pasajeros del Titanic. Crear un dataframe con Pandas y a partir de él generar los siguientes diagramas.\n",
    "\n",
    "1. Diagrama de sectores con los fallecidos y supervivientes.\n",
    "2. Histograma con las edades.\n",
    "3. Diagrama de barras con el número de personas en cada clase.\n",
    "3. Diagrama de barras con el número de personas fallecidas y supervivientes en cada clase.\n",
    "4. Diagrama de barras con el número de personas fallecidas y supervivientes acumuladas en cada clase.\n",
    "\n",
    "## Saber sobre los datos [Aqui](https://www.kaggle.com/competitions/titanic/data)"
   ]
  },
  {
   "cell_type": "code",
   "execution_count": 65,
   "id": "35f37f55",
   "metadata": {},
   "outputs": [
    {
     "data": {
      "text/html": [
       "<div>\n",
       "<style scoped>\n",
       "    .dataframe tbody tr th:only-of-type {\n",
       "        vertical-align: middle;\n",
       "    }\n",
       "\n",
       "    .dataframe tbody tr th {\n",
       "        vertical-align: top;\n",
       "    }\n",
       "\n",
       "    .dataframe thead th {\n",
       "        text-align: right;\n",
       "    }\n",
       "</style>\n",
       "<table border=\"1\" class=\"dataframe\">\n",
       "  <thead>\n",
       "    <tr style=\"text-align: right;\">\n",
       "      <th></th>\n",
       "      <th>PassengerId</th>\n",
       "      <th>Survived</th>\n",
       "      <th>Pclass</th>\n",
       "      <th>Name</th>\n",
       "      <th>Sex</th>\n",
       "      <th>Age</th>\n",
       "      <th>SibSp</th>\n",
       "      <th>Parch</th>\n",
       "      <th>Ticket</th>\n",
       "      <th>Fare</th>\n",
       "      <th>Cabin</th>\n",
       "      <th>Embarked</th>\n",
       "    </tr>\n",
       "  </thead>\n",
       "  <tbody>\n",
       "    <tr>\n",
       "      <th>0</th>\n",
       "      <td>1</td>\n",
       "      <td>0</td>\n",
       "      <td>3</td>\n",
       "      <td>Braund, Mr. Owen Harris</td>\n",
       "      <td>male</td>\n",
       "      <td>22.0</td>\n",
       "      <td>1</td>\n",
       "      <td>0</td>\n",
       "      <td>A/5 21171</td>\n",
       "      <td>7.2500</td>\n",
       "      <td>NaN</td>\n",
       "      <td>S</td>\n",
       "    </tr>\n",
       "    <tr>\n",
       "      <th>1</th>\n",
       "      <td>2</td>\n",
       "      <td>1</td>\n",
       "      <td>1</td>\n",
       "      <td>Cumings, Mrs. John Bradley (Florence Briggs Th...</td>\n",
       "      <td>female</td>\n",
       "      <td>38.0</td>\n",
       "      <td>1</td>\n",
       "      <td>0</td>\n",
       "      <td>PC 17599</td>\n",
       "      <td>71.2833</td>\n",
       "      <td>C85</td>\n",
       "      <td>C</td>\n",
       "    </tr>\n",
       "    <tr>\n",
       "      <th>2</th>\n",
       "      <td>3</td>\n",
       "      <td>1</td>\n",
       "      <td>3</td>\n",
       "      <td>Heikkinen, Miss. Laina</td>\n",
       "      <td>female</td>\n",
       "      <td>26.0</td>\n",
       "      <td>0</td>\n",
       "      <td>0</td>\n",
       "      <td>STON/O2. 3101282</td>\n",
       "      <td>7.9250</td>\n",
       "      <td>NaN</td>\n",
       "      <td>S</td>\n",
       "    </tr>\n",
       "    <tr>\n",
       "      <th>3</th>\n",
       "      <td>4</td>\n",
       "      <td>1</td>\n",
       "      <td>1</td>\n",
       "      <td>Futrelle, Mrs. Jacques Heath (Lily May Peel)</td>\n",
       "      <td>female</td>\n",
       "      <td>35.0</td>\n",
       "      <td>1</td>\n",
       "      <td>0</td>\n",
       "      <td>113803</td>\n",
       "      <td>53.1000</td>\n",
       "      <td>C123</td>\n",
       "      <td>S</td>\n",
       "    </tr>\n",
       "    <tr>\n",
       "      <th>4</th>\n",
       "      <td>5</td>\n",
       "      <td>0</td>\n",
       "      <td>3</td>\n",
       "      <td>Allen, Mr. William Henry</td>\n",
       "      <td>male</td>\n",
       "      <td>35.0</td>\n",
       "      <td>0</td>\n",
       "      <td>0</td>\n",
       "      <td>373450</td>\n",
       "      <td>8.0500</td>\n",
       "      <td>NaN</td>\n",
       "      <td>S</td>\n",
       "    </tr>\n",
       "    <tr>\n",
       "      <th>5</th>\n",
       "      <td>6</td>\n",
       "      <td>0</td>\n",
       "      <td>3</td>\n",
       "      <td>Moran, Mr. James</td>\n",
       "      <td>male</td>\n",
       "      <td>NaN</td>\n",
       "      <td>0</td>\n",
       "      <td>0</td>\n",
       "      <td>330877</td>\n",
       "      <td>8.4583</td>\n",
       "      <td>NaN</td>\n",
       "      <td>Q</td>\n",
       "    </tr>\n",
       "    <tr>\n",
       "      <th>6</th>\n",
       "      <td>7</td>\n",
       "      <td>0</td>\n",
       "      <td>1</td>\n",
       "      <td>McCarthy, Mr. Timothy J</td>\n",
       "      <td>male</td>\n",
       "      <td>54.0</td>\n",
       "      <td>0</td>\n",
       "      <td>0</td>\n",
       "      <td>17463</td>\n",
       "      <td>51.8625</td>\n",
       "      <td>E46</td>\n",
       "      <td>S</td>\n",
       "    </tr>\n",
       "    <tr>\n",
       "      <th>7</th>\n",
       "      <td>8</td>\n",
       "      <td>0</td>\n",
       "      <td>3</td>\n",
       "      <td>Palsson, Master. Gosta Leonard</td>\n",
       "      <td>male</td>\n",
       "      <td>2.0</td>\n",
       "      <td>3</td>\n",
       "      <td>1</td>\n",
       "      <td>349909</td>\n",
       "      <td>21.0750</td>\n",
       "      <td>NaN</td>\n",
       "      <td>S</td>\n",
       "    </tr>\n",
       "    <tr>\n",
       "      <th>8</th>\n",
       "      <td>9</td>\n",
       "      <td>1</td>\n",
       "      <td>3</td>\n",
       "      <td>Johnson, Mrs. Oscar W (Elisabeth Vilhelmina Berg)</td>\n",
       "      <td>female</td>\n",
       "      <td>27.0</td>\n",
       "      <td>0</td>\n",
       "      <td>2</td>\n",
       "      <td>347742</td>\n",
       "      <td>11.1333</td>\n",
       "      <td>NaN</td>\n",
       "      <td>S</td>\n",
       "    </tr>\n",
       "    <tr>\n",
       "      <th>9</th>\n",
       "      <td>10</td>\n",
       "      <td>1</td>\n",
       "      <td>2</td>\n",
       "      <td>Nasser, Mrs. Nicholas (Adele Achem)</td>\n",
       "      <td>female</td>\n",
       "      <td>14.0</td>\n",
       "      <td>1</td>\n",
       "      <td>0</td>\n",
       "      <td>237736</td>\n",
       "      <td>30.0708</td>\n",
       "      <td>NaN</td>\n",
       "      <td>C</td>\n",
       "    </tr>\n",
       "    <tr>\n",
       "      <th>10</th>\n",
       "      <td>11</td>\n",
       "      <td>1</td>\n",
       "      <td>3</td>\n",
       "      <td>Sandstrom, Miss. Marguerite Rut</td>\n",
       "      <td>female</td>\n",
       "      <td>4.0</td>\n",
       "      <td>1</td>\n",
       "      <td>1</td>\n",
       "      <td>PP 9549</td>\n",
       "      <td>16.7000</td>\n",
       "      <td>G6</td>\n",
       "      <td>S</td>\n",
       "    </tr>\n",
       "    <tr>\n",
       "      <th>11</th>\n",
       "      <td>12</td>\n",
       "      <td>1</td>\n",
       "      <td>1</td>\n",
       "      <td>Bonnell, Miss. Elizabeth</td>\n",
       "      <td>female</td>\n",
       "      <td>58.0</td>\n",
       "      <td>0</td>\n",
       "      <td>0</td>\n",
       "      <td>113783</td>\n",
       "      <td>26.5500</td>\n",
       "      <td>C103</td>\n",
       "      <td>S</td>\n",
       "    </tr>\n",
       "  </tbody>\n",
       "</table>\n",
       "</div>"
      ],
      "text/plain": [
       "    PassengerId  Survived  Pclass  \\\n",
       "0             1         0       3   \n",
       "1             2         1       1   \n",
       "2             3         1       3   \n",
       "3             4         1       1   \n",
       "4             5         0       3   \n",
       "5             6         0       3   \n",
       "6             7         0       1   \n",
       "7             8         0       3   \n",
       "8             9         1       3   \n",
       "9            10         1       2   \n",
       "10           11         1       3   \n",
       "11           12         1       1   \n",
       "\n",
       "                                                 Name     Sex   Age  SibSp  \\\n",
       "0                             Braund, Mr. Owen Harris    male  22.0      1   \n",
       "1   Cumings, Mrs. John Bradley (Florence Briggs Th...  female  38.0      1   \n",
       "2                              Heikkinen, Miss. Laina  female  26.0      0   \n",
       "3        Futrelle, Mrs. Jacques Heath (Lily May Peel)  female  35.0      1   \n",
       "4                            Allen, Mr. William Henry    male  35.0      0   \n",
       "5                                    Moran, Mr. James    male   NaN      0   \n",
       "6                             McCarthy, Mr. Timothy J    male  54.0      0   \n",
       "7                      Palsson, Master. Gosta Leonard    male   2.0      3   \n",
       "8   Johnson, Mrs. Oscar W (Elisabeth Vilhelmina Berg)  female  27.0      0   \n",
       "9                 Nasser, Mrs. Nicholas (Adele Achem)  female  14.0      1   \n",
       "10                    Sandstrom, Miss. Marguerite Rut  female   4.0      1   \n",
       "11                           Bonnell, Miss. Elizabeth  female  58.0      0   \n",
       "\n",
       "    Parch            Ticket     Fare Cabin Embarked  \n",
       "0       0         A/5 21171   7.2500   NaN        S  \n",
       "1       0          PC 17599  71.2833   C85        C  \n",
       "2       0  STON/O2. 3101282   7.9250   NaN        S  \n",
       "3       0            113803  53.1000  C123        S  \n",
       "4       0            373450   8.0500   NaN        S  \n",
       "5       0            330877   8.4583   NaN        Q  \n",
       "6       0             17463  51.8625   E46        S  \n",
       "7       1            349909  21.0750   NaN        S  \n",
       "8       2            347742  11.1333   NaN        S  \n",
       "9       0            237736  30.0708   NaN        C  \n",
       "10      1           PP 9549  16.7000    G6        S  \n",
       "11      0            113783  26.5500  C103        S  "
      ]
     },
     "execution_count": 65,
     "metadata": {},
     "output_type": "execute_result"
    }
   ],
   "source": [
    "#Con esto lee los datos directos\n",
    "import pandas as pd\n",
    "import io\n",
    "import requests\n",
    "url=\"https://raw.githubusercontent.com/datasciencedojo/datasets/master/titanic.csv\"\n",
    "s=requests.get(url).content\n",
    "df_titanic=pd.read_csv(io.StringIO(s.decode('utf-8')))\n",
    "df_titanic.head(12)"
   ]
  },
  {
   "cell_type": "markdown",
   "id": "2ca804cd",
   "metadata": {},
   "source": [
    "#### 1. Diagrama de sectores con los fallecidos y supervivientes."
   ]
  },
  {
   "cell_type": "code",
   "execution_count": 74,
   "id": "3c4e161b",
   "metadata": {},
   "outputs": [
    {
     "data": {
      "text/plain": [
       "0    549\n",
       "1    342\n",
       "Name: Survived, dtype: int64"
      ]
     },
     "execution_count": 74,
     "metadata": {},
     "output_type": "execute_result"
    }
   ],
   "source": [
    "import pandas as pd \n",
    "import matplotlib.pyplot as plt \n",
    "\n",
    "# Sacar el conteo final de fallecidos y supervivientes\n",
    "survived_count = df_titanic.Survived.value_counts()\n",
    "survived_count\n",
    "\n",
    "#Survided: 0 = No, 1 = Yes"
   ]
  },
  {
   "cell_type": "code",
   "execution_count": 73,
   "id": "4805cffe",
   "metadata": {},
   "outputs": [
    {
     "data": {
      "image/png": "[encoded data removed]",
      "text/plain": [
       "<Figure size 432x288 with 1 Axes>"
      ]
     },
     "metadata": {},
     "output_type": "display_data"
    }
   ],
   "source": [
    "# Creamos la figura y los ejes\n",
    "fig, ax = plt.subplots()\n",
    "survived_count.plot(kind = \"pie\", labels = [\"Muertos\", \"Supervivientes\"], title = \"Distribución de supervivientes\")\n",
    "plt.show()"
   ]
  },
  {
   "cell_type": "code",
   "execution_count": 75,
   "id": "365ee68f",
   "metadata": {},
   "outputs": [
    {
     "data": {
      "image/png": "[encoded data removed]",
      "text/plain": [
       "<Figure size 432x288 with 1 Axes>"
      ]
     },
     "metadata": {
      "needs_background": "light"
     },
     "output_type": "display_data"
    }
   ],
   "source": [
    "# Histograma de edades\n",
    "df_titanic.Age.plot(kind = \"hist\", title = \"Histograma de edades\")\n",
    "plt.show()"
   ]
  },
  {
   "cell_type": "code",
   "execution_count": 76,
   "id": "b41efc83",
   "metadata": {},
   "outputs": [
    {
     "data": {
      "image/png": "[encoded data removed]",
      "text/plain": [
       "<Figure size 432x288 with 1 Axes>"
      ]
     },
     "metadata": {
      "needs_background": "light"
     },
     "output_type": "display_data"
    }
   ],
   "source": [
    "# Diagrama de barras con el número de personas de cada clase\n",
    "#  1 = 1st, 2 = 2nd, 3 = 3rd\n",
    "df_titanic.Pclass.value_counts().plot(kind = \"bar\", title = \"Número de personas por clase\")\n",
    "plt.show()"
   ]
  },
  {
   "cell_type": "code",
   "execution_count": 77,
   "id": "3e831da7",
   "metadata": {
    "scrolled": true
   },
   "outputs": [
    {
     "data": {
      "image/png": "[encoded data removed]",
      "text/plain": [
       "<Figure size 432x288 with 1 Axes>"
      ]
     },
     "metadata": {
      "needs_background": "light"
     },
     "output_type": "display_data"
    }
   ],
   "source": [
    "# Otra forma\n",
    "df_titanic.groupby(\"Pclass\").size().plot(kind = \"bar\", title = \"Número de personas por clase\")\n",
    "plt.show()"
   ]
  },
  {
   "cell_type": "code",
   "execution_count": 78,
   "id": "7db7f5f5",
   "metadata": {},
   "outputs": [
    {
     "data": {
      "image/png": "[encoded data removed]",
      "text/plain": [
       "<Figure size 432x288 with 1 Axes>"
      ]
     },
     "metadata": {
      "needs_background": "light"
     },
     "output_type": "display_data"
    }
   ],
   "source": [
    "# Diagrama de barras con el número de personas fallecidas y supervivientes de cada clase\n",
    "df_titanic.groupby([\"Pclass\", \"Survived\"]).size().unstack().plot(kind = \"bar\", title = \"Número de personas fallecidas y supervivientes por clase\")\n",
    "plt.show()"
   ]
  },
  {
   "cell_type": "code",
   "execution_count": 79,
   "id": "b3366347",
   "metadata": {},
   "outputs": [
    {
     "data": {
      "image/png": "[encoded data removed]",
      "text/plain": [
       "<Figure size 432x288 with 1 Axes>"
      ]
     },
     "metadata": {
      "needs_background": "light"
     },
     "output_type": "display_data"
    }
   ],
   "source": [
    "# Diagrama de barras con el número de personas fallecidas y supervivientes acumuladas de cada clase\n",
    "df_titanic.groupby([\"Pclass\", \"Survived\"]).size().unstack().plot(kind = \"bar\", stacked = True, title = \"Número de personas fallecidas y supervivientes por clase\")\n",
    "plt.show()"
   ]
  },
  {
   "cell_type": "markdown",
   "id": "b43829b4",
   "metadata": {},
   "source": [
    "# Clases y Objetos en Python\n",
    "\n",
    "Recordar que Python soporta la programación orientada a Objetos. Significa que podemos definir entidades agrupando o encapsulando los atributos o comportamiento de esas entidades. \n",
    "\n",
    "Las clases y los objetos sirven para crear tu propio`tipo de datos`, es decir, tipos de datos definidos por el usuario. \n",
    "\n",
    "Una `clase` es un tipo de dato definido por el usuario, y la crear `instancias` de una clase hace relación a la creación de objetos de ese tipo. \n",
    "\n",
    "Las clases y los objetos son considerados los principales bloques de desarrollo para Python, el cual es un lenguaje de programación orientado a objetos.\n",
    "\n",
    "[Fuente](https://github.com/jvadillo/aprende-python-desde-cero-a-experto/blob/master/manuscript/09-Clases-y-Objetos.md) \n",
    "\n",
    "#### Creación de una clase en Python"
   ]
  },
  {
   "cell_type": "code",
   "execution_count": 41,
   "id": "3f62ad60",
   "metadata": {},
   "outputs": [],
   "source": [
    "#El nombre de la clase sigue las mismas reglas que los nombres de variables en Python\n",
    "#Pueden comenzar con una letra o un subrayado _ y sólo pueden contener letras, números o guiones bajos.\n",
    "\n",
    "class NombreClase:\n",
    "    pass"
   ]
  },
  {
   "cell_type": "code",
   "execution_count": 42,
   "id": "5fdf696c",
   "metadata": {},
   "outputs": [],
   "source": [
    "#Definimos clase Persona\n",
    "\n",
    "class Persona:\n",
    "    pass"
   ]
  },
  {
   "cell_type": "code",
   "execution_count": 43,
   "id": "18e95e2d",
   "metadata": {},
   "outputs": [],
   "source": [
    "## Creamos una instancia (objeto) de esta clase Persona\n",
    "\n",
    "melissa = Persona()"
   ]
  },
  {
   "cell_type": "markdown",
   "id": "0ae7c964",
   "metadata": {},
   "source": [
    "Hemos creado un nuevo objeto \"melissa\" del tipo Persona. Entonces, para crear un objeto solamente debemos escribir el nombre de la clase, seguido de unos paréntesis. \n",
    "\n",
    "Podemos identificar de qué clase es melissa, y qué espacio ocupa en la memoria escribiendo: print melissa."
   ]
  },
  {
   "cell_type": "code",
   "execution_count": 44,
   "id": "8e4c4d76",
   "metadata": {},
   "outputs": [
    {
     "name": "stdout",
     "output_type": "stream",
     "text": [
      "<__main__.Persona object at 0x104f7c0a0>\n"
     ]
    }
   ],
   "source": [
    "print (melissa)"
   ]
  },
  {
   "cell_type": "markdown",
   "id": "b41dc325",
   "metadata": {},
   "source": [
    "#### Atributos\n",
    "\n",
    "Recordar que los atributos son las propiedades o características de una clase. Podemos ir añadiendo propiedades a la clase persona de la sigueinte forma:"
   ]
  },
  {
   "cell_type": "code",
   "execution_count": 45,
   "id": "bb3b8afa",
   "metadata": {},
   "outputs": [],
   "source": [
    "class Persona:\n",
    "    #Aqui estariamos definiendo los atributos de la clase Persona\n",
    "    name = ''\n",
    "    genero = ''"
   ]
  },
  {
   "cell_type": "markdown",
   "id": "46032111",
   "metadata": {},
   "source": [
    "Vamos a crear un nuevo objeto del tipo Persona con más detalle, completando los atributos: "
   ]
  },
  {
   "cell_type": "code",
   "execution_count": 46,
   "id": "08c0fdff",
   "metadata": {},
   "outputs": [],
   "source": [
    "class Persona:\n",
    "    nombre = 'Melissa'\n",
    "    edad = '33'\n",
    "    genero = 'F'"
   ]
  },
  {
   "cell_type": "markdown",
   "id": "59d37262",
   "metadata": {},
   "source": [
    "#### Métodos\n",
    "\n",
    "Los métodos son cómo funciones en Python, ya que se definen con la palabra clave `def` y cuentan con el mismo formato que las funciones. \n",
    "\n",
    "Definamos un método que imprima el `nombre` y el `género`  de una `Persona`\n",
    "\n",
    "Si bien los métodos son como funciones, la difercia esta en que los métodos necesitan tener un argumento convenientemente llamado `self`, que se refiere al objeto del método que está siendo llamado (es decir melissa).\n",
    "\n",
    "\n",
    "\n",
    " La clase se verá de la siguiente manera:"
   ]
  },
  {
   "cell_type": "code",
   "execution_count": 47,
   "id": "f92ba4ca",
   "metadata": {},
   "outputs": [
    {
     "name": "stdout",
     "output_type": "stream",
     "text": [
      "Melissa\n",
      "F\n"
     ]
    }
   ],
   "source": [
    "class Persona:\n",
    "    #Aqui estariamos definiendo los atributos de la clase Persona\n",
    "    nombre = ''\n",
    "    genero = ''\n",
    "    \n",
    "    #Aqui estariamos definiendo los métodos \n",
    "    def print_nombre(self):\n",
    "        print (self.nombre)\n",
    "        \n",
    "    def print_genero(self):\n",
    "        print (self.genero)\n",
    "        \n",
    "###\n",
    "\n",
    "melissa = Persona()\n",
    "melissa.nombre = 'Melissa'\n",
    "melissa.genero = 'F'\n",
    "\n",
    "melissa.print_nombre()\n",
    "melissa.print_genero()"
   ]
  },
  {
   "cell_type": "markdown",
   "id": "e18a999b",
   "metadata": {},
   "source": [
    "#### Inicialización\n",
    "\n",
    "Anteriormente hemos inicializado nombre y genero, dándoles un valor vacío ''. \n",
    "\n",
    "Pero hay una forma más elegante de inicializar variables con sus valores predeterminados. El inicializador es un método especial, con nombre `__init__` (el método se considera especial y será tratado de forma especial, es por eso que tiene subrayados dobles al principio y al final), también se conoce como constructor.\n",
    "\n",
    "\n",
    "El parámetro `self` de los métodos es una referencia a la propia instancia y se utiliza para acceder a las variables que pertenecen a la clase. Si no se define un constructor, la clase hereda uno que únicamente recibe el argumento self.\n",
    "\n",
    "Vamos a modificar el programa anterior para utilizar el inicializador:\n"
   ]
  },
  {
   "cell_type": "code",
   "execution_count": 48,
   "id": "0d4ee839",
   "metadata": {},
   "outputs": [
    {
     "name": "stdout",
     "output_type": "stream",
     "text": [
      "Melissa\n",
      "F\n"
     ]
    }
   ],
   "source": [
    "class Persona:\n",
    "    def __init__(self, n, g):\n",
    "        self.nombre = n\n",
    "        self.genero = g\n",
    "\n",
    "    \n",
    "    def print_nombre(self):\n",
    "        print (self.nombre)\n",
    "        \n",
    "    def print_genero(self):\n",
    "        print (self.genero)\n",
    "        \n",
    "###\n",
    "#melissa.nombre = 'Melissa'\n",
    "#melissa.genero = 'F'\n",
    "\n",
    "melissa = Persona('Melissa', 'F')\n",
    "\n",
    "\n",
    "melissa.print_nombre()\n",
    "melissa.print_genero()"
   ]
  },
  {
   "cell_type": "markdown",
   "id": "1c025a90",
   "metadata": {},
   "source": [
    "####  Otro ejemplo\n"
   ]
  },
  {
   "cell_type": "code",
   "execution_count": 49,
   "id": "280dbf47",
   "metadata": {},
   "outputs": [],
   "source": [
    "class Persona: \n",
    "    # atributos\n",
    "    nombre = \"Carlos\"\n",
    "    edad = 24 \n",
    "\n",
    "    # metodos\n",
    "    def camina(self):\n",
    "        print(self.nombre + \" está caminando\")"
   ]
  },
  {
   "cell_type": "code",
   "execution_count": 50,
   "id": "d7fd3e9b",
   "metadata": {},
   "outputs": [
    {
     "name": "stdout",
     "output_type": "stream",
     "text": [
      "Carlos está caminando\n",
      "Carlos\n",
      "24\n"
     ]
    }
   ],
   "source": [
    "p1 = Persona() # la variable p1 contiene un objeto de la clase Persona\n",
    "p1.camina()\n",
    "print(p1.nombre)  \n",
    "print(p1.edad)"
   ]
  },
  {
   "cell_type": "markdown",
   "id": "4f111f46",
   "metadata": {},
   "source": [
    "Una función dentro de una clase vendría siendo el método. \n",
    "\n",
    "El método especial `__init__ `conocido como \"constructor\"  sirve para inicializar un objeto. Al crear un objeto siempre se llama al constructor. Una diferencia importante con otros lenguajes como Java es que solo se puede definir un único constructor."
   ]
  },
  {
   "cell_type": "code",
   "execution_count": 51,
   "id": "d27dad86",
   "metadata": {},
   "outputs": [],
   "source": [
    "class Persona:  \n",
    "    def __init__(self, nombre, apellidos, edad):  \n",
    "        self.nombre= nombre\n",
    "        self.apellidos = apellidos \n",
    "        self.edad = edad \n",
    "\n",
    "    def camina(self):\n",
    "        print(self.nombre + \" está caminando\")"
   ]
  },
  {
   "cell_type": "markdown",
   "id": "649d1052",
   "metadata": {},
   "source": [
    "En la creación del objeto es necesario indicar los argumentos del constructor:"
   ]
  },
  {
   "cell_type": "code",
   "execution_count": 52,
   "id": "e55ca64a",
   "metadata": {},
   "outputs": [
    {
     "name": "stdout",
     "output_type": "stream",
     "text": [
      "Melissa está caminando\n",
      "Melissa\n",
      "Alegría\n",
      "25\n"
     ]
    }
   ],
   "source": [
    "p1 = Persona(\"Melissa\", \"Alegría\", 25)\n",
    "p1.camina()\n",
    "print(p1.nombre)  \n",
    "print(p1.apellidos)\n",
    "print(p1.edad)"
   ]
  },
  {
   "cell_type": "markdown",
   "id": "f02020f8",
   "metadata": {},
   "source": [
    "#### Atributos de clase vs Atributos de instancia\n",
    "\n",
    "- Los atributos definidos dentro del constructor (__init__) se conocen como atributos de instancia.\n",
    "\n",
    "- Los atributos definidos dentro de la clase pero fuera del constructor se conocen como atributos de clase.\n",
    "\n",
    "La principal diferencia es que un atributto de clase puede ser accedido aunque no existan instancias de la clase. Además, si se modifica su valor, se modificará el valor en todas las instancias existentes de dicha clase."
   ]
  },
  {
   "cell_type": "code",
   "execution_count": 53,
   "id": "502b3a3c",
   "metadata": {},
   "outputs": [
    {
     "name": "stdout",
     "output_type": "stream",
     "text": [
      "c1: Estatico 123 - Instancia: 456\n",
      "c1: Estatico 123 - Instancia: 789\n"
     ]
    }
   ],
   "source": [
    "class Demo:\n",
    "    atrib_estatico = 123 # compartido por todos los objetos\n",
    "    def __init__(self,numero):\n",
    "        self.atrib_instancia = numero # específico de cada objeto\n",
    "\n",
    "c1 = Demo(456)\n",
    "c2 = Demo(789)\n",
    "\n",
    "# Valor inicial\n",
    "print(f\"c1: Estatico {c1.atrib_estatico} - Instancia: {c1.atrib_instancia}\")\n",
    "# output: C1: Estatico 123 - Instancia: 456\n",
    "print(f\"c1: Estatico {c2.atrib_estatico} - Instancia: {c2.atrib_instancia}\")\n",
    "# output: C2: Estatico 123 - Instancia: 789\n",
    "\n"
   ]
  },
  {
   "cell_type": "code",
   "execution_count": 54,
   "id": "06b508d3",
   "metadata": {},
   "outputs": [
    {
     "name": "stdout",
     "output_type": "stream",
     "text": [
      "C2: Estatico -1 - Instancia: 789\n",
      "C2: Estatico -1 - Instancia: 789\n"
     ]
    }
   ],
   "source": [
    "Demo.atrib_estatico = -1\n",
    " \n",
    "print(f\"C2: Estatico {c2.atrib_estatico} - Instancia: {c2.atrib_instancia}\")\n",
    "# output: C2: Estatico -1 - Instancia: 456\n",
    "print(f\"C2: Estatico {c2.atrib_estatico} - Instancia: {c2.atrib_instancia}\")\n",
    "# output: C2: Estatico -1 - Instancia: 789\n",
    "\n"
   ]
  },
  {
   "cell_type": "code",
   "execution_count": 55,
   "id": "ff117117",
   "metadata": {},
   "outputs": [
    {
     "name": "stdout",
     "output_type": "stream",
     "text": [
      "C1: Estatico -1 - Instancia: 999\n",
      "C2: Estatico -1 - Instancia: 789\n"
     ]
    }
   ],
   "source": [
    "c1.atrib_instancia = 999\n",
    "  \n",
    "print(f\"C1: Estatico {c1.atrib_estatico} - Instancia: {c1.atrib_instancia}\")\n",
    "# output: C1: Estatico -1 - Instancia: 999\n",
    "\n",
    "print(f\"C2: Estatico {c2.atrib_estatico} - Instancia: {c2.atrib_instancia}\")\n",
    "# output: C2: Estatico -1 - Instancia: 789"
   ]
  },
  {
   "cell_type": "code",
   "execution_count": 56,
   "id": "ac8442ec",
   "metadata": {},
   "outputs": [
    {
     "name": "stdout",
     "output_type": "stream",
     "text": [
      "Camila está caminando\n",
      "Camila\n",
      "55\n"
     ]
    }
   ],
   "source": [
    "class Persona:  \n",
    "    def __init__(self, nombre, apellidos, edad):  \n",
    "        self.nombre= nombre\n",
    "        self.apellidos = apellidos \n",
    "        self.edad = edad \n",
    "    \n",
    "    def camina(self): # es necesario indicar 'self' como primer argumento\n",
    "        print(self.nombre + \" está caminando\")\n",
    "\n",
    "p1 = Persona(\"Camila\", \"Miranda\", 55) # no hay que pasarle 'self'\n",
    "p1.camina() # no hay que pasarle 'self'\n",
    "print(p1.nombre)  \n",
    "print(p1.edad)"
   ]
  },
  {
   "cell_type": "markdown",
   "id": "e22d1f3e",
   "metadata": {},
   "source": [
    "#### Private y protected"
   ]
  },
  {
   "cell_type": "markdown",
   "id": "ff2e879f",
   "metadata": {},
   "source": [
    "A diferencia de otros lenguajes de POO, todos los métodos y atributos en Python son `públicos`. Es decir, no es posible definir una variable como private o protected.\n",
    "\n",
    "Existe una convención de añadir como prefijo un guión bajo `_` a los atributos que consideramos como protected y dos guiones bajos `__`a las variables que consideramos private."
   ]
  },
  {
   "cell_type": "code",
   "execution_count": 58,
   "id": "10348232",
   "metadata": {},
   "outputs": [],
   "source": [
    "class Persona:\n",
    "    def __init__(self, nombre, edad):\n",
    "        self._nombre = nombre  # atributo protected \n",
    "        self.__edad = edad # atributo private"
   ]
  },
  {
   "cell_type": "markdown",
   "id": "85897a37",
   "metadata": {},
   "source": [
    "### Ejercicios de estudio --> Prueba/Ejercicio recuperativos y Examen\n",
    "\n",
    "Esta clase fue basada en ejemplos de una repositorio en linea [Link](https://github.com/jvadillo/aprende-python-desde-cero-a-experto/blob/master/manuscript/09-Clases-y-Objetos.md)\n",
    "\n",
    "Vaya a este link y como tarea, realizar estos 4 ejericios."
   ]
  },
  {
   "cell_type": "code",
   "execution_count": null,
   "id": "5a537486",
   "metadata": {},
   "outputs": [],
   "source": []
  }
 ],
 "metadata": {
  "kernelspec": {
   "display_name": "Python 3",
   "language": "python",
   "name": "python3"
  },
  "language_info": {
   "codemirror_mode": {
    "name": "ipython",
    "version": 3
   },
   "file_extension": ".py",
   "mimetype": "text/x-python",
   "name": "python",
   "nbconvert_exporter": "python",
   "pygments_lexer": "ipython3",
   "version": "3.8.13"
  }
 },
 "nbformat": 4,
 "nbformat_minor": 5
}
