{
 "cells": [
  {
   "cell_type": "markdown",
   "id": "edf2cd0a",
   "metadata": {},
   "source": [
    "# Clase 5  (23 de abril.)\n",
    "\n",
    "\n",
    "\n",
    "### Temas:\n",
    "\n",
    "* Estructuras de control\n",
    "* Funciones\n",
    "\n"
   ]
  },
  {
   "cell_type": "markdown",
   "id": "73b01cef",
   "metadata": {},
   "source": [
    "\n",
    "# Estructuras de control\n",
    "\n",
    "\n",
    "En Python tiene las estructuras de control como if (elif, else); for, while (else, break, continue, pass); las funciones range() y xrange(). En esta lección se describen las estructuras de control del lenguaje Python, mostrando ejemplos prácticos y útiles.\n",
    "\n",
    "\n",
    "\n",
    "Antes de continuar, verificar que puedes imprimir tildes y letras como la Ñ. Si no es así, debes adicionar la siguiente línea a tu código:\n",
    "\n",
    "```# -*- coding: utf-8 -*-```\n"
   ]
  },
  {
   "cell_type": "code",
   "execution_count": 3,
   "id": "fee87b40",
   "metadata": {},
   "outputs": [
    {
     "name": "stdout",
     "output_type": "stream",
     "text": [
      "En el Ñágara encontré un Ñandú\n"
     ]
    }
   ],
   "source": [
    "print (\"En el Ñágara encontré un Ñandú\")"
   ]
  },
  {
   "cell_type": "markdown",
   "id": "db1f602e",
   "metadata": {},
   "source": [
    "### Ciclos o bucles y condiciones\n",
    "\n",
    "#### Diferencia entre `if` y `elif`\n",
    "\n",
    "Imaginemos que tenemos un número y queremos saber si es divisible entre 2 o 3. Podriamos usar dos \"if\" preguntando si primero es divisible por 2 y luego si es divisible por 3. Debemos saber que si usamos if, todas las expresiones serán siempre evaluadas."
   ]
  },
  {
   "cell_type": "code",
   "execution_count": 14,
   "id": "5129c5ef",
   "metadata": {},
   "outputs": [
    {
     "name": "stdout",
     "output_type": "stream",
     "text": [
      "30 es divisible entre 2\n",
      "30 es divisible entre 3\n"
     ]
    }
   ],
   "source": [
    "a = 30\n",
    "if a % 2 == 0:\n",
    "    print(f\"{a} es divisible entre 2\")\n",
    "if a % 3 == 0:\n",
    "    print(f\"{a} es divisible entre 3\")\n"
   ]
  },
  {
   "cell_type": "markdown",
   "id": "161061ae",
   "metadata": {},
   "source": [
    "Si usamos `*elif*`, debemos saber que si una condición anterior se cumple (ya sea en el `if` u otro `elif`), ese `*elif*` no se evaluará"
   ]
  },
  {
   "cell_type": "code",
   "execution_count": 15,
   "id": "282d6321",
   "metadata": {},
   "outputs": [
    {
     "name": "stdout",
     "output_type": "stream",
     "text": [
      "30 es divisible entre 2\n"
     ]
    }
   ],
   "source": [
    "a = 30\n",
    "#a = 21\n",
    "if a % 2 == 0:\n",
    "    print(f\"{a} es divisible entre 2\")\n",
    "elif a % 3 == 0:\n",
    "    print(f\"{a} es divisible entre 3\")\n"
   ]
  },
  {
   "cell_type": "markdown",
   "id": "80a04d29",
   "metadata": {},
   "source": [
    ">**Importante**\n",
    ">> En los casos en los que las condiciones sean excluyentes (si una se cumple las otras son falsas) debes usar siempre `elif` porque es más eficiente."
   ]
  },
  {
   "cell_type": "code",
   "execution_count": 23,
   "id": "afe20a7a",
   "metadata": {},
   "outputs": [
    {
     "name": "stdout",
     "output_type": "stream",
     "text": [
      "El número es 0\n"
     ]
    }
   ],
   "source": [
    "x = 0\n",
    "\n",
    "if x == 0:\n",
    "    print(\"El número es 0\")\n",
    "if x == 1:\n",
    "    print(\"El número es 1\")\n",
    "\n"
   ]
  },
  {
   "cell_type": "markdown",
   "id": "bbf8e59f",
   "metadata": {},
   "source": [
    "La expresión x == 1 se evalúa aunque el número sea un 0..... Esto no es para nada eficiente ya que sabemos que en este paso, ya el valor no puede ser un 1. \n",
    "\n",
    "Usamos entonces elif, y de esa forma, como el número es un 0, ya no debe pasar a la sigueinte línea."
   ]
  },
  {
   "cell_type": "code",
   "execution_count": 25,
   "id": "d99146c9",
   "metadata": {},
   "outputs": [
    {
     "name": "stdout",
     "output_type": "stream",
     "text": [
      "El número es 0\n"
     ]
    }
   ],
   "source": [
    "x = 0\n",
    "\n",
    "if x == 0:\n",
    "    print(\"El número es 0\")\n",
    "elif x == 1:\n",
    "    print(\"El número es 1\")\n",
    "else:\n",
    "    print(\"No puedo saber que número es\")"
   ]
  },
  {
   "cell_type": "code",
   "execution_count": 26,
   "id": "cc937629",
   "metadata": {},
   "outputs": [
    {
     "name": "stdout",
     "output_type": "stream",
     "text": [
      "La variable \"a\" no vale 1 ni 2.\n"
     ]
    }
   ],
   "source": [
    "#Otro ejemplo\n",
    "a = 50\n",
    "\n",
    "if a == 1:\n",
    "    print('La variable \"a\" vale 1.')\n",
    "elif a == 2:\n",
    "    print('La variable \"a\" no vale 1, sino 2.')\n",
    "else:\n",
    "    print('La variable \"a\" no vale 1 ni 2.')\n"
   ]
  },
  {
   "cell_type": "code",
   "execution_count": 29,
   "id": "bf4927c1",
   "metadata": {},
   "outputs": [
    {
     "name": "stdout",
     "output_type": "stream",
     "text": [
      "El elemento \"b\" está contenido en \"lista\".\n"
     ]
    }
   ],
   "source": [
    "# Se puede tener una condicion en una lista:\n",
    "\n",
    "lista = ['a', 'b', 'd']\n",
    "\n",
    "if 'b' in lista:\n",
    "    print('El elemento \"b\" está contenido en \"lista\".')\n",
    "else:\n",
    "    print('El elemento \"b\" no está contenido en \"lista\".')\n"
   ]
  },
  {
   "cell_type": "markdown",
   "id": "ebb1ed2f",
   "metadata": {},
   "source": [
    "### Bucles: La sentencia While\n",
    "Los bucles permiten ejecutar un bloque de código tantas veces como queramos.\n",
    "\n",
    "La sentencia `while` permite ejecutar un bloque de código mientras la expresión que definamos se cumpla (es decir, devuelva `True`). Python interpretará como `True` cualquier valor distinto a `0` o `None`. \n",
    "\n",
    "En otras palabras, nos permite ejecutar una o más operaciones mientras se cumpla una condición.\n",
    "\n",
    "En algún momento algunas de las instrucciones dentro del bloque debe lograr que la condición no se cumpla. Dicho de otra forma, debe existir una condición de salida o término del ciclo.\n",
    "\n",
    "```\n",
    "while condicion:\n",
    "\n",
    "    codigo a implementar\n",
    "```\n"
   ]
  },
  {
   "cell_type": "code",
   "execution_count": 33,
   "id": "de5d4548",
   "metadata": {},
   "outputs": [
    {
     "name": "stdout",
     "output_type": "stream",
     "text": [
      "1\n",
      "2\n",
      "3\n",
      "4\n",
      "5\n",
      "6\n",
      "7\n",
      "8\n",
      "9\n",
      "10\n"
     ]
    }
   ],
   "source": [
    "i = 1\n",
    "while i <= 10:\n",
    "    print(i)\n",
    "    i += 1"
   ]
  },
  {
   "cell_type": "code",
   "execution_count": 34,
   "id": "22c95791",
   "metadata": {},
   "outputs": [
    {
     "name": "stdout",
     "output_type": "stream",
     "text": [
      "10\n",
      "9\n",
      "8\n",
      "7\n",
      "6\n",
      "5\n",
      "4\n",
      "3\n",
      "2\n",
      "1\n",
      "0\n"
     ]
    }
   ],
   "source": [
    "i = 10\n",
    "while i >= 0:\n",
    "    print(i)\n",
    "    i -= 1"
   ]
  },
  {
   "cell_type": "code",
   "execution_count": 30,
   "id": "dc45aab9",
   "metadata": {},
   "outputs": [
    {
     "name": "stdout",
     "output_type": "stream",
     "text": [
      "Iteración número 1\n",
      "Iteración número 2\n",
      "Iteración número 3\n",
      "Iteración número 4\n",
      "Iteración número 5\n",
      "¡Fin!\n"
     ]
    }
   ],
   "source": [
    "contador = 0\n",
    "while(contador < 5):\n",
    "    # Se ejecutará mientras la variable contador sea menor a 5.\n",
    "    contador = contador+1\n",
    "    print(\"Iteración número\",contador)\n",
    "print (\"¡Fin!\")"
   ]
  },
  {
   "cell_type": "markdown",
   "id": "6e3f3c6d",
   "metadata": {},
   "source": [
    "Se puede detener una ejecución de forma voluntaria con `break`:"
   ]
  },
  {
   "cell_type": "code",
   "execution_count": 31,
   "id": "25a71c32",
   "metadata": {},
   "outputs": [
    {
     "name": "stdout",
     "output_type": "stream",
     "text": [
      "Iteración número 1\n",
      "Iteración número 2\n",
      "Iteración número 3\n",
      "¡Fin!\n"
     ]
    }
   ],
   "source": [
    "contador = 0\n",
    "while(contador < 5):\n",
    "    contador = contador+1\n",
    "    print(\"Iteración número\",contador)\n",
    "    if contador == 3:\n",
    "        break\n",
    "print (\"¡Fin!\")"
   ]
  },
  {
   "cell_type": "markdown",
   "id": "58352a9b",
   "metadata": {},
   "source": [
    "Se puede utilizar `continue` para saltar una iteración:"
   ]
  },
  {
   "cell_type": "code",
   "execution_count": 32,
   "id": "3b8d3e07",
   "metadata": {},
   "outputs": [
    {
     "name": "stdout",
     "output_type": "stream",
     "text": [
      "Iteración número 1\n",
      "Iteración número 2\n",
      "Iteración número 4\n",
      "Iteración número 5\n",
      "¡Fin!\n"
     ]
    }
   ],
   "source": [
    "contador = 0\n",
    "while(contador < 5):\n",
    "    contador = contador+1\n",
    "    if contador == 3:\n",
    "        continue\n",
    "    print(\"Iteración número {}\".format(contador))\n",
    "print (\"¡Fin!\")"
   ]
  },
  {
   "cell_type": "code",
   "execution_count": 35,
   "id": "a93bacbb",
   "metadata": {},
   "outputs": [
    {
     "name": "stdout",
     "output_type": "stream",
     "text": [
      "0\n",
      "1\n",
      "3\n",
      "4\n",
      "5\n",
      "6\n"
     ]
    }
   ],
   "source": [
    "## Usando break y continue juntas\n",
    "i = -1\n",
    "while i <= 10:\n",
    "    i += 1\n",
    "    if i == 2:\n",
    "        continue\n",
    "    if i == 7:\n",
    "        break\n",
    "    print(i"
   ]
  },
  {
   "cell_type": "markdown",
   "id": "1cc74d43",
   "metadata": {},
   "source": [
    "Vamos a pedir un numero entero para usarlo como inicio en el ciclo `while`, y además vamos a imprimir cual fue el número de salida del ciclo"
   ]
  },
  {
   "cell_type": "code",
   "execution_count": 36,
   "id": "2fe487fe",
   "metadata": {},
   "outputs": [
    {
     "name": "stdout",
     "output_type": "stream",
     "text": [
      "ingrese un número entero: 5\n"
     ]
    }
   ],
   "source": [
    "numero = int(input('ingrese un número entero: '))"
   ]
  },
  {
   "cell_type": "code",
   "execution_count": 37,
   "id": "d07dbfa9",
   "metadata": {},
   "outputs": [
    {
     "name": "stdout",
     "output_type": "stream",
     "text": [
      "5\n",
      "8\n",
      "11\n",
      "14\n",
      "17\n",
      "20\n",
      "\n",
      " El número 23 fue la salida de la condición\n"
     ]
    }
   ],
   "source": [
    "#numero = 5 # se debe definir antes de entrar al while \n",
    "\n",
    "while numero <= 20:\n",
    "    print(numero)\n",
    "    #numero = numero + 3  # Acumulador\n",
    "    numero +=3\n",
    "    \n",
    "print(\"\\n El número {} fue la salida de la condición\".format(numero))\n"
   ]
  },
  {
   "cell_type": "markdown",
   "id": "1f079fe2",
   "metadata": {},
   "source": [
    "#### Uso de else dentro de unn while: \n",
    "Se puede utilizar tras un bucle while. Esto significa que una vez finalizado el bloque while, se ejecutará lo que esté dentro del else:\n"
   ]
  },
  {
   "cell_type": "code",
   "execution_count": 62,
   "id": "2e95dd68",
   "metadata": {},
   "outputs": [
    {
     "name": "stdout",
     "output_type": "stream",
     "text": [
      "Iteración número 1\n",
      "Iteración número 2\n",
      "Iteración número 3\n",
      "Iteración número 4\n",
      "Iteración número 5\n",
      "Bucle while finalizado\n"
     ]
    }
   ],
   "source": [
    "count = 0\n",
    "while(count < 5):\n",
    "    count = count+1\n",
    "    print(\"Iteración número {}\".format(count))\n",
    "else:\n",
    "    print(\"Bucle while finalizado\")"
   ]
  },
  {
   "cell_type": "markdown",
   "id": "3063befd",
   "metadata": {},
   "source": [
    "#### Validación de entrada de datos utilizando un ciclo while:\n",
    "Se pedira un numero al usuario entre 1 y 10 y luego validaremos que el numero ingresado cumple con la condicion que esté entre 1 y 10. Si no cumple, volveremos a pedirlo, pero sólo con 3 intentos.\n",
    "\n",
    "(Obserbar el uso del `and`)"
   ]
  },
  {
   "cell_type": "code",
   "execution_count": 60,
   "id": "7a53a407",
   "metadata": {},
   "outputs": [
    {
     "name": "stdout",
     "output_type": "stream",
     "text": [
      "Ingresa un número entre 1 y 10:\n",
      "90\n",
      "El número ingresado no está entre 1 y 10\n",
      "2\n",
      "Ingresa un número entre 1 y 10: \n",
      "50\n",
      "El número ingresado no está entre 1 y 10\n",
      "3\n",
      "Ingresa un número entre 1 y 10: \n",
      "6\n",
      "\n",
      " El número ingresado fue :  6\n"
     ]
    }
   ],
   "source": [
    "number = int(input(\"Ingresa un número entre 1 y 10:\\n\"))\n",
    "contador = 1\n",
    "while (number < 1 or number > 10) and contador < 3:\n",
    "    print(\"El número ingresado no está entre 1 y 10\")    \n",
    "    #print(\"\\n El número ingresado fue : \", number)\n",
    "    contador +=1\n",
    "    #print(contador)\n",
    "    number = int(input(\"Ingresa un número entre 1 y 10: \\n\"))\n",
    "\n",
    "\n",
    "if (contador == 3) and (number < 1 or number > 10):   \n",
    "    print('excede el número de intentos')\n",
    "else:    \n",
    "    print(\"\\n El número ingresado fue : \", number)\n"
   ]
  },
  {
   "cell_type": "markdown",
   "id": "39cc0400",
   "metadata": {},
   "source": [
    "## Bucles For\n",
    "\n",
    "A diferencia de otros lenguajes de programación, en Python la sentencia FOR itera únicamente por secuencias (listas, tuplas, cadenas de caracteres,etc).\n",
    "\n",
    "La sintaxis general de los bucles for es la siguiente:\n",
    "\n",
    "```\n",
    "for i in [1,2,3]:\n",
    "    print(i)\n",
    "```"
   ]
  },
  {
   "cell_type": "code",
   "execution_count": 63,
   "id": "fd3bd2c7",
   "metadata": {},
   "outputs": [
    {
     "name": "stdout",
     "output_type": "stream",
     "text": [
      "1\n",
      "2\n",
      "3\n",
      "4\n",
      "5\n"
     ]
    }
   ],
   "source": [
    "# recorriendo una lista\n",
    "for i in [1,2,3,4,5]:\n",
    "    print(i)\n"
   ]
  },
  {
   "cell_type": "code",
   "execution_count": 64,
   "id": "3ab9b4df",
   "metadata": {},
   "outputs": [
    {
     "name": "stdout",
     "output_type": "stream",
     "text": [
      "Melissa\n",
      "Ana\n",
      "Juan\n",
      "Alexis\n"
     ]
    }
   ],
   "source": [
    "# recorriendo una lista de string\n",
    "alumnos = [\"Melissa\", \"Ana\", \"Juan\", \"Alexis\"]\n",
    "for alumno in alumnos:\n",
    "    print(alumno)"
   ]
  },
  {
   "cell_type": "code",
   "execution_count": 66,
   "id": "0c0b94f3",
   "metadata": {},
   "outputs": [
    {
     "name": "stdout",
     "output_type": "stream",
     "text": [
      "H\n",
      "o\n",
      "l\n",
      "a\n"
     ]
    }
   ],
   "source": [
    "## recorriendo un string\n",
    "frase = \"Hola\"\n",
    "for c in frase:\n",
    "    print(c)"
   ]
  },
  {
   "cell_type": "markdown",
   "id": "fda8ecbd",
   "metadata": {},
   "source": [
    "#### Range\n",
    "\n",
    "La función range()\n",
    "\n",
    "La función range([start,] stop [, step]) devuelve una secuencia de números. Es por ello que se utiliza de forma frecuente para iterar:"
   ]
  },
  {
   "cell_type": "code",
   "execution_count": 69,
   "id": "e66a53d1",
   "metadata": {},
   "outputs": [
    {
     "data": {
      "text/plain": [
       "[0, 1, 2, 3, 4, 5, 6, 7, 8, 9]"
      ]
     },
     "execution_count": 69,
     "metadata": {},
     "output_type": "execute_result"
    }
   ],
   "source": [
    "range(10)\n",
    "list(range(10))\n"
   ]
  },
  {
   "cell_type": "code",
   "execution_count": 70,
   "id": "049b430a",
   "metadata": {},
   "outputs": [
    {
     "data": {
      "text/plain": [
       "[2, 3, 4, 5, 6, 7, 8, 9]"
      ]
     },
     "execution_count": 70,
     "metadata": {},
     "output_type": "execute_result"
    }
   ],
   "source": [
    "list(range(2,10))"
   ]
  },
  {
   "cell_type": "markdown",
   "id": "1b3cb429",
   "metadata": {},
   "source": [
    "Es importante darse cuenta de que el comando range(0, 3) crea una sucesión de números entre 0 y 2.\n",
    "\n"
   ]
  },
  {
   "cell_type": "code",
   "execution_count": 71,
   "id": "3d8f4814",
   "metadata": {},
   "outputs": [
    {
     "name": "stdout",
     "output_type": "stream",
     "text": [
      "0\n",
      "1\n",
      "2\n"
     ]
    }
   ],
   "source": [
    "for i in range(0, 3):\n",
    "    print(i)\n"
   ]
  },
  {
   "cell_type": "markdown",
   "id": "3478fc83",
   "metadata": {},
   "source": [
    "Los comandos break y continue pueden resultar muy útiles. El primero termina el bucle en el instante de su ejecución, y el segundo termina la iteración actual del bucle y pasa a la siguiente.\n",
    "\n",
    "\n"
   ]
  },
  {
   "cell_type": "code",
   "execution_count": 77,
   "id": "e7ebcec2",
   "metadata": {},
   "outputs": [
    {
     "name": "stdout",
     "output_type": "stream",
     "text": [
      "0\n",
      "1\n",
      "3\n"
     ]
    }
   ],
   "source": [
    "for i in range(0, 10):\n",
    "    if i == 2:\n",
    "        continue\n",
    "    if i == 4:\n",
    "        break\n",
    "    print(i)\n"
   ]
  },
  {
   "cell_type": "code",
   "execution_count": 92,
   "id": "7cd93ccd",
   "metadata": {},
   "outputs": [
    {
     "name": "stdout",
     "output_type": "stream",
     "text": [
      "4\n",
      "12\n",
      "14\n",
      "21\n",
      "22\n",
      "31\n"
     ]
    }
   ],
   "source": [
    "#Se mostrará cuando hasta que la suma total sea mayor que 30\n",
    "numeros = [4,8,2,7,1,9,3,5]\n",
    "total = 0\n",
    "\n",
    "for n in numeros:\n",
    "    total += n\n",
    "    print(total)\n",
    "    if total > 30:\n",
    "        break"
   ]
  },
  {
   "cell_type": "code",
   "execution_count": 94,
   "id": "5bddf11d",
   "metadata": {},
   "outputs": [
    {
     "name": "stdout",
     "output_type": "stream",
     "text": [
      "Numero par, no lo sumamos\n",
      "Numero par, no lo sumamos\n",
      "Numero par, no lo sumamos\n",
      "Numero par, no lo sumamos\n"
     ]
    }
   ],
   "source": [
    "## mostrar mensaje de no sumar los numeros pares, usado continue\n",
    "numeros = [4,8,2,7,1,5,2,5]\n",
    "total = 0\n",
    "\n",
    "for num in numeros:\n",
    "    if num % 2 == 0:\n",
    "        print(\"Numero par, no lo sumamos\")\n",
    "        continue\n",
    "    total += n\n"
   ]
  },
  {
   "cell_type": "markdown",
   "id": "a6ff2012",
   "metadata": {},
   "source": [
    "Sumaremos los numeros en una lista:\n"
   ]
  },
  {
   "cell_type": "code",
   "execution_count": 97,
   "id": "826c9582",
   "metadata": {},
   "outputs": [
    {
     "name": "stdout",
     "output_type": "stream",
     "text": [
      "1\n",
      "1 1\n",
      "2\n",
      "2 3\n",
      "3\n",
      "3 6\n",
      "4\n",
      "4 10\n",
      "5\n",
      "5 15\n",
      "6\n",
      "6 21\n",
      "7\n",
      "7 28\n",
      "8\n",
      "8 36\n",
      "9\n",
      "9 45\n",
      "\n",
      " La suma es: 45\n"
     ]
    }
   ],
   "source": [
    "suma = 0\n",
    "for i in [1,2,3,4,5,6,7,8,9]:\n",
    "    print(i)\n",
    "    suma +=i\n",
    "    print(i,suma)\n",
    "\n",
    "    \n",
    "print('\\n La suma es: ' + str(suma))\n"
   ]
  },
  {
   "cell_type": "markdown",
   "id": "57df6238",
   "metadata": {},
   "source": [
    "#### For-Else: \n",
    "Python permite definir un bloque de código que se ejecutará una vez finalice la iteración por todos los elementos de una lista. Es importante mencionar que no se ejecutará si se ha finalizado mediante break."
   ]
  },
  {
   "cell_type": "code",
   "execution_count": 100,
   "id": "6015e012",
   "metadata": {},
   "outputs": [
    {
     "name": "stdout",
     "output_type": "stream",
     "text": [
      "Ana\n",
      "Javiera\n",
      "Rosa\n",
      "Cecilia\n",
      "No quedan más alumnas.\n"
     ]
    }
   ],
   "source": [
    "alumnas = [\"Ana\", \"Javiera\", \"Rosa\", \"Cecilia\"]\n",
    "for alumna in alumnas:\n",
    "    print(alumna)\n",
    "else:\n",
    "    print(\"No quedan más alumnas.\")"
   ]
  },
  {
   "cell_type": "markdown",
   "id": "7f8ecc6a",
   "metadata": {},
   "source": [
    "##### También podemos indicar el inicio, fin y step:"
   ]
  },
  {
   "cell_type": "code",
   "execution_count": 108,
   "id": "befc4813",
   "metadata": {},
   "outputs": [
    {
     "name": "stdout",
     "output_type": "stream",
     "text": [
      "Números del 5 al 10\n",
      "5, 6, 7, 8, 9, "
     ]
    }
   ],
   "source": [
    "print(\"Números del 5 al 10\") \n",
    "for i in range(5,  10): \n",
    "    print(i,  end=', ')\n"
   ]
  },
  {
   "cell_type": "code",
   "execution_count": 113,
   "id": "7d59537a",
   "metadata": {},
   "outputs": [
    {
     "name": "stdout",
     "output_type": "stream",
     "text": [
      "Números impares del 1 al 10\n",
      "1... 3... 5... 7... 9... "
     ]
    }
   ],
   "source": [
    "print(\"Números impares del 1 al 10\")\n",
    "for i in range(1,  10,  2):\n",
    "    print(i,  end='... ')"
   ]
  },
  {
   "cell_type": "code",
   "execution_count": 114,
   "id": "d8d39b13",
   "metadata": {},
   "outputs": [
    {
     "name": "stdout",
     "output_type": "stream",
     "text": [
      "Números pares del 0 al 10\n",
      "0... 2... 4... 6... 8... "
     ]
    }
   ],
   "source": [
    "print(\"Números pares del 0 al 10\")\n",
    "for i in range(0,  10,  2):\n",
    "    print(i,  end='... ')"
   ]
  },
  {
   "cell_type": "markdown",
   "id": "b465c15d",
   "metadata": {},
   "source": [
    "#### Para iterar por una lista utilizando el índice, basta con combinarlo con la función len():"
   ]
  },
  {
   "cell_type": "code",
   "execution_count": 116,
   "id": "79985348",
   "metadata": {},
   "outputs": [
    {
     "name": "stdout",
     "output_type": "stream",
     "text": [
      "Rodolfo\n",
      "Juan\n",
      "Alexis\n",
      "Luis\n"
     ]
    }
   ],
   "source": [
    "alumnos = [\"Rodolfo\", \"Juan\", \"Alexis\", \"Luis\"]\n",
    "for i in range(len(alumnos)):\n",
    "    print(alumnos[i])"
   ]
  },
  {
   "cell_type": "markdown",
   "id": "66c13b16",
   "metadata": {},
   "source": [
    "\n",
    "***Los ciclos tienen cuatro componentes básicos:***\n",
    "\n",
    "```Inicialización```:  Es cuando se debe inicializar la variable que va a iterar, por ejemplo ```i = 0``` o la variable **i** del for (for **i** in lista)\n",
    "\n",
    "```Condición de repetición```: Hasta donde se ejecuta el ciclo. Por ejemplo ```for i in range(0,3)``` se ejecutará siempre y cuando i sea 0, 1 y 2. Ej.2: ```while x <= 6``` se ejecutará siempre y cuando x sea menor o igual a 6.\n",
    "\n",
    "```Cuerpo del ciclo```: Se ejecutan las instrucciones determinadas por el ususario dentro del ciclo.\n",
    "```Actualizar```: Actualizar la variable que itera para continuar el ciclo. En un ciclo while, es necesario incremetar/disminuir la variable Por ejemplo ```x = x + 1``` , ```x +=1``` . Por oreo lado en el for al usar ```range``` por defecto se incrementa en uno. \n"
   ]
  },
  {
   "cell_type": "markdown",
   "id": "61adf0b0",
   "metadata": {},
   "source": [
    "## ¿Cómo podemos  hacer las tablas de multiplicar usando ciclos\n",
    "\n",
    " 1) Necesitamos una varible que almacenará lo que se mostrará en pantalla = string\n",
    " \n",
    " 2) el primer cliclo for nos sirve para definir el rango de la tabla de multiplicar a realizar. Ej tabla del 1 al 3 , se colocará range(1,4)\n",
    " \n",
    " 3) El segundo ciclo, define los digitos que queremos multiplicar por ejemplo del 1 al 10 --> range(1,11)\n",
    " \n",
    " 4) Podemos definir una variable que contenga el valor de la multiplicación que serán los digitos del primer ciclo multiplicado por los digitos del segundo ciclo\n",
    " \n",
    " 5) Finalmente mostramos el resultado y si queremos mostrar con salto de linea, agregrar a la variable almacenadora string."
   ]
  },
  {
   "cell_type": "code",
   "execution_count": 146,
   "id": "4f2c8b37",
   "metadata": {},
   "outputs": [
    {
     "name": "stdout",
     "output_type": "stream",
     "text": [
      "1 * 1 = 1\n",
      "1 * 2 = 2\n",
      "1 * 3 = 3\n",
      "1 * 4 = 4\n",
      "1 * 5 = 5\n",
      "1 * 6 = 6\n",
      "1 * 7 = 7\n",
      "1 * 8 = 8\n",
      "1 * 9 = 9\n",
      "1 * 10 = 10\n",
      "2 * 1 = 2\n",
      "2 * 2 = 4\n",
      "2 * 3 = 6\n",
      "2 * 4 = 8\n",
      "2 * 5 = 10\n",
      "2 * 6 = 12\n",
      "2 * 7 = 14\n",
      "2 * 8 = 16\n",
      "2 * 9 = 18\n",
      "2 * 10 = 20\n",
      "3 * 1 = 3\n",
      "3 * 2 = 6\n",
      "3 * 3 = 9\n",
      "3 * 4 = 12\n",
      "3 * 5 = 15\n",
      "3 * 6 = 18\n",
      "3 * 7 = 21\n",
      "3 * 8 = 24\n",
      "3 * 9 = 27\n",
      "3 * 10 = 30\n",
      "\n"
     ]
    }
   ],
   "source": [
    "string=''\n",
    "\n",
    "for i in range(1,4):\n",
    "    for j in range(1,11):\n",
    "        mult = i * j\n",
    "        string += str(i) + ' * ' +str(j) + ' = ' + str(mult) \n",
    "        string +=\"\\n\"\n",
    "        \n",
    "print(string)"
   ]
  },
  {
   "cell_type": "markdown",
   "id": "32c85f2f",
   "metadata": {},
   "source": [
    "## ¿Cómo se pueden hacer figuras usando ciclos? \n",
    "\n",
    "\n",
    "Vamos a ver como podemos hacer la siguiente figura:\n",
    "\n",
    "    +\n",
    "    ++\n",
    "    +++\n",
    "    ++++\n",
    "    +++++\n",
    "\n",
    "La secuencia es pensar que hay 5 filas y que a medida que la fila aumenta, tambien aumenta el numero de + por columna. Es decir, en la fila 1, hay 1 ```+```: en la fila2, hay 2 ```+```...etc hasta fila n hay n ```+```. \n",
    "Se debe llenar cada fila con asteriscos según el número de fila donde se encuentra la iteración. Al final se concatena un salto de línea. Para ello podemos usar :\n",
    "1. Un ciclo for \n",
    "\n",
    "2. Un ciclo for anidado.\n",
    "\n",
    "3. Concatenar un salto de línea.\n",
    "\n",
    "- Se define el número de filas: ```n=5```\n",
    "\n",
    "- Definimos una variable que contiene lo que vamos a imprimir: ```cointain```\n",
    "\n",
    "- En el primer ciclo for, generamos una variable ```i``` que tenga un ranfo de ```n+1```  ya que ```n``` es igual a 0, 1, 2, 3, 4. En este caso, en la primera vuelta ```i=0``` y no entra en el segundo for porque  no hay rango de 0. Es por ello que para lograr entrar en el segundo for las veces que necesitamos, se debe sumar ```1``` al valor ```n``` : ```range (n+1)```"
   ]
  },
  {
   "cell_type": "code",
   "execution_count": 147,
   "id": "f741bf13",
   "metadata": {},
   "outputs": [
    {
     "name": "stdout",
     "output_type": "stream",
     "text": [
      "\n",
      "+\n",
      "++\n",
      "+++\n",
      "++++\n",
      "+++++\n",
      "\n"
     ]
    }
   ],
   "source": [
    "n = 5\n",
    "\n",
    "contain =''\n",
    "for i in range(n+1):\n",
    "    for j in range(i):\n",
    "        contain +='+'\n",
    "    if i != n+1:    \n",
    "        contain +='\\n'\n",
    "        \n",
    "print(contain)"
   ]
  },
  {
   "cell_type": "markdown",
   "id": "e7dddb28",
   "metadata": {},
   "source": [
    "## Ejercicios en Clases : \n",
    "### El que muestre su ejercicio correctamente, obtendrá 0,5 décimas de nota para la cátedra de la próxima semana! (Ojo!! son décimas y no puntos de prueba)"
   ]
  },
  {
   "cell_type": "markdown",
   "id": "3b7581ca",
   "metadata": {},
   "source": [
    "1) Hacer la misma figura al revés \n",
    "\n",
    "\n",
    "    +++++\n",
    "    ++++\n",
    "    +++\n",
    "    ++\n",
    "    +\n"
   ]
  },
  {
   "cell_type": "code",
   "execution_count": null,
   "id": "01b7f6d6",
   "metadata": {},
   "outputs": [],
   "source": []
  },
  {
   "cell_type": "markdown",
   "id": "b53a78bf",
   "metadata": {},
   "source": [
    "2) Escribe un programa que solicite al usuario un nombre de usuario y contraseña. El programa mostrará el mensaje \"¡Bienvenido!\" si el usuario introduce los siguientes datos:\n",
    "```\n",
    "usuario: user\n",
    "contraseña: 1234\n",
    "```\n",
    "El programa debe permitir dejar ingresar hasta 3 intentos.\n",
    "\n",
    "Si el usuario intrododuce datos de acceso incorrectos el programa mostrará el mensaje: \"Datos incorrectos. Le quedan X intentos.\"\n",
    "\n",
    "Si los datos de acceso son incorrectos despues de los 3 intentos mostrará el mensaje \"Acceso fallido\" y el programa finalizará."
   ]
  },
  {
   "cell_type": "code",
   "execution_count": null,
   "id": "5f085f4a",
   "metadata": {},
   "outputs": [],
   "source": []
  },
  {
   "cell_type": "markdown",
   "id": "aa6ac39c",
   "metadata": {},
   "source": [
    "## Funciones\n",
    "\n",
    "- Las funciones nos permiten agrupar instrucciones y reutilizarlas.\n",
    "- Una funcion puede devolver un valor o no devolver nada. Por ejemplo, ya hemos usadao anteriormente la función ```print()``` que muestra por pantalla lo que le entregamos y la función ```input()``` que solo almacena el input entregado por el usuario.\n",
    "- Las funciones se pueden llamar desde el espacio de trabajo principal como ```función()```. Ej. ```print()```, ```len()```\n",
    "- Tambien se pueden llamar dentro de objetos como ```objeto.función()```. Ej. ```\"hola\".upper```\n",
    "- Se pueden llamar dentro de las clases como ```Clase.función()```. Ej. ```LinearRegression().fit()```\n",
    "- Se pueden llamar ademas dentro de módulos como ```módulo.función()``` Ej. ```math.sqrt()```\n",
    "\n",
    "### Algunas carateristicas\n",
    "\n",
    "- Se pueden importar desde un archivo o desde librerías externas \n",
    "- Se organizan en torno a clases y módulos\n",
    "- Se usan para la programación ***modular*** : Dividir un programa en funciones independientes.\n",
    "- Pueden tener tres partes: ***nombre***, ***parámetros*** y ***valor de retorno***\n",
    "```nombre``` no puede ser una palabra reservada  y se define como ```def```nombre_funcion\n",
    "\n",
    "***Ejemplo de donde es adecuado usar una función: Realizar una calculadora simple: se puede hacer en funciones independientes la suma, resta, multiplicación y división.***\n",
    "\n",
    "~~~\n",
    "def nombre_de_funcion(param1,param2, etc. ):\n",
    "    #Se especifica que hace la función o se agrega una descripción de la función entre comillas triples\n",
    "    \"\"\"Funcion que realiza una operación de tipo X y devuelve un valor Z\"\"\"\n",
    "    # Instrucciones se identa de 4 espacios\n",
    "    instruccion\n",
    "    instruccion\n",
    "    .\n",
    "    .\n",
    "    return value\n",
    "    \n",
    "~~~"
   ]
  },
  {
   "cell_type": "markdown",
   "id": "5572c220",
   "metadata": {},
   "source": [
    "#### Definir y llamar a una función:\n",
    "\n",
    "Se escribe la palabra reservada `def` seguida del nombre de la función y sus parámetros entre paréntesis.\n",
    "\n",
    "Para llamar a una función solo hay que escribir el nombre de la función seguida de los parámetros (si los hubiera) entre paréntesis."
   ]
  },
  {
   "cell_type": "code",
   "execution_count": 175,
   "id": "a6192b58",
   "metadata": {},
   "outputs": [],
   "source": [
    "def saludo(nombre):\n",
    "# codigo de la función\n",
    "    print(\"Hola, \" + nombre+ \". ¡Bienvenido!\")"
   ]
  },
  {
   "cell_type": "code",
   "execution_count": 176,
   "id": "b5400c07",
   "metadata": {},
   "outputs": [
    {
     "name": "stdout",
     "output_type": "stream",
     "text": [
      "Hola, Marta. ¡Bienvenido!\n"
     ]
    }
   ],
   "source": [
    "saludo('Marta')\n"
   ]
  },
  {
   "cell_type": "markdown",
   "id": "19fa03ca",
   "metadata": {},
   "source": [
    "Es posible asignar al parámetro un valor por defecto."
   ]
  },
  {
   "cell_type": "code",
   "execution_count": 177,
   "id": "2e7869da",
   "metadata": {},
   "outputs": [
    {
     "name": "stdout",
     "output_type": "stream",
     "text": [
      "Hola, Juan. ¡Bienvenido!\n"
     ]
    }
   ],
   "source": [
    "def saludo(nombre = \"Anónimo\"):  \n",
    "    print(\"Hola, \" + nombre+ \". ¡Bienvenido!\")\n",
    "\n",
    "saludo(\"Juan\") # Hola, Maitane. ¡Bienvenida!\n"
   ]
  },
  {
   "cell_type": "code",
   "execution_count": 178,
   "id": "74f7077d",
   "metadata": {},
   "outputs": [
    {
     "name": "stdout",
     "output_type": "stream",
     "text": [
      "Hola, Anónimo. ¡Bienvenido!\n"
     ]
    }
   ],
   "source": [
    "saludo() "
   ]
  },
  {
   "cell_type": "markdown",
   "id": "6401aaaa",
   "metadata": {},
   "source": [
    "* Parámetros posicionales: la posición en la que se pasan importa\n",
    "* Parámetros con palabra clave (keyword arguments): la posición no importa, se indica una clave para cada parámetro.\n"
   ]
  },
  {
   "cell_type": "code",
   "execution_count": 179,
   "id": "c1e1fc80",
   "metadata": {},
   "outputs": [
    {
     "name": "stdout",
     "output_type": "stream",
     "text": [
      "65\n",
      "65\n"
     ]
    }
   ],
   "source": [
    "def suma(a, b):\n",
    "    resultado = a + b\n",
    "    print(resultado)\n",
    "suma(45, 20) # parámentros posicionales\n",
    "suma(b=20,a=45) # parametros mediante clave"
   ]
  },
  {
   "cell_type": "markdown",
   "id": "afce0172",
   "metadata": {},
   "source": [
    "Las funciones pueden devolver un valor utilizando la palabra `return`. Una vez devuelto un valor, la función finaliza su ejecución."
   ]
  },
  {
   "cell_type": "code",
   "execution_count": 182,
   "id": "0ca5a8cc",
   "metadata": {},
   "outputs": [],
   "source": [
    "def suma(a, b):\n",
    "    resultado = a + b\n",
    "    return resultado\n",
    "\n"
   ]
  },
  {
   "cell_type": "code",
   "execution_count": 183,
   "id": "e6bb0512",
   "metadata": {},
   "outputs": [
    {
     "name": "stdout",
     "output_type": "stream",
     "text": [
      "9\n"
     ]
    }
   ],
   "source": [
    "print(suma(4,5))"
   ]
  },
  {
   "cell_type": "markdown",
   "id": "0e13f680",
   "metadata": {},
   "source": [
    "#### Funciones con argumentos múltiples\n",
    "Es posible recibir un número desconocido de parámetros añadiendo un * en la definición de la función."
   ]
  },
  {
   "cell_type": "code",
   "execution_count": 206,
   "id": "e6c3136f",
   "metadata": {},
   "outputs": [],
   "source": [
    "def suma_todo(*args):\n",
    "    for i in args:\n",
    "        print (i)\n",
    "\n"
   ]
  },
  {
   "cell_type": "code",
   "execution_count": 207,
   "id": "707fb072",
   "metadata": {},
   "outputs": [
    {
     "name": "stdout",
     "output_type": "stream",
     "text": [
      "5\n",
      "2\n",
      "12\n",
      "6\n",
      "9\n"
     ]
    }
   ],
   "source": [
    "v, w, x, y, z = 5, 2, 12, 6, 9\n",
    "suma_todo(v, w, x, y, z)\n"
   ]
  },
  {
   "cell_type": "markdown",
   "id": "65aacde3",
   "metadata": {},
   "source": [
    "## Crearemos una función menú"
   ]
  },
  {
   "cell_type": "code",
   "execution_count": 157,
   "id": "05c74659",
   "metadata": {},
   "outputs": [],
   "source": [
    "def mostrar_menu():\n",
    "    \"\"\"Funcion menu imprime el menú de opciones del banco \"\"\"\n",
    "    print (\"\\n¡Bienvenido al Banco Amigo!\")\n",
    "    print (\"Escoja una opción:\")\n",
    "    opcion = int(input(\"1. Consultar saldo\\n2. Hacer depósito\\n3. Realizar giro\\n4. Salir\\n\"))\n",
    "    \n",
    "    return opcion"
   ]
  },
  {
   "cell_type": "code",
   "execution_count": 158,
   "id": "ec20c6ee",
   "metadata": {},
   "outputs": [
    {
     "name": "stdout",
     "output_type": "stream",
     "text": [
      "Help on function mostrar_menu in module __main__:\n",
      "\n",
      "mostrar_menu()\n",
      "    Funcion menu imprime el menú de opciones del banco\n",
      "\n"
     ]
    }
   ],
   "source": [
    "help(mostrar_menu)"
   ]
  },
  {
   "cell_type": "code",
   "execution_count": 159,
   "id": "ac77d556",
   "metadata": {},
   "outputs": [
    {
     "name": "stdout",
     "output_type": "stream",
     "text": [
      "\n",
      "¡Bienvenido al Banco Amigo!\n",
      "Escoja una opción:\n",
      "1. Consultar saldo\n",
      "2. Hacer depósito\n",
      "3. Realizar giro\n",
      "4. Salir\n",
      "1\n",
      "1\n"
     ]
    }
   ],
   "source": [
    "opcion = mostrar_menu()\n",
    "print (opcion)"
   ]
  },
  {
   "cell_type": "code",
   "execution_count": 160,
   "id": "3ffa2976",
   "metadata": {},
   "outputs": [],
   "source": [
    "def mostrar_saldo(saldo):\n",
    "    print (\"Tu saldo es de {}\".format(saldo))"
   ]
  },
  {
   "cell_type": "code",
   "execution_count": 161,
   "id": "e2667dc9",
   "metadata": {},
   "outputs": [
    {
     "name": "stdout",
     "output_type": "stream",
     "text": [
      "Tu saldo es de 100000\n"
     ]
    }
   ],
   "source": [
    "saldo = 100000\n",
    "mostrar_saldo(saldo)\n"
   ]
  },
  {
   "cell_type": "code",
   "execution_count": 162,
   "id": "1c6a4435",
   "metadata": {},
   "outputs": [],
   "source": [
    "\n",
    "def incrementar_en_uno(numero):\n",
    "    \"\"\" \n",
    "    Esta función recibe cualquier numero y lo incrementa en 1. Imprime por pantalla el total de ese incremento\n",
    "    \"\"\"\n",
    "    total = numero + 1     \n",
    "    print(\"El resultado es: \", total)   \n"
   ]
  },
  {
   "cell_type": "code",
   "execution_count": 163,
   "id": "b0994367",
   "metadata": {},
   "outputs": [
    {
     "name": "stdout",
     "output_type": "stream",
     "text": [
      "El resultado es:  21\n"
     ]
    }
   ],
   "source": [
    "incrementar_en_uno(20)"
   ]
  },
  {
   "cell_type": "code",
   "execution_count": 164,
   "id": "96912630",
   "metadata": {},
   "outputs": [
    {
     "name": "stdout",
     "output_type": "stream",
     "text": [
      "El resultado es:  6.0\n"
     ]
    }
   ],
   "source": [
    "incrementar_en_uno(5.0)"
   ]
  },
  {
   "cell_type": "code",
   "execution_count": 165,
   "id": "cf552c39",
   "metadata": {},
   "outputs": [
    {
     "ename": "TypeError",
     "evalue": "can only concatenate str (not \"int\") to str",
     "output_type": "error",
     "traceback": [
      "\u001b[0;31m---------------------------------------------------------------------------\u001b[0m",
      "\u001b[0;31mTypeError\u001b[0m                                 Traceback (most recent call last)",
      "Input \u001b[0;32mIn [165]\u001b[0m, in \u001b[0;36m<cell line: 2>\u001b[0;34m()\u001b[0m\n\u001b[1;32m      1\u001b[0m \u001b[38;5;66;03m# la función no acepta str\u001b[39;00m\n\u001b[0;32m----> 2\u001b[0m \u001b[43mincrementar_en_uno\u001b[49m\u001b[43m(\u001b[49m\u001b[38;5;124;43m'\u001b[39;49m\u001b[38;5;124;43m4\u001b[39;49m\u001b[38;5;124;43m'\u001b[39;49m\u001b[43m)\u001b[49m\n",
      "Input \u001b[0;32mIn [162]\u001b[0m, in \u001b[0;36mincrementar_en_uno\u001b[0;34m(numero)\u001b[0m\n\u001b[1;32m      1\u001b[0m \u001b[38;5;28;01mdef\u001b[39;00m \u001b[38;5;21mincrementar_en_uno\u001b[39m(numero):\n\u001b[1;32m      2\u001b[0m     \u001b[38;5;124;03m\"\"\" \u001b[39;00m\n\u001b[1;32m      3\u001b[0m \u001b[38;5;124;03m    Esta función recibe cualquier numero y lo incrementa en 1. Imprime por pantalla el total de ese incremento\u001b[39;00m\n\u001b[1;32m      4\u001b[0m \u001b[38;5;124;03m    \"\"\"\u001b[39;00m\n\u001b[0;32m----> 5\u001b[0m     total \u001b[38;5;241m=\u001b[39m \u001b[43mnumero\u001b[49m\u001b[43m \u001b[49m\u001b[38;5;241;43m+\u001b[39;49m\u001b[43m \u001b[49m\u001b[38;5;241;43m1\u001b[39;49m     \n\u001b[1;32m      6\u001b[0m     \u001b[38;5;28mprint\u001b[39m(\u001b[38;5;124m\"\u001b[39m\u001b[38;5;124mEl resultado es: \u001b[39m\u001b[38;5;124m\"\u001b[39m, total)\n",
      "\u001b[0;31mTypeError\u001b[0m: can only concatenate str (not \"int\") to str"
     ]
    }
   ],
   "source": [
    "# la función no acepta str\n",
    "incrementar_en_uno('4')\n",
    "\n"
   ]
  },
  {
   "cell_type": "code",
   "execution_count": 166,
   "id": "6c7f83b3",
   "metadata": {},
   "outputs": [
    {
     "name": "stdout",
     "output_type": "stream",
     "text": [
      "Help on function incrementar_en_uno in module __main__:\n",
      "\n",
      "incrementar_en_uno(numero)\n",
      "    Esta función recibe cualquier numero y lo incrementa en 1. Imprime por pantalla el total de ese incremento\n",
      "\n"
     ]
    }
   ],
   "source": [
    "help(incrementar_en_uno)"
   ]
  },
  {
   "cell_type": "code",
   "execution_count": 167,
   "id": "681d487f",
   "metadata": {},
   "outputs": [],
   "source": [
    "# La misma función pero en vez de imprimir, retornará el número \n",
    "def incrementar_en_uno(numero):\n",
    "    \"\"\" \n",
    "    Esta función recibe cualquier número y lo incrementa en 1. Retorna el total de ese incremento\n",
    "    \"\"\"\n",
    "    total = numero + 1    \n",
    "    return total\n"
   ]
  },
  {
   "cell_type": "code",
   "execution_count": 168,
   "id": "a29be65c",
   "metadata": {},
   "outputs": [
    {
     "name": "stdout",
     "output_type": "stream",
     "text": [
      "Help on function incrementar_en_uno in module __main__:\n",
      "\n",
      "incrementar_en_uno(numero)\n",
      "    Esta función recibe cualquier número y lo incrementa en 1. Retorna el total de ese incremento\n",
      "\n"
     ]
    }
   ],
   "source": [
    "help(incrementar_en_uno)"
   ]
  },
  {
   "cell_type": "code",
   "execution_count": 169,
   "id": "4ce765e8",
   "metadata": {},
   "outputs": [
    {
     "data": {
      "text/plain": [
       "11"
      ]
     },
     "execution_count": 169,
     "metadata": {},
     "output_type": "execute_result"
    }
   ],
   "source": [
    "# Aqui en notebooks si se ve pero en un script que se corre por consola no se verá\n",
    "incrementar_en_uno(10)"
   ]
  },
  {
   "cell_type": "code",
   "execution_count": 170,
   "id": "9b248f10",
   "metadata": {},
   "outputs": [
    {
     "name": "stdout",
     "output_type": "stream",
     "text": [
      "11\n"
     ]
    }
   ],
   "source": [
    "# Una forma es mostrar explixitamente el retorno\n",
    "print(incrementar_en_uno(10)) "
   ]
  },
  {
   "cell_type": "code",
   "execution_count": 171,
   "id": "3072ab78",
   "metadata": {},
   "outputs": [
    {
     "name": "stdout",
     "output_type": "stream",
     "text": [
      "11\n"
     ]
    }
   ],
   "source": [
    "# Otra forma de mostrar es \n",
    "incremento = incrementar_en_uno(10)\n",
    "print (incremento)"
   ]
  },
  {
   "cell_type": "markdown",
   "id": "413bdfdb",
   "metadata": {},
   "source": [
    "#### Función Fahrenheit to Celsius\n"
   ]
  },
  {
   "cell_type": "code",
   "execution_count": 172,
   "id": "8437bf4c",
   "metadata": {},
   "outputs": [],
   "source": [
    "def fahrenheit2celsius(f):\n",
    "    celsius = (f + 40) / 1.8 - 40\n",
    "    return celsius\n"
   ]
  },
  {
   "cell_type": "code",
   "execution_count": 173,
   "id": "7b1120e9",
   "metadata": {},
   "outputs": [
    {
     "data": {
      "text/plain": [
       "-12.222222222222221"
      ]
     },
     "execution_count": 173,
     "metadata": {},
     "output_type": "execute_result"
    }
   ],
   "source": [
    "fahrenheit2celsius(10)"
   ]
  },
  {
   "cell_type": "code",
   "execution_count": 174,
   "id": "bef15a5d",
   "metadata": {},
   "outputs": [
    {
     "data": {
      "text/plain": [
       "-2.2222222222222214"
      ]
     },
     "execution_count": 174,
     "metadata": {},
     "output_type": "execute_result"
    }
   ],
   "source": [
    "#Es posible siempre realizar una operación con una función Ej:\n",
    "grados_celsius = fahrenheit2celsius(10)\n",
    "grados_celsius + 10"
   ]
  },
  {
   "cell_type": "markdown",
   "id": "6e83e88a",
   "metadata": {},
   "source": [
    "## Ejercicio en clase --> 0,5 décimas también:\n",
    "Escribir una función que reciba un número entero positivo y devuelva su factorial.\n",
    "\n",
    "*Para el que se le olvido matemáticas jeje:\n",
    "El factorial de un número entero positivo se define como el producto de todos los números naturales anteriores o iguales a él."
   ]
  },
  {
   "cell_type": "code",
   "execution_count": 210,
   "id": "5616c34e",
   "metadata": {},
   "outputs": [],
   "source": [
    "def factorial(n):\n",
    "    \"\"\"Función que calcula el factorial de un número entero positivo.\n",
    "    Parámetros\n",
    "    n: Es un entero positivo.\n",
    "    Devuelve el factorial de n.\n",
    "    \"\"\"\n",
    "    tmp = 1\n",
    "    for i in range(n):\n",
    "        tmp *= i+1\n",
    "    return tmp"
   ]
  },
  {
   "cell_type": "code",
   "execution_count": null,
   "id": "da74dff9",
   "metadata": {},
   "outputs": [],
   "source": []
  }
 ],
 "metadata": {
  "kernelspec": {
   "display_name": "Python 3",
   "language": "python",
   "name": "python3"
  },
  "language_info": {
   "codemirror_mode": {
    "name": "ipython",
    "version": 3
   },
   "file_extension": ".py",
   "mimetype": "text/x-python",
   "name": "python",
   "nbconvert_exporter": "python",
   "pygments_lexer": "ipython3",
   "version": "3.8.13"
  }
 },
 "nbformat": 4,
 "nbformat_minor": 5
}
