{
 "cells": [
  {
   "cell_type": "markdown",
   "id": "b24d5f34",
   "metadata": {},
   "source": [
    "## Cátedra 1 (32 puntos totales)\n",
    "\n",
    "### La cátedra se debe entregar en un archivo tipo jupyter-notebook (.ipynb) comprimido en un .zip o .rar\n",
    "Si trabaja en su entorno local, una vez que finalice, puede ir a `File` --> `Download as` --> `Notebook (.ipynb)`\n",
    "\n",
    "[Puede ser este mismo notebook, pero recuerde cambiar el nombre del archivo como se especifica a continuación]\n",
    "\n",
    "### Fecha de entrega: Lunes 2 de Mayo hasta las 23:59 pm. subir a la plataforma blackboard en el menú Evaluaciones.\n"
   ]
  },
  {
   "cell_type": "markdown",
   "id": "6b8acc1a",
   "metadata": {},
   "source": [
    "Cree un nuevo jupyter-notebook en python3 o haga una copia de este mismo notebook. Coloque como nombre al archivo: **Apellido1_Apellido2_Nombre. (1 pto)**\n",
    "\n",
    "La primera celda, hágala de tipo Markdown y escriba sus datos: **nombre completo, fecha y correo electrónico.(1pto)**\n",
    "\n",
    "- Por cada ejercicio existe una celda donde puede proporcionar su código fuente. Por favor lea bien las instrucciones de lo que se pide. \n",
    " \n",
    "- Todos los programas deben ejecutarse con Python 3 \n",
    " \n",
    "- Por favor, limpie el código y las lineas no utilizadas - las declaraciones de impresión comentadas están bien, pero elimine cualquier otra cosa no utilizada para mantener su código fácil de leer. \n",
    "\n",
    "### Todo o nada!! \n",
    "**Para cualquier código que ejecute lo que no se pide, o tenga error, tiene puntaje 0.**. Le recomiendo leer muy bien cada enunciado y hacer las preguntas correspondientes el día sábado en la clase.\n",
    "\n",
    "==================================================================================================================\n",
    "=================================================================================================================="
   ]
  },
  {
   "cell_type": "markdown",
   "id": "73be3633",
   "metadata": {},
   "source": [
    "(Primera celda tipo Markdown)\n",
    "\n",
    "Nombre:\n",
    "\n",
    "Fecha:\n",
    "\n",
    "Correo:"
   ]
  },
  {
   "cell_type": "markdown",
   "id": "d03af242",
   "metadata": {},
   "source": [
    "### Ejercicio 1 (5 puntos). Verdadero o Falso\n",
    "\n",
    "\n",
    "[ ] La etapa de mantenimiento se refiere a la escritura de las diferentes fases del ciclo de vida del software, esencialmente el análisis, diseño y codificación; junto con manuales de usuario y de referencia, así como normas para el mantenimiento.\n",
    "\n",
    "[ ] Una ventaja del modelo cascada es que lleva un orden del trabajo a realizar y una desventaja es que al ser lineal, se debe completar de forma secuencial las etapas y no se puede pasar a la etapa siguiente.\n",
    "\n",
    "[ ] En un grupo cohesivo los miembros del grupo trabajan de manera colectiva para corregir problemas sin importar quienes crearon originalmente el diseño del programa.\n",
    "\n",
    "[ ] La prueba de componentes demuestran que los componentes son compatibles, que interactúan correctamente y que tranfieren los datos correctos en el momento adecuado a través de sus interfases.\n",
    "\n",
    "[ ] La POO se basan en la modularización; a su vez, cada módulo se analiza para obtener una solución individual, lo cual significa que la POO tiene un diseño descendente.\n"
   ]
  },
  {
   "cell_type": "markdown",
   "id": "18bfd651",
   "metadata": {},
   "source": [
    "### Ejercicio 2 (5 puntos) \n",
    "Escribir un programa que pida al usuario ingresar un número entero, impar mayor o igual que 5 (>= 5) y que muestre por pantalla la siguiente figura. \n",
    "\n",
    "```\n",
    "\t*\n",
    "    **\n",
    "    ***\n",
    "    ****\n",
    "    *****\n",
    "    ****\n",
    "    ***\n",
    "    **\n",
    "    *\n",
    "```\n",
    "\n",
    "PD: Si no logra generar correctamente la figura, el puntaje es 0"
   ]
  },
  {
   "cell_type": "code",
   "execution_count": null,
   "id": "d97e06f1",
   "metadata": {},
   "outputs": [],
   "source": []
  },
  {
   "cell_type": "markdown",
   "id": "5ec62c87",
   "metadata": {},
   "source": [
    "### Ejercicio 3 (10 puntos)\n",
    "Escribe una función para la conversión de ángulos llamada `convertir_angulo`. Debe ser capaz de manejar tanto la conversión de grados a radianes como la de radianes a grados. Debe aceptar y leer dos argumentos que se le pasen: \n",
    "\n",
    "a) en primer lugar, las unidades del ángulo original (sólo debe usarse 'G' para grados, o 'R'para radianes), \n",
    "\n",
    "b) y en segundo lugar, el ángulo a convertir. \n",
    "\n",
    "A continuación, debe convertir el ángulo, tal y como se ha especificado. Finalmente, esta función debe imprimir el ángulo original y las unidades, así como el ángulo convertido y las unidades. La firma de la función debería ser \n",
    "\n",
    "`def convertir_angulo(unidades=None, angulo_original=None)`\n",
    "\n",
    "A continuación, escriba un programa corto para utilizar la función que escribió. Su programa debe pedir al usuario que introduzca las unidades (El usuario elegirá escribir 'G' para grados o 'R' para radianes) y luego pedirle que introduzca un ángulo. Utilizando los valores suministrados por el usuario, el programa debe llamar a la función 'convertir_angulo' y pasar los dos argumentos: \n",
    "\n",
    "Ejemplo:\n",
    "\n",
    "```\n",
    "#Estos dos parametrso deben pedirse al usuario:\n",
    "\n",
    "input_unidad = 'G'\n",
    "input_angulo_original = 45\n",
    "\n",
    "convertir_angulo(input_unidad, input_angulo_original)\n",
    "#la subrutina debería producir una línea de salida con el siguiente aspecto \n",
    "#Ejemplo salida para grados a radianes:\n",
    "\n",
    ">45 grados son 0,785 radianes\n",
    "```\n",
    "\n",
    "El primer ángulo y las unidades que debe reportar son los que el usuario introdujo, seguido por el ángulo y las unidades convertidas. \n",
    "\n",
    "Un ejemplo de su salida deberia verse de esta forma:\n",
    "\n",
    "```\n",
    "Ingrese ángulo a convertir : 45\n",
    "Ingrese G si su ángulo está en grados y R si su ángulo esta en radianes: G\n",
    "\n",
    "45.0 grados son 0.7854 radianes\n",
    "```\n",
    "\n",
    "**Puntos:**\n",
    "\n",
    "    Escribir bien la función de conversión= 5 puntos\n",
    "    \n",
    "    Escribir bien el programa que usa/llama a la función = 5 puntos\n",
    "\n"
   ]
  },
  {
   "cell_type": "code",
   "execution_count": null,
   "id": "2b05c5d7",
   "metadata": {},
   "outputs": [],
   "source": []
  },
  {
   "cell_type": "markdown",
   "id": "a82ffefc",
   "metadata": {},
   "source": [
    "### Ejercicio 4 (10 puntos)\n",
    "Crear una programa calculadora que pueda sumar, restar, dividir y multiplicar. La calculadora debe tener además una opción para salir del programa. Para ello crear una función ```menu()```**(2 pts)**, preguntando al usuario que opción desea seleccionar y retornando la opción:\n",
    "\n",
    "```\n",
    "** ::::::::::::::::::::::::: **\n",
    ":: Seleccione una operación ::\n",
    "** ::::::::::::::::::::::::: **\n",
    "-------------------------------\n",
    "| Suma:             ->  1     |\n",
    "| Resta:            ->  2     |\n",
    "| Multiplicación:   ->  3     |\n",
    "| División:         ->  4     |\n",
    "| Salir:            ->  5     |\n",
    "-------------------------------\n",
    "** ::::::::::::::::::::::::: **\n",
    "```\n",
    "Asegurar que la opción ingresada por el usuario es válida, si no, pedirla hasta que sea válida **(2 pts)**.\n",
    "\n",
    "Luego para cada opción elegida, debe pedir al usuario 2 números para realizar la operación.\n",
    "Para ello, genere una función para cada operacion: ```sumar()```**(1 pts)**, ```restar()```**(1 pts)**, ```dividir()```**(1 pts)** y ```multiplicar()```**(1 pts)**. Genere una última funcion ```salir()``` que imprima un mensaje de salida y termine el programa **(1 pts)**. Además el script en su conjunto debe funcionar correctamente **(1 pts)**\n"
   ]
  },
  {
   "cell_type": "code",
   "execution_count": null,
   "id": "a55ea692",
   "metadata": {},
   "outputs": [],
   "source": []
  }
 ],
 "metadata": {
  "kernelspec": {
   "display_name": "Python 3",
   "language": "python",
   "name": "python3"
  },
  "language_info": {
   "codemirror_mode": {
    "name": "ipython",
    "version": 3
   },
   "file_extension": ".py",
   "mimetype": "text/x-python",
   "name": "python",
   "nbconvert_exporter": "python",
   "pygments_lexer": "ipython3",
   "version": "3.8.13"
  }
 },
 "nbformat": 4,
 "nbformat_minor": 5
}
